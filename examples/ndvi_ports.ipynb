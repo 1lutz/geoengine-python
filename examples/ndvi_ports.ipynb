{
 "metadata": {
  "language_info": {
   "codemirror_mode": {
    "name": "ipython",
    "version": 3
   },
   "file_extension": ".py",
   "mimetype": "text/x-python",
   "name": "python",
   "nbconvert_exporter": "python",
   "pygments_lexer": "ipython3",
   "version": "3.8.5"
  },
  "orig_nbformat": 2,
  "kernelspec": {
   "name": "python385jvsc74a57bd0d9a58577022e5a7861b3c8ea3505ccc75c3f73de469fb598a66268b17ea40dc4",
   "display_name": "Python 3.8.5 64-bit ('env': venv)"
  },
  "metadata": {
   "interpreter": {
    "hash": "d9a58577022e5a7861b3c8ea3505ccc75c3f73de469fb598a66268b17ea40dc4"
   }
  }
 },
 "nbformat": 4,
 "nbformat_minor": 2,
 "cells": [
  {
   "source": [
    "# Call Geo Engine via API"
   ],
   "cell_type": "markdown",
   "metadata": {}
  },
  {
   "cell_type": "code",
   "execution_count": 6,
   "metadata": {},
   "outputs": [],
   "source": [
    "import geoengine as ge\n",
    "import datetime"
   ]
  },
  {
   "source": [
    "## Initialize"
   ],
   "cell_type": "markdown",
   "metadata": {}
  },
  {
   "cell_type": "code",
   "execution_count": 8,
   "metadata": {},
   "outputs": [],
   "source": [
    "ge.initialize(\"http://peter.geoengine.io:6060\")"
   ]
  },
  {
   "source": [
    "## Register workflow"
   ],
   "cell_type": "markdown",
   "metadata": {}
  },
  {
   "cell_type": "code",
   "execution_count": 10,
   "metadata": {},
   "outputs": [
    {
     "output_type": "error",
     "ename": "GeoEngineException",
     "evalue": "BodyDeserializeError: invalid type: string \"\\n        {\\n            \\\"type\\\": \\\"Vector\\\",\\n            \\\"operator\\\": {\\n                \\\"type\\\": \\\"RasterVectorJoin\\\",\\n                \\\"params\\\": {\\n                        \\\"names\\\": [\\\"NDVI\\\"],\\n                        \\\"aggregation\\\": \\\"none\\\"\\n                },\\n                \\\"sources\\\": {\\n                    \\\"vector\\\": {\\n                        \\\"type\\\": \\\"OgrSource\\\",\\n                        \\\"params\\\": {\\n                            \\\"dataset\\\": {\\\"internal\\\": \\\"a9623a5b-b6c5-404b-bc5a-313ff72e4e75\\\"},\\n                            \\\"attributeProjection\\\": None\\n                        }\\n                    },\\n                    \\\"rasters\\\": [{\\n                        \\\"type\\\": \\\"GdalSource\\\",\\n                        \\\"params\\\": {\\n                            \\\"dataset\\\": {\\\"internal\\\": \\\"36574dc3-560a-4b09-9d22-d5945f2b8093\\\"}\\n                        }\\n                    }]\\n                },\\n            }\\n        }\\n    \", expected struct Workflow at line 1 column 971",
     "traceback": [
      "\u001b[0;31m---------------------------------------------------------------------------\u001b[0m",
      "\u001b[0;31mGeoEngineException\u001b[0m                        Traceback (most recent call last)",
      "\u001b[0;32m<ipython-input-10-84bc0460eafc>\u001b[0m in \u001b[0;36m<module>\u001b[0;34m\u001b[0m\n\u001b[0;32m----> 1\u001b[0;31m workflow = ge.register_workflow('''\n\u001b[0m\u001b[1;32m      2\u001b[0m         {\n\u001b[1;32m      3\u001b[0m             \u001b[0;34m\"type\"\u001b[0m\u001b[0;34m:\u001b[0m \u001b[0;34m\"Vector\"\u001b[0m\u001b[0;34m,\u001b[0m\u001b[0;34m\u001b[0m\u001b[0;34m\u001b[0m\u001b[0m\n\u001b[1;32m      4\u001b[0m             \"operator\": {\n\u001b[1;32m      5\u001b[0m                 \u001b[0;34m\"type\"\u001b[0m\u001b[0;34m:\u001b[0m \u001b[0;34m\"RasterVectorJoin\"\u001b[0m\u001b[0;34m,\u001b[0m\u001b[0;34m\u001b[0m\u001b[0;34m\u001b[0m\u001b[0m\n",
      "\u001b[0;32m~/git/geoengine-python/geoengine/workflow.py\u001b[0m in \u001b[0;36mregister_workflow\u001b[0;34m(workflow)\u001b[0m\n\u001b[1;32m    129\u001b[0m     ).json()\n\u001b[1;32m    130\u001b[0m \u001b[0;34m\u001b[0m\u001b[0m\n\u001b[0;32m--> 131\u001b[0;31m     \u001b[0;32mreturn\u001b[0m \u001b[0mWorkflow\u001b[0m\u001b[0;34m(\u001b[0m\u001b[0mWorkflowId\u001b[0m\u001b[0;34m.\u001b[0m\u001b[0mfrom_response\u001b[0m\u001b[0;34m(\u001b[0m\u001b[0mworkflow_response\u001b[0m\u001b[0;34m)\u001b[0m\u001b[0;34m)\u001b[0m\u001b[0;34m\u001b[0m\u001b[0;34m\u001b[0m\u001b[0m\n\u001b[0m\u001b[1;32m    132\u001b[0m \u001b[0;34m\u001b[0m\u001b[0m\n\u001b[1;32m    133\u001b[0m \u001b[0;34m\u001b[0m\u001b[0m\n",
      "\u001b[0;32m~/git/geoengine-python/geoengine/workflow.py\u001b[0m in \u001b[0;36mfrom_response\u001b[0;34m(self, response)\u001b[0m\n\u001b[1;32m     26\u001b[0m     \u001b[0;32mdef\u001b[0m \u001b[0mfrom_response\u001b[0m\u001b[0;34m(\u001b[0m\u001b[0mself\u001b[0m\u001b[0;34m,\u001b[0m \u001b[0mresponse\u001b[0m\u001b[0;34m:\u001b[0m \u001b[0mDict\u001b[0m\u001b[0;34m[\u001b[0m\u001b[0mstr\u001b[0m\u001b[0;34m,\u001b[0m \u001b[0mstr\u001b[0m\u001b[0;34m]\u001b[0m\u001b[0;34m)\u001b[0m \u001b[0;34m->\u001b[0m \u001b[0mWorkflowId\u001b[0m\u001b[0;34m:\u001b[0m\u001b[0;34m\u001b[0m\u001b[0;34m\u001b[0m\u001b[0m\n\u001b[1;32m     27\u001b[0m         \u001b[0;32mif\u001b[0m \u001b[0;32mnot\u001b[0m \u001b[0;34m'id'\u001b[0m \u001b[0;32min\u001b[0m \u001b[0mresponse\u001b[0m\u001b[0;34m:\u001b[0m\u001b[0;34m\u001b[0m\u001b[0;34m\u001b[0m\u001b[0m\n\u001b[0;32m---> 28\u001b[0;31m             \u001b[0;32mraise\u001b[0m \u001b[0mGeoEngineException\u001b[0m\u001b[0;34m(\u001b[0m\u001b[0mresponse\u001b[0m\u001b[0;34m)\u001b[0m\u001b[0;34m\u001b[0m\u001b[0;34m\u001b[0m\u001b[0m\n\u001b[0m\u001b[1;32m     29\u001b[0m \u001b[0;34m\u001b[0m\u001b[0m\n\u001b[1;32m     30\u001b[0m         \u001b[0;32mreturn\u001b[0m \u001b[0mWorkflowId\u001b[0m\u001b[0;34m(\u001b[0m\u001b[0mresponse\u001b[0m\u001b[0;34m[\u001b[0m\u001b[0;34m'id'\u001b[0m\u001b[0;34m]\u001b[0m\u001b[0;34m)\u001b[0m\u001b[0;34m\u001b[0m\u001b[0;34m\u001b[0m\u001b[0m\n",
      "\u001b[0;31mGeoEngineException\u001b[0m: BodyDeserializeError: invalid type: string \"\\n        {\\n            \\\"type\\\": \\\"Vector\\\",\\n            \\\"operator\\\": {\\n                \\\"type\\\": \\\"RasterVectorJoin\\\",\\n                \\\"params\\\": {\\n                        \\\"names\\\": [\\\"NDVI\\\"],\\n                        \\\"aggregation\\\": \\\"none\\\"\\n                },\\n                \\\"sources\\\": {\\n                    \\\"vector\\\": {\\n                        \\\"type\\\": \\\"OgrSource\\\",\\n                        \\\"params\\\": {\\n                            \\\"dataset\\\": {\\\"internal\\\": \\\"a9623a5b-b6c5-404b-bc5a-313ff72e4e75\\\"},\\n                            \\\"attributeProjection\\\": None\\n                        }\\n                    },\\n                    \\\"rasters\\\": [{\\n                        \\\"type\\\": \\\"GdalSource\\\",\\n                        \\\"params\\\": {\\n                            \\\"dataset\\\": {\\\"internal\\\": \\\"36574dc3-560a-4b09-9d22-d5945f2b8093\\\"}\\n                        }\\n                    }]\\n                },\\n            }\\n        }\\n    \", expected struct Workflow at line 1 column 971"
     ]
    }
   ],
   "source": [
    "workflow = ge.register_workflow({\n",
    "    \"type\": \"Vector\",\n",
    "    \"operator\": {\n",
    "        \"type\": \"RasterVectorJoin\",\n",
    "        \"params\": {\n",
    "                \"names\": [\"NDVI\"],\n",
    "                \"aggregation\": \"none\"\n",
    "        },\n",
    "        \"sources\": {\n",
    "            \"vector\": {\n",
    "                \"type\": \"OgrSource\",\n",
    "                \"params\": {\n",
    "                    \"dataset\": {\"internal\": \"a9623a5b-b6c5-404b-bc5a-313ff72e4e75\"},\n",
    "                    \"attributeProjection\": None\n",
    "                }\n",
    "            },\n",
    "            \"rasters\": [{\n",
    "                \"type\": \"GdalSource\",\n",
    "                \"params\": {\n",
    "                    \"dataset\": {\"internal\": \"36574dc3-560a-4b09-9d22-d5945f2b8093\"}\n",
    "                }\n",
    "            }]\n",
    "        },\n",
    "    }\n",
    "})\n",
    "\n",
    "workflow"
   ]
  }
 ]
}