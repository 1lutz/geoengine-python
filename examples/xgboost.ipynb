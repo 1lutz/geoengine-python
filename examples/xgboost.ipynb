{
 "cells": [
  {
   "cell_type": "markdown",
   "id": "a173acc2-95df-4312-b2b3-cbdc22335a6a",
   "metadata": {},
   "source": [
    "# Training and applying a XGBoost model"
   ]
  },
  {
   "cell_type": "markdown",
   "id": "992d80d7-717c-4bff-93a7-4997672f5734",
   "metadata": {},
   "source": [
    "## Prerequisites:\n",
    "- you need to have an instance of the geo engine running with active `xgboost` feature\n",
    "- you need to download an external dataset for this example (see below for more info)\n",
    "- you need to specify the `admin_session_token` in the `settings-default.toml`\n",
    "- you need to increase the `tile_limit` in the `settings-default.toml` to a big number (e.g. 10000)\n",
    "- Set the target directory for the trained xgboost model file\n",
    "    - this assumes, `geoengine` and `geoengine-python` are located side by side in the filesystem. \n",
    "    - change path accordingly if neccessary\n",
    "    \n",
    "### NOTE: \n",
    "be aware, that this notebook will need some time to run. "
   ]
  },
  {
   "cell_type": "code",
   "execution_count": 1,
   "id": "0adc0ec1-c04e-4231-957c-8edaac9148fa",
   "metadata": {},
   "outputs": [],
   "source": [
    "import os\n",
    "\n",
    "ge_pro_model_path = os.path.join(\n",
    "    os.getcwd(), \"..\", \"..\", \"geoengine/test_data/pro/ml/xgboost/s2_10m_de_marburg\"\n",
    ")"
   ]
  },
  {
   "cell_type": "code",
   "execution_count": 2,
   "id": "3bd4eef1-1208-4295-998a-da5b4c86a10e",
   "metadata": {},
   "outputs": [],
   "source": [
    "import sys\n",
    "import time\n",
    "from datetime import datetime\n",
    "\n",
    "import matplotlib.pyplot as plt\n",
    "import numpy as np\n",
    "import pandas as pd\n",
    "import requests\n",
    "import xgboost as xgb\n",
    "from matplotlib.colors import ListedColormap\n",
    "\n",
    "import geoengine as ge\n",
    "from geoengine import StoredDataset\n",
    "from geoengine.colorizer import Colorizer\n",
    "\n",
    "ge.initialize(\n",
    "    \"http://localhost:3030\", admin_token=\"8aca8875-425a-4ef1-8ee6-cdfc62dd7525\"\n",
    ")\n",
    "session = ge.get_session()"
   ]
  },
  {
   "cell_type": "markdown",
   "id": "9e8ede17-a49d-4a69-a2a6-48e29438b781",
   "metadata": {},
   "source": [
    "## Download class label dataset\n",
    "- Download: [Mundialis Classification Map](https://data.mundialis.de/geodata/lulc-germany/classification_2019/classification_map_germany_2019_v02.tif)\n",
    "- optional: use the following cell to download the dataset and move it to the correct position in the backend.\n",
    "- alternatively you'll have to download the dataset manually and put it somewhere under the `test_data` folder of the backend"
   ]
  },
  {
   "cell_type": "code",
   "execution_count": 3,
   "id": "5ae16a39",
   "metadata": {},
   "outputs": [
    {
     "name": "stdout",
     "output_type": "stream",
     "text": [
      "Starting download of mundialis example dataset...\n",
      "\n",
      "Progress: [██████████████████████████████████████████████████] ~ 468 of 468 MB\n",
      "\n",
      "Download finished!\n",
      "File located at: /home/droenner/git/geoengine/test_data/raster/classification_map_germany_2019_v02.tif\n"
     ]
    }
   ],
   "source": [
    "def progress_bar(current, total, unit: str = \"MB\"):\n",
    "\n",
    "    done = int(50 * current / total)\n",
    "\n",
    "    current_fmt = int(current / (1000000 if unit == \"MB\" else 1))\n",
    "    total_fmt = int(total / (1000000 if unit == \"MB\" else 1))\n",
    "\n",
    "    sys.stdout.write(\n",
    "        \"\\rProgress: [{}{}] ~ {} of {} {}\".format(\n",
    "            \"█\" * done, \".\" * (50 - done), current_fmt, total_fmt, unit\n",
    "        )\n",
    "    )\n",
    "    sys.stdout.flush()\n",
    "\n",
    "\n",
    "def download(\n",
    "    filename: str = \"classification_map_germany_2019_v02.tif\",\n",
    "    url: str = \"https://data.mundialis.de/geodata/lulc-germany/classification_2019/classification_map_germany_2019_v02.tif\",\n",
    "    download_location: str = \"geoengine/test_data/raster\",\n",
    "):\n",
    "    \"\"\"\n",
    "    This method wraps the download procedure of the example dataset download.\n",
    "    It will download the dataset and place it under the specified location in your filesystem.\n",
    "\n",
    "        Parameters:\n",
    "            url (str): URL to the dataset.\n",
    "            filename (str): The name of the dataset on your filesystem.\n",
    "            download_location (str): Where the dataset should be located at on your filesystem.\n",
    "            The path is constructed relative to your notebooks location.\n",
    "\n",
    "    \"\"\"\n",
    "    import subprocess\n",
    "\n",
    "    dl = os.path.realpath(\n",
    "        f\"{os.path.join(os.getcwd(), '..', '..', f'{download_location}/{filename}')}\"\n",
    "    )\n",
    "\n",
    "    # check, if download is even neccessary\n",
    "    if os.path.exists(dl):\n",
    "        print(\"File already exists at specified path!\")\n",
    "        print(f\"Path:\\n {dl}!\")\n",
    "        return\n",
    "\n",
    "    with open(dl, \"wb\") as f:\n",
    "        response = requests.get(url, stream=True)\n",
    "        total = response.headers.get(\"content-length\")\n",
    "\n",
    "        if total is None:\n",
    "            f.write(response.content)\n",
    "        else:\n",
    "            print(\"Starting download of mundialis example dataset...\\n\")\n",
    "            downloaded = 0\n",
    "            total = int(total)\n",
    "\n",
    "            for data in response.iter_content(\n",
    "                chunk_size=max(int(total / 1000), 1024 * 1024)\n",
    "            ):\n",
    "                downloaded += len(data)\n",
    "                f.write(data)\n",
    "\n",
    "                progress_bar(downloaded, total)\n",
    "\n",
    "    print(\"\\n\\nDownload finished!\")\n",
    "    print(\"File located at: {}\".format(dl))\n",
    "\n",
    "\n",
    "# start the download\n",
    "download()"
   ]
  },
  {
   "cell_type": "markdown",
   "id": "dfe4eccc-dc84-4fcc-89ca-5655cfad574e",
   "metadata": {},
   "source": [
    "### Add the class labels to the geo engine as a known dataset\n",
    "- The classification dataset is not part of the geo engine. Therefore we need to specify the details and add the dataset manually."
   ]
  },
  {
   "cell_type": "code",
   "execution_count": 4,
   "id": "52c58488-17e8-4ce6-b738-61ac32a3becc",
   "metadata": {
    "scrolled": true
   },
   "outputs": [
    {
     "ename": "TypeError",
     "evalue": "RasterResultDescriptor.__init__() missing 3 required positional arguments: 'data_type', 'measurement', and 'spatial_reference'",
     "output_type": "error",
     "traceback": [
      "\u001b[0;31m---------------------------------------------------------------------------\u001b[0m",
      "\u001b[0;31mTypeError\u001b[0m                                 Traceback (most recent call last)",
      "Cell \u001b[0;32mIn [4], line 54\u001b[0m\n\u001b[1;32m     14\u001b[0m gdal_params \u001b[39m=\u001b[39m ge\u001b[39m.\u001b[39mGdalDatasetParameters(\n\u001b[1;32m     15\u001b[0m     {\n\u001b[1;32m     16\u001b[0m         \u001b[39m\"\u001b[39m\u001b[39mfilePath\u001b[39m\u001b[39m\"\u001b[39m: file_path,\n\u001b[0;32m   (...)\u001b[0m\n\u001b[1;32m     27\u001b[0m     }\n\u001b[1;32m     28\u001b[0m )\n\u001b[1;32m     30\u001b[0m result_descriptor_dict \u001b[39m=\u001b[39m {\n\u001b[1;32m     31\u001b[0m     \u001b[39m\"\u001b[39m\u001b[39mdataType\u001b[39m\u001b[39m\"\u001b[39m: \u001b[39m\"\u001b[39m\u001b[39mI16\u001b[39m\u001b[39m\"\u001b[39m,\n\u001b[1;32m     32\u001b[0m     \u001b[39m\"\u001b[39m\u001b[39mspatialReference\u001b[39m\u001b[39m\"\u001b[39m: \u001b[39m\"\u001b[39m\u001b[39mEPSG:32632\u001b[39m\u001b[39m\"\u001b[39m,\n\u001b[0;32m   (...)\u001b[0m\n\u001b[1;32m     51\u001b[0m     \u001b[39m\"\u001b[39m\u001b[39mresolution\u001b[39m\u001b[39m\"\u001b[39m: {\u001b[39m\"\u001b[39m\u001b[39mx\u001b[39m\u001b[39m\"\u001b[39m: \u001b[39m10.0\u001b[39m, \u001b[39m\"\u001b[39m\u001b[39my\u001b[39m\u001b[39m\"\u001b[39m: \u001b[39m-\u001b[39m\u001b[39m10.0\u001b[39m},\n\u001b[1;32m     52\u001b[0m }\n\u001b[0;32m---> 54\u001b[0m result_descriptor \u001b[39m=\u001b[39m ge\u001b[39m.\u001b[39mRasterResultDescriptor()\n\u001b[1;32m     56\u001b[0m meta_data \u001b[39m=\u001b[39m ge\u001b[39m.\u001b[39mGdalMetaDataStatic(\n\u001b[1;32m     57\u001b[0m     {\n\u001b[1;32m     58\u001b[0m         \u001b[39m\"\u001b[39m\u001b[39mtype\u001b[39m\u001b[39m\"\u001b[39m: \u001b[39m\"\u001b[39m\u001b[39mGdalStatic\u001b[39m\u001b[39m\"\u001b[39m,\n\u001b[0;32m   (...)\u001b[0m\n\u001b[1;32m     62\u001b[0m     }\n\u001b[1;32m     63\u001b[0m )\n\u001b[1;32m     65\u001b[0m add_dataset_properties \u001b[39m=\u001b[39m ge\u001b[39m.\u001b[39mAddDatasetProperties(\n\u001b[1;32m     66\u001b[0m     {\n\u001b[1;32m     67\u001b[0m         \u001b[39m\"\u001b[39m\u001b[39mname\u001b[39m\u001b[39m\"\u001b[39m: \u001b[39m\"\u001b[39m\u001b[39mclassification_map_germany_2019_v02\u001b[39m\u001b[39m\"\u001b[39m,\n\u001b[0;32m   (...)\u001b[0m\n\u001b[1;32m     70\u001b[0m     }\n\u001b[1;32m     71\u001b[0m )\n",
      "\u001b[0;31mTypeError\u001b[0m: RasterResultDescriptor.__init__() missing 3 required positional arguments: 'data_type', 'measurement', and 'spatial_reference'"
     ]
    }
   ],
   "source": [
    "file_path = \"raster/classification_map_germany_2019_v02.tif\"  # specify file path relative to volume path\n",
    "\n",
    "rasterband_channel = 1\n",
    "\n",
    "geo_transform = ge.GdalDatasetGeoTransform(\n",
    "    {\"originCoordinate\": [279370.0, 6102450.0], \"xPixelSize\": 10.0, \"yPixelSize\": -10.0}\n",
    ")\n",
    "\n",
    "width = 64293\n",
    "height = 86760\n",
    "\n",
    "file_not_found_handling = ge.FileNotFoundHandling.NODATA\n",
    "\n",
    "gdal_params = ge.GdalDatasetParameters(\n",
    "    {\n",
    "        \"filePath\": file_path,\n",
    "        \"rasterbandChannel\": rasterband_channel,\n",
    "        \"geoTransform\": geo_transform,\n",
    "        \"width\": width,\n",
    "        \"height\": height,\n",
    "        \"fileNotFoundHandling\": file_not_found_handling,\n",
    "        \"noDataValue\": None,\n",
    "        \"propertiesMapping\": None,\n",
    "        \"gdalOpenOptions\": None,\n",
    "        \"gdalConfigOptions\": None,\n",
    "        \"allowAlphabandAsMask\": True,\n",
    "    }\n",
    ")\n",
    "\n",
    "result_descriptor_dict = {\n",
    "    \"dataType\": \"I16\",\n",
    "    \"spatialReference\": \"EPSG:32632\",\n",
    "    \"measurement\": {\n",
    "        \"type\": \"classification\",\n",
    "        \"measurement\": \"Landnutzung\",\n",
    "        \"classes\": {\n",
    "            \"0\": \"Forest\",\n",
    "            \"1\": \"Low Vegetation\",\n",
    "            \"2\": \"Water\",\n",
    "            \"3\": \"Buildings\",\n",
    "            \"4\": \"Soil\",\n",
    "            \"5\": \"Agriculture\",\n",
    "        },\n",
    "    },\n",
    "    \"noDataValue\": -1000.0,\n",
    "    \"time\": {\"start\": \"2020-01-01T00:00:00.000Z\", \"end\": \"2020-12-01T00:00:00.000Z\"},\n",
    "    \"bbox\": {\n",
    "        \"upperLeftCoordinate\": [279370.0, 6102450.0],\n",
    "        \"lowerRightCoordinate\": [922300.0, 5234850.0],\n",
    "    },\n",
    "    \"resolution\": {\"x\": 10.0, \"y\": -10.0},\n",
    "}\n",
    "\n",
    "result_descriptor = ge.RasterResultDescriptor(data_type=\"I16\", spatial_reference=\"EPSG:4326\", measurement=\"asd\")\n",
    "\n",
    "meta_data = ge.GdalMetaDataStatic(\n",
    "    {\n",
    "        \"type\": \"GdalStatic\",\n",
    "        \"time\": None,\n",
    "        \"params\": gdal_params,\n",
    "        \"resultDescriptor\": result_descriptor,\n",
    "    }\n",
    ")\n",
    "\n",
    "add_dataset_properties = ge.AddDatasetProperties(\n",
    "    {\n",
    "        \"name\": \"classification_map_germany_2019_v02\",\n",
    "        \"description\": \"Landuse classification map of Germany in 2019\",\n",
    "        \"sourceOperator\": \"GdalSource\",\n",
    "    }\n",
    ")\n",
    "\n",
    "# now we can add the dataset, making it available for further usage within the geo engine\n",
    "volumes = ge.volumes()\n",
    "dataset_id = ge.add_public_raster_dataset(\n",
    "    volumes[0].name, add_dataset_properties, meta_data\n",
    ")"
   ]
  },
  {
   "cell_type": "markdown",
   "id": "7b3d8fa6",
   "metadata": {},
   "source": [
    "## Define your query parameters here"
   ]
  },
  {
   "cell_type": "code",
   "execution_count": null,
   "id": "6853eed6",
   "metadata": {},
   "outputs": [],
   "source": [
    "time = datetime.strptime(\"2020-06-01T00:00:00.000Z\", \"%Y-%m-%dT%H:%M:%S.%f%z\")\n",
    "\n",
    "bbox = [474112, 5612032, 522752, 5646336]\n",
    "resolution = [10, 10]"
   ]
  },
  {
   "cell_type": "markdown",
   "id": "2aaf5b94-23ad-49ae-9afb-6ff8bdbb6256",
   "metadata": {},
   "source": [
    "## Fetch training data "
   ]
  },
  {
   "cell_type": "code",
   "execution_count": null,
   "id": "be285c02-7881-4b1f-bb37-1c1a396ae0a2",
   "metadata": {},
   "outputs": [],
   "source": [
    "def workflow_definition(band: str):\n",
    "    \"\"\"This method is used to build a sentinel 2 request with the given specification.\"\"\"\n",
    "    return {\n",
    "        \"type\": \"Raster\",\n",
    "        \"operator\": {\n",
    "            \"type\": \"TemporalRasterAggregation\",\n",
    "            \"params\": {\n",
    "                \"aggregation\": {\"type\": \"mean\", \"ignoreNoData\": True},\n",
    "                \"window\": {\"granularity\": \"days\", \"step\": 10},\n",
    "            },\n",
    "            \"sources\": {\n",
    "                \"raster\": {\n",
    "                    \"type\": \"GdalSource\",\n",
    "                    \"params\": {\n",
    "                        \"data\": {\n",
    "                            \"type\": \"external\",\n",
    "                            \"providerId\": \"5779494c-f3a2-48b3-8a2d-5fbba8c5b6c5\",\n",
    "                            \"layerId\": f\"UTM32N:{band}\",\n",
    "                        }\n",
    "                    },\n",
    "                },\n",
    "            },\n",
    "        },\n",
    "    }\n",
    "\n",
    "\n",
    "def generate_sentinel_dataset(\n",
    "    bbox=bbox, time_start=time, time_end=time, resolution=resolution, srs=\"EPSG:32632\"\n",
    "):\n",
    "    \"\"\"This method is used to query the geo engine with the given specs. It returns a dataframe containing the band data.\"\"\"\n",
    "\n",
    "    from IPython.display import clear_output\n",
    "\n",
    "    band_ids = [\"B02\", \"B03\", \"B04\", \"B08\"]\n",
    "\n",
    "    bands = []\n",
    "\n",
    "    for i, b in enumerate(band_ids):\n",
    "\n",
    "        band_fmt = \"\\n\".join(\n",
    "            [\n",
    "                \"\\033[1m\" + f\"{band_id}\" + \" ...fetching \\033[0m\"\n",
    "                if i == j\n",
    "                else (band_id if j >= i else f\"{band_id} ...done\")\n",
    "                for j, band_id in enumerate(band_ids)\n",
    "            ]\n",
    "        )\n",
    "\n",
    "        clear_output()\n",
    "        print(band_fmt)\n",
    "        progress_bar(i, len(band_ids), unit=\"Bands\")\n",
    "\n",
    "        workflow = ge.register_workflow(workflow_definition(band=b))\n",
    "\n",
    "        task = workflow.save_as_dataset(\n",
    "            ge.QueryRectangle(\n",
    "                bbox, [time_start, time_end], resolution=resolution, srs=srs\n",
    "            ),\n",
    "            f\"XGBoost Training Data (Band: {b[1:]})\",\n",
    "            \"A dataset used, to train a xgboost model.\",\n",
    "        )\n",
    "\n",
    "        task_status_info = task.wait_for_finish(60, print_status=False)\n",
    "        bands.append(StoredDataset.from_response(task_status_info.info))\n",
    "        \n",
    "        # clear output and print the final state\n",
    "        if i+1 == len(band_ids):\n",
    "            clear_output()\n",
    "            final_output = \"\".join([f\"{x} ...done\\n\" for x in band_ids])\n",
    "            print(final_output)\n",
    "            progress_bar(i+1, len(band_ids), unit=\"Bands\")\n",
    "\n",
    "    return bands"
   ]
  },
  {
   "cell_type": "code",
   "execution_count": null,
   "id": "e15c3428-d19b-4464-af2b-dcc53dba79cb",
   "metadata": {},
   "outputs": [],
   "source": [
    "stored_ds = generate_sentinel_dataset()\n",
    "stored_ds"
   ]
  },
  {
   "cell_type": "markdown",
   "id": "1912fbb5",
   "metadata": {},
   "source": [
    "## Use the geo engine to query the stored datasets. This will make the data available for further usage.\n",
    "You can get the data in form of an xarray. This can then be used to shape the data to whatever you want it to be. In this case we convert it to a dataframe, where each band is stored as a column. This format is understood by xgboost and we can train our model with it."
   ]
  },
  {
   "cell_type": "code",
   "execution_count": null,
   "id": "f07d1a0b",
   "metadata": {},
   "outputs": [],
   "source": [
    "xrays = []\n",
    "\n",
    "for band in stored_ds:\n",
    "    print(f\"Generating xarray data structure for band with id: {band.dataset_id}\")\n",
    "    data = ge.register_workflow(\n",
    "        {\n",
    "            \"type\": \"Raster\",\n",
    "            \"operator\": {\n",
    "                \"type\": \"GdalSource\",\n",
    "                \"params\": {\n",
    "                    \"data\": {\"type\": \"internal\", \"datasetId\": str(band.dataset_id)}\n",
    "                },\n",
    "            },\n",
    "        }\n",
    "    )\n",
    "\n",
    "    xrays.append(\n",
    "        data.get_xarray(\n",
    "            ge.QueryRectangle(\n",
    "                bbox, [time, time], resolution=resolution, srs=\"EPSG:32632\"\n",
    "            )\n",
    "        )\n",
    "        .to_numpy()\n",
    "        .flatten()\n",
    "    )"
   ]
  },
  {
   "cell_type": "code",
   "execution_count": null,
   "id": "f4e76a63",
   "metadata": {},
   "outputs": [],
   "source": [
    "# merge xarrays into a single dataframe\n",
    "df_bands = pd.DataFrame(\n",
    "    {\"b2\": xrays[0], \"b3\": xrays[1], \"b4\": xrays[2], \"b8\": xrays[3]}\n",
    ")\n",
    "\n",
    "df_bands"
   ]
  },
  {
   "cell_type": "markdown",
   "id": "8ee9fe59",
   "metadata": {},
   "source": [
    "## Register a workflow to make the label data available with the geo engine"
   ]
  },
  {
   "cell_type": "code",
   "execution_count": null,
   "id": "9c045ca6-96fa-418c-9229-3140ea564176",
   "metadata": {},
   "outputs": [],
   "source": [
    "labels_wf = ge.register_workflow(\n",
    "    {\n",
    "        \"type\": \"Raster\",\n",
    "        \"operator\": {\n",
    "            \"type\": \"GdalSource\",\n",
    "            \"params\": {\n",
    "                \"data\": {\"type\": \"internal\", \"datasetId\": str(dataset_id)},\n",
    "            },\n",
    "        },\n",
    "    }\n",
    ")\n",
    "\n",
    "labels_wf.get_result_descriptor()"
   ]
  },
  {
   "cell_type": "markdown",
   "id": "34eb0b2f-3bb0-45ef-93dd-f0d8c3c6df26",
   "metadata": {},
   "source": [
    "## Use the geo engine to provide the class labels for the query rectangle."
   ]
  },
  {
   "cell_type": "code",
   "execution_count": null,
   "id": "6289e70f-4df1-4aa3-a894-a9dca5a8348c",
   "metadata": {},
   "outputs": [],
   "source": [
    "time_labels = datetime.strptime(\"2020-01-01T00:00:00.000Z\", \"%Y-%m-%dT%H:%M:%S.%f%z\")\n",
    "\n",
    "data = labels_wf.get_xarray(\n",
    "    ge.QueryRectangle(\n",
    "        bbox, [time_labels, time_labels], resolution=resolution, srs=\"EPSG:32632\"\n",
    "    )\n",
    ")\n",
    "\n",
    "label = pd.DataFrame(data.squeeze().to_numpy().flatten())\n",
    "\n",
    "(\n",
    "    pd.DataFrame(\n",
    "        pd.DataFrame(label.to_numpy().flatten())[0].map(\n",
    "            {\n",
    "                0: \"No Data\",\n",
    "                10: \"Forest\",\n",
    "                20: \"Low Vegetation\",\n",
    "                30: \"Water\",\n",
    "                40: \"Buildings\",\n",
    "                50: \"Soil\",\n",
    "                60: \"Agriculture\",\n",
    "            }\n",
    "        )\n",
    "    )\n",
    "    .value_counts()\n",
    "    .rename(\"counts\")\n",
    "    .to_frame()\n",
    "    .reset_index()\n",
    "    .rename(columns={0: \"labels\"})\n",
    "    .plot(kind=\"bar\", x=\"labels\", rot=45)\n",
    ")"
   ]
  },
  {
   "cell_type": "code",
   "execution_count": null,
   "id": "c58428c5",
   "metadata": {},
   "outputs": [],
   "source": [
    "# XGBoost wants the labels to be integers starting from zero\n",
    "label[0] = label[0].map(\n",
    "    {\n",
    "        0: 0,\n",
    "        10: 1,\n",
    "        20: 2,\n",
    "        30: 3,\n",
    "        40: 4,\n",
    "        50: 5,\n",
    "        60: 6,\n",
    "    }\n",
    ")"
   ]
  },
  {
   "cell_type": "markdown",
   "id": "8ce754e6-8cfe-45b4-9e63-c206389358f7",
   "metadata": {},
   "source": [
    "# XGBoost"
   ]
  },
  {
   "cell_type": "markdown",
   "id": "dd3cdb35-fa96-495a-b149-02ba3f606278",
   "metadata": {},
   "source": [
    "## Set parameters and train a model"
   ]
  },
  {
   "cell_type": "code",
   "execution_count": null,
   "id": "89f74136-3fbd-4aed-b08b-1294f3647b60",
   "metadata": {},
   "outputs": [],
   "source": [
    "dtrain = xgb.DMatrix(df_bands, label=label)\n",
    "param = {\n",
    "    \"max_depth\": 6,\n",
    "    \"eta\": 0.5,\n",
    "    \"objective\": \"multi:softmax\",\n",
    "    \"num_class\": 7,\n",
    "    \"validate_parameters\": 1,\n",
    "    \"tree_method\": \"hist\",\n",
    "}\n",
    "evallist = [(dtrain, \"train\")]\n",
    "num_round = 2\n",
    "bst = xgb.train(param, dtrain, num_round, evals=evallist)"
   ]
  },
  {
   "cell_type": "markdown",
   "id": "1bfed65c-4adc-446a-858e-02f4867bf699",
   "metadata": {},
   "source": [
    "## Store the xgboost model file"
   ]
  },
  {
   "cell_type": "code",
   "execution_count": null,
   "id": "c022105d-ca09-4d82-829d-4a2d9571f9b8",
   "metadata": {},
   "outputs": [],
   "source": [
    "bst.save_model(os.path.join(ge_pro_model_path, \"mod.json\"))"
   ]
  },
  {
   "cell_type": "markdown",
   "id": "36879eed-dc69-4929-8611-c10d64ec8e45",
   "metadata": {},
   "source": [
    "## Define workflow for XGBoost predictions\n",
    "- set the operator\n",
    "- set the source bands used to predict from\n",
    "- define the query parameters"
   ]
  },
  {
   "cell_type": "code",
   "execution_count": null,
   "id": "c1722774-278d-4fa4-b4ef-f34f4847257a",
   "metadata": {},
   "outputs": [],
   "source": [
    "prediction_wf = ge.register_workflow(\n",
    "    {\n",
    "        \"type\": \"Raster\",\n",
    "        \"operator\": {\n",
    "            \"type\": \"XgboostOperator\",\n",
    "            \"params\": {\n",
    "                \"modelSubPath\": \"xgboost/s2_10m_de_marburg/mod.json\",\n",
    "                \"noDataValue\": -1000.0,\n",
    "            },\n",
    "            \"sources\": {\n",
    "                \"rasters\": [\n",
    "                    {\n",
    "                        \"type\": \"GdalSource\",\n",
    "                        \"params\": {\n",
    "                            \"data\": {\n",
    "                                \"type\": \"internal\",\n",
    "                                \"datasetId\": str(stored_ds[0].dataset_id),\n",
    "                            }\n",
    "                        },\n",
    "                    },\n",
    "                    {\n",
    "                        \"type\": \"GdalSource\",\n",
    "                        \"params\": {\n",
    "                            \"data\": {\n",
    "                                \"type\": \"internal\",\n",
    "                                \"datasetId\": str(stored_ds[1].dataset_id),\n",
    "                            }\n",
    "                        },\n",
    "                    },\n",
    "                    {\n",
    "                        \"type\": \"GdalSource\",\n",
    "                        \"params\": {\n",
    "                            \"data\": {\n",
    "                                \"type\": \"internal\",\n",
    "                                \"datasetId\": str(stored_ds[2].dataset_id),\n",
    "                            }\n",
    "                        },\n",
    "                    },\n",
    "                    {\n",
    "                        \"type\": \"GdalSource\",\n",
    "                        \"params\": {\n",
    "                            \"data\": {\n",
    "                                \"type\": \"internal\",\n",
    "                                \"datasetId\": str(stored_ds[3].dataset_id),\n",
    "                            }\n",
    "                        },\n",
    "                    },\n",
    "                ]\n",
    "            },\n",
    "        },\n",
    "    }\n",
    ")"
   ]
  },
  {
   "cell_type": "markdown",
   "id": "1fa3383b-88a7-4466-bdb4-8790ec199b2b",
   "metadata": {},
   "source": [
    "## Execute the query\n",
    "- this will trigger the xgboost prediction operator and fetch the newly created tiles"
   ]
  },
  {
   "cell_type": "code",
   "execution_count": null,
   "id": "69ae1f9b-07fc-47ae-a95b-f883caea61ac",
   "metadata": {},
   "outputs": [],
   "source": [
    "predictions = prediction_wf.get_xarray(\n",
    "    ge.QueryRectangle(bbox, [time, time], resolution=resolution, srs=\"EPSG:32632\"),\n",
    ")\n",
    "\n",
    "predictions"
   ]
  },
  {
   "cell_type": "markdown",
   "id": "ab681857-b944-4eca-91ec-dcea7ec9329b",
   "metadata": {},
   "source": [
    "## Show distribution of predicted values"
   ]
  },
  {
   "cell_type": "code",
   "execution_count": null,
   "id": "a3cea063-5eaf-464b-ab95-011c11ee1057",
   "metadata": {},
   "outputs": [],
   "source": [
    "(\n",
    "    pd.DataFrame(\n",
    "        pd.DataFrame(predictions.to_numpy().flatten())[0].map(\n",
    "            {\n",
    "                0.0: \"No Data\",\n",
    "                1.0: \"Forest\",\n",
    "                2.0: \"Low Vegetation\",\n",
    "                3.0: \"Water\",\n",
    "                4.0: \"Buildings\",\n",
    "                5.0: \"Soil\",\n",
    "                6.0: \"Agriculture\",\n",
    "            }\n",
    "        )\n",
    "    )\n",
    "    .value_counts()\n",
    "    .rename(\"counts\")\n",
    "    .to_frame()\n",
    "    .reset_index()\n",
    "    .rename(columns={0: \"labels\"})\n",
    "    .plot(kind=\"bar\", x=\"labels\", rot=45)\n",
    ")"
   ]
  },
  {
   "cell_type": "markdown",
   "id": "88f6b151-e748-4773-adfa-f9bd913bcca5",
   "metadata": {},
   "source": [
    "## Plot the data"
   ]
  },
  {
   "cell_type": "code",
   "execution_count": null,
   "id": "3552386e-7861-4812-a433-bd5024588b13",
   "metadata": {},
   "outputs": [],
   "source": [
    "fig, ax = plt.subplots(nrows=1, figsize=(30, 20))\n",
    "ax.set_title(\"XGBoost Data\", loc=\"left\")\n",
    "\n",
    "plt.tight_layout()\n",
    "\n",
    "# we need to remove the colors, that haven't been predicted\n",
    "cmap = ListedColormap(\n",
    "    [\n",
    "        (4 / 256, 135 / 256, 29 / 256, 255 / 256),  # green\n",
    "        (137 / 256, 222 / 256, 137 / 256, 255 / 256),  # lime\n",
    "        (14 / 256, 10 / 256, 214 / 256, 255 / 256),  # blue\n",
    "        (229 / 256, 109 / 256, 109 / 256, 255 / 256),  # pastel red\n",
    "        (180 / 256, 180 / 256, 77 / 256, 255 / 256),  # dark yellow/greenish\n",
    "        (231 / 256, 231 / 256, 25 / 256, 255 / 256),  # yellow\n",
    "        # (0/256, 0/256, 0/256, 0/256), # no data color\n",
    "    ]\n",
    ")\n",
    "\n",
    "cax = predictions.plot(ax=ax, cmap=cmap, add_colorbar=False)\n",
    "\n",
    "# Add colorbar, make sure to specify tick locations to match desired ticklabels\n",
    "cbar = fig.colorbar(cax, ticks=[1, 2, 3, 4, 5, 6])\n",
    "cbar.ax.set_yticklabels(\n",
    "    [\"Forest\", \"Low Vegetation\", \"Water\", \"Buildings\", \"Soil\", \"Agriculture\"]\n",
    ");"
   ]
  }
 ],
 "metadata": {
  "kernelspec": {
   "display_name": "env",
   "language": "python",
   "name": "python3"
  },
  "language_info": {
   "codemirror_mode": {
    "name": "ipython",
    "version": 3
   },
   "file_extension": ".py",
   "mimetype": "text/x-python",
   "name": "python",
   "nbconvert_exporter": "python",
   "pygments_lexer": "ipython3",
   "version": "3.10.6 (main, Nov 14 2022, 16:10:14) [GCC 11.3.0]"
  },
  "vscode": {
   "interpreter": {
    "hash": "7a10ca932ff03f4c637e11f8207fe4e003ad6532d0070b911d37acf855f595fc"
   }
  }
 },
 "nbformat": 4,
 "nbformat_minor": 5
}
