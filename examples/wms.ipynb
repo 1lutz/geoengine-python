{
  "cells": [
    {
      "cell_type": "markdown",
      "metadata": {},
      "source": [
        "# Load raster data via WMS"
      ]
    },
    {
      "cell_type": "code",
      "execution_count": 1,
      "metadata": {},
      "outputs": [],
      "source": [
        "import cartopy.crs as ccrs\n",
        "import matplotlib.pyplot as plt\n",
        "from owslib.util import Authentication\n",
        "from owslib.wms import WebMapService\n",
        "import urllib.parse\n",
        "\n",
        "from datetime import datetime\n",
        "\n",
        "import geoengine as ge\n",
        "from geoengine.colorizer import Colorizer"
      ]
    },
    {
      "cell_type": "markdown",
      "metadata": {},
      "source": [
        "## Initialize Geo Engine"
      ]
    },
    {
      "cell_type": "code",
      "execution_count": 2,
      "metadata": {},
      "outputs": [],
      "source": [
        "ge.initialize(\"http://localhost:3030/api\")"
      ]
    },
    {
      "cell_type": "code",
      "execution_count": 3,
      "metadata": {},
      "outputs": [
        {
          "data": {
            "text/plain": [
              "Server:              http://localhost:3030/api\n",
              "Session Id:          0422ad55-bec2-472c-a240-3ad972cb2443"
            ]
          },
          "execution_count": 3,
          "metadata": {},
          "output_type": "execute_result"
        }
      ],
      "source": [
        "session = ge.get_session()\n",
        "session"
      ]
    },
    {
      "cell_type": "markdown",
      "metadata": {},
      "source": [
        "## Define workflow of MODIS NDVI raster"
      ]
    },
    {
      "cell_type": "code",
      "execution_count": 4,
      "metadata": {},
      "outputs": [
        {
          "data": {
            "text/plain": [
              "c7b7c5c8-ee11-5418-bd1f-9e5889f6e04a"
            ]
          },
          "execution_count": 4,
          "metadata": {},
          "output_type": "execute_result"
        }
      ],
      "source": [
        "workflow = ge.register_workflow({\n",
        "                \"type\": \"Raster\",\n",
        "                \"operator\": {\n",
        "                    \"type\": \"GdalSource\",\n",
        "                    \"params\": {\n",
        "                        \"data\": {\n",
        "                            \"type\": \"internal\",\n",
        "                            \"datasetId\": \"36574dc3-560a-4b09-9d22-d5945f2b8093\"\n",
        "                        }\n",
        "                    }\n",
        "                }\n",
        "            })\n",
        "workflow"
      ]
    },
    {
      "cell_type": "markdown",
      "metadata": {},
      "source": [
        "## Query raster via WMS and Cartopy"
      ]
    },
    {
      "cell_type": "code",
      "execution_count": 5,
      "metadata": {},
      "outputs": [
        {
          "ename": "HTTPError",
          "evalue": "404 Client Error: Not Found for url: http://localhost:3030/wms/c7b7c5c8-ee11-5418-bd1f-9e5889f6e04a?service=WMS&version=1.3.0&request=GetMap&layers=c7b7c5c8-ee11-5418-bd1f-9e5889f6e04a&styles=&width=496&height=249&crs=EPSG:4326&bbox=-90.0,-180.0,90.0,180.0&format=image/png&transparent=FALSE&bgcolor=0xFFFFFF&exceptions=XML&time=2014-04-01T12%3A00%3A00.000%2B00%3A00",
          "output_type": "error",
          "traceback": [
            "\u001b[0;31m---------------------------------------------------------------------------\u001b[0m",
            "\u001b[0;31mHTTPError\u001b[0m                                 Traceback (most recent call last)",
            "File \u001b[0;32m~/git/geoengine-python/env/lib/python3.10/site-packages/IPython/core/formatters.py:338\u001b[0m, in \u001b[0;36mBaseFormatter.__call__\u001b[0;34m(self, obj)\u001b[0m\n\u001b[1;32m    336\u001b[0m     \u001b[39mpass\u001b[39;00m\n\u001b[1;32m    337\u001b[0m \u001b[39melse\u001b[39;00m:\n\u001b[0;32m--> 338\u001b[0m     \u001b[39mreturn\u001b[39;00m printer(obj)\n\u001b[1;32m    339\u001b[0m \u001b[39m# Finally look for special method names\u001b[39;00m\n\u001b[1;32m    340\u001b[0m method \u001b[39m=\u001b[39m get_real_method(obj, \u001b[39mself\u001b[39m\u001b[39m.\u001b[39mprint_method)\n",
            "File \u001b[0;32m~/git/geoengine-python/env/lib/python3.10/site-packages/IPython/core/pylabtools.py:152\u001b[0m, in \u001b[0;36mprint_figure\u001b[0;34m(fig, fmt, bbox_inches, base64, **kwargs)\u001b[0m\n\u001b[1;32m    149\u001b[0m     \u001b[39mfrom\u001b[39;00m \u001b[39mmatplotlib\u001b[39;00m\u001b[39m.\u001b[39;00m\u001b[39mbackend_bases\u001b[39;00m \u001b[39mimport\u001b[39;00m FigureCanvasBase\n\u001b[1;32m    150\u001b[0m     FigureCanvasBase(fig)\n\u001b[0;32m--> 152\u001b[0m fig\u001b[39m.\u001b[39;49mcanvas\u001b[39m.\u001b[39;49mprint_figure(bytes_io, \u001b[39m*\u001b[39;49m\u001b[39m*\u001b[39;49mkw)\n\u001b[1;32m    153\u001b[0m data \u001b[39m=\u001b[39m bytes_io\u001b[39m.\u001b[39mgetvalue()\n\u001b[1;32m    154\u001b[0m \u001b[39mif\u001b[39;00m fmt \u001b[39m==\u001b[39m \u001b[39m'\u001b[39m\u001b[39msvg\u001b[39m\u001b[39m'\u001b[39m:\n",
            "File \u001b[0;32m~/git/geoengine-python/env/lib/python3.10/site-packages/matplotlib/backend_bases.py:2314\u001b[0m, in \u001b[0;36mFigureCanvasBase.print_figure\u001b[0;34m(self, filename, dpi, facecolor, edgecolor, orientation, format, bbox_inches, pad_inches, bbox_extra_artists, backend, **kwargs)\u001b[0m\n\u001b[1;32m   2308\u001b[0m     renderer \u001b[39m=\u001b[39m _get_renderer(\n\u001b[1;32m   2309\u001b[0m         \u001b[39mself\u001b[39m\u001b[39m.\u001b[39mfigure,\n\u001b[1;32m   2310\u001b[0m         functools\u001b[39m.\u001b[39mpartial(\n\u001b[1;32m   2311\u001b[0m             print_method, orientation\u001b[39m=\u001b[39morientation)\n\u001b[1;32m   2312\u001b[0m     )\n\u001b[1;32m   2313\u001b[0m     \u001b[39mwith\u001b[39;00m \u001b[39mgetattr\u001b[39m(renderer, \u001b[39m\"\u001b[39m\u001b[39m_draw_disabled\u001b[39m\u001b[39m\"\u001b[39m, nullcontext)():\n\u001b[0;32m-> 2314\u001b[0m         \u001b[39mself\u001b[39;49m\u001b[39m.\u001b[39;49mfigure\u001b[39m.\u001b[39;49mdraw(renderer)\n\u001b[1;32m   2316\u001b[0m \u001b[39mif\u001b[39;00m bbox_inches:\n\u001b[1;32m   2317\u001b[0m     \u001b[39mif\u001b[39;00m bbox_inches \u001b[39m==\u001b[39m \u001b[39m\"\u001b[39m\u001b[39mtight\u001b[39m\u001b[39m\"\u001b[39m:\n",
            "File \u001b[0;32m~/git/geoengine-python/env/lib/python3.10/site-packages/matplotlib/artist.py:74\u001b[0m, in \u001b[0;36m_finalize_rasterization.<locals>.draw_wrapper\u001b[0;34m(artist, renderer, *args, **kwargs)\u001b[0m\n\u001b[1;32m     72\u001b[0m \u001b[39m@wraps\u001b[39m(draw)\n\u001b[1;32m     73\u001b[0m \u001b[39mdef\u001b[39;00m \u001b[39mdraw_wrapper\u001b[39m(artist, renderer, \u001b[39m*\u001b[39margs, \u001b[39m*\u001b[39m\u001b[39m*\u001b[39mkwargs):\n\u001b[0;32m---> 74\u001b[0m     result \u001b[39m=\u001b[39m draw(artist, renderer, \u001b[39m*\u001b[39;49margs, \u001b[39m*\u001b[39;49m\u001b[39m*\u001b[39;49mkwargs)\n\u001b[1;32m     75\u001b[0m     \u001b[39mif\u001b[39;00m renderer\u001b[39m.\u001b[39m_rasterizing:\n\u001b[1;32m     76\u001b[0m         renderer\u001b[39m.\u001b[39mstop_rasterizing()\n",
            "File \u001b[0;32m~/git/geoengine-python/env/lib/python3.10/site-packages/matplotlib/artist.py:51\u001b[0m, in \u001b[0;36mallow_rasterization.<locals>.draw_wrapper\u001b[0;34m(artist, renderer)\u001b[0m\n\u001b[1;32m     48\u001b[0m     \u001b[39mif\u001b[39;00m artist\u001b[39m.\u001b[39mget_agg_filter() \u001b[39mis\u001b[39;00m \u001b[39mnot\u001b[39;00m \u001b[39mNone\u001b[39;00m:\n\u001b[1;32m     49\u001b[0m         renderer\u001b[39m.\u001b[39mstart_filter()\n\u001b[0;32m---> 51\u001b[0m     \u001b[39mreturn\u001b[39;00m draw(artist, renderer)\n\u001b[1;32m     52\u001b[0m \u001b[39mfinally\u001b[39;00m:\n\u001b[1;32m     53\u001b[0m     \u001b[39mif\u001b[39;00m artist\u001b[39m.\u001b[39mget_agg_filter() \u001b[39mis\u001b[39;00m \u001b[39mnot\u001b[39;00m \u001b[39mNone\u001b[39;00m:\n",
            "File \u001b[0;32m~/git/geoengine-python/env/lib/python3.10/site-packages/matplotlib/figure.py:3082\u001b[0m, in \u001b[0;36mFigure.draw\u001b[0;34m(self, renderer)\u001b[0m\n\u001b[1;32m   3079\u001b[0m         \u001b[39m# ValueError can occur when resizing a window.\u001b[39;00m\n\u001b[1;32m   3081\u001b[0m \u001b[39mself\u001b[39m\u001b[39m.\u001b[39mpatch\u001b[39m.\u001b[39mdraw(renderer)\n\u001b[0;32m-> 3082\u001b[0m mimage\u001b[39m.\u001b[39;49m_draw_list_compositing_images(\n\u001b[1;32m   3083\u001b[0m     renderer, \u001b[39mself\u001b[39;49m, artists, \u001b[39mself\u001b[39;49m\u001b[39m.\u001b[39;49msuppressComposite)\n\u001b[1;32m   3085\u001b[0m \u001b[39mfor\u001b[39;00m sfig \u001b[39min\u001b[39;00m \u001b[39mself\u001b[39m\u001b[39m.\u001b[39msubfigs:\n\u001b[1;32m   3086\u001b[0m     sfig\u001b[39m.\u001b[39mdraw(renderer)\n",
            "File \u001b[0;32m~/git/geoengine-python/env/lib/python3.10/site-packages/matplotlib/image.py:131\u001b[0m, in \u001b[0;36m_draw_list_compositing_images\u001b[0;34m(renderer, parent, artists, suppress_composite)\u001b[0m\n\u001b[1;32m    129\u001b[0m \u001b[39mif\u001b[39;00m not_composite \u001b[39mor\u001b[39;00m \u001b[39mnot\u001b[39;00m has_images:\n\u001b[1;32m    130\u001b[0m     \u001b[39mfor\u001b[39;00m a \u001b[39min\u001b[39;00m artists:\n\u001b[0;32m--> 131\u001b[0m         a\u001b[39m.\u001b[39;49mdraw(renderer)\n\u001b[1;32m    132\u001b[0m \u001b[39melse\u001b[39;00m:\n\u001b[1;32m    133\u001b[0m     \u001b[39m# Composite any adjacent images together\u001b[39;00m\n\u001b[1;32m    134\u001b[0m     image_group \u001b[39m=\u001b[39m []\n",
            "File \u001b[0;32m~/git/geoengine-python/env/lib/python3.10/site-packages/matplotlib/artist.py:51\u001b[0m, in \u001b[0;36mallow_rasterization.<locals>.draw_wrapper\u001b[0;34m(artist, renderer)\u001b[0m\n\u001b[1;32m     48\u001b[0m     \u001b[39mif\u001b[39;00m artist\u001b[39m.\u001b[39mget_agg_filter() \u001b[39mis\u001b[39;00m \u001b[39mnot\u001b[39;00m \u001b[39mNone\u001b[39;00m:\n\u001b[1;32m     49\u001b[0m         renderer\u001b[39m.\u001b[39mstart_filter()\n\u001b[0;32m---> 51\u001b[0m     \u001b[39mreturn\u001b[39;00m draw(artist, renderer)\n\u001b[1;32m     52\u001b[0m \u001b[39mfinally\u001b[39;00m:\n\u001b[1;32m     53\u001b[0m     \u001b[39mif\u001b[39;00m artist\u001b[39m.\u001b[39mget_agg_filter() \u001b[39mis\u001b[39;00m \u001b[39mnot\u001b[39;00m \u001b[39mNone\u001b[39;00m:\n",
            "File \u001b[0;32m~/git/geoengine-python/env/lib/python3.10/site-packages/cartopy/mpl/geoaxes.py:538\u001b[0m, in \u001b[0;36mGeoAxes.draw\u001b[0;34m(self, renderer, **kwargs)\u001b[0m\n\u001b[1;32m    533\u001b[0m         \u001b[39mself\u001b[39m\u001b[39m.\u001b[39mimshow(img, extent\u001b[39m=\u001b[39mextent, origin\u001b[39m=\u001b[39morigin,\n\u001b[1;32m    534\u001b[0m                     transform\u001b[39m=\u001b[39mfactory\u001b[39m.\u001b[39mcrs, \u001b[39m*\u001b[39mfactory_args[\u001b[39m1\u001b[39m:],\n\u001b[1;32m    535\u001b[0m                     \u001b[39m*\u001b[39m\u001b[39m*\u001b[39mfactory_kwargs)\n\u001b[1;32m    536\u001b[0m \u001b[39mself\u001b[39m\u001b[39m.\u001b[39m_done_img_factory \u001b[39m=\u001b[39m \u001b[39mTrue\u001b[39;00m\n\u001b[0;32m--> 538\u001b[0m \u001b[39mreturn\u001b[39;00m \u001b[39msuper\u001b[39;49m()\u001b[39m.\u001b[39;49mdraw(renderer\u001b[39m=\u001b[39;49mrenderer, \u001b[39m*\u001b[39;49m\u001b[39m*\u001b[39;49mkwargs)\n",
            "File \u001b[0;32m~/git/geoengine-python/env/lib/python3.10/site-packages/matplotlib/artist.py:51\u001b[0m, in \u001b[0;36mallow_rasterization.<locals>.draw_wrapper\u001b[0;34m(artist, renderer)\u001b[0m\n\u001b[1;32m     48\u001b[0m     \u001b[39mif\u001b[39;00m artist\u001b[39m.\u001b[39mget_agg_filter() \u001b[39mis\u001b[39;00m \u001b[39mnot\u001b[39;00m \u001b[39mNone\u001b[39;00m:\n\u001b[1;32m     49\u001b[0m         renderer\u001b[39m.\u001b[39mstart_filter()\n\u001b[0;32m---> 51\u001b[0m     \u001b[39mreturn\u001b[39;00m draw(artist, renderer)\n\u001b[1;32m     52\u001b[0m \u001b[39mfinally\u001b[39;00m:\n\u001b[1;32m     53\u001b[0m     \u001b[39mif\u001b[39;00m artist\u001b[39m.\u001b[39mget_agg_filter() \u001b[39mis\u001b[39;00m \u001b[39mnot\u001b[39;00m \u001b[39mNone\u001b[39;00m:\n",
            "File \u001b[0;32m~/git/geoengine-python/env/lib/python3.10/site-packages/matplotlib/axes/_base.py:3100\u001b[0m, in \u001b[0;36m_AxesBase.draw\u001b[0;34m(self, renderer)\u001b[0m\n\u001b[1;32m   3097\u001b[0m         a\u001b[39m.\u001b[39mdraw(renderer)\n\u001b[1;32m   3098\u001b[0m     renderer\u001b[39m.\u001b[39mstop_rasterizing()\n\u001b[0;32m-> 3100\u001b[0m mimage\u001b[39m.\u001b[39;49m_draw_list_compositing_images(\n\u001b[1;32m   3101\u001b[0m     renderer, \u001b[39mself\u001b[39;49m, artists, \u001b[39mself\u001b[39;49m\u001b[39m.\u001b[39;49mfigure\u001b[39m.\u001b[39;49msuppressComposite)\n\u001b[1;32m   3103\u001b[0m renderer\u001b[39m.\u001b[39mclose_group(\u001b[39m'\u001b[39m\u001b[39maxes\u001b[39m\u001b[39m'\u001b[39m)\n\u001b[1;32m   3104\u001b[0m \u001b[39mself\u001b[39m\u001b[39m.\u001b[39mstale \u001b[39m=\u001b[39m \u001b[39mFalse\u001b[39;00m\n",
            "File \u001b[0;32m~/git/geoengine-python/env/lib/python3.10/site-packages/matplotlib/image.py:131\u001b[0m, in \u001b[0;36m_draw_list_compositing_images\u001b[0;34m(renderer, parent, artists, suppress_composite)\u001b[0m\n\u001b[1;32m    129\u001b[0m \u001b[39mif\u001b[39;00m not_composite \u001b[39mor\u001b[39;00m \u001b[39mnot\u001b[39;00m has_images:\n\u001b[1;32m    130\u001b[0m     \u001b[39mfor\u001b[39;00m a \u001b[39min\u001b[39;00m artists:\n\u001b[0;32m--> 131\u001b[0m         a\u001b[39m.\u001b[39;49mdraw(renderer)\n\u001b[1;32m    132\u001b[0m \u001b[39melse\u001b[39;00m:\n\u001b[1;32m    133\u001b[0m     \u001b[39m# Composite any adjacent images together\u001b[39;00m\n\u001b[1;32m    134\u001b[0m     image_group \u001b[39m=\u001b[39m []\n",
            "File \u001b[0;32m~/git/geoengine-python/env/lib/python3.10/site-packages/matplotlib/artist.py:51\u001b[0m, in \u001b[0;36mallow_rasterization.<locals>.draw_wrapper\u001b[0;34m(artist, renderer)\u001b[0m\n\u001b[1;32m     48\u001b[0m     \u001b[39mif\u001b[39;00m artist\u001b[39m.\u001b[39mget_agg_filter() \u001b[39mis\u001b[39;00m \u001b[39mnot\u001b[39;00m \u001b[39mNone\u001b[39;00m:\n\u001b[1;32m     49\u001b[0m         renderer\u001b[39m.\u001b[39mstart_filter()\n\u001b[0;32m---> 51\u001b[0m     \u001b[39mreturn\u001b[39;00m draw(artist, renderer)\n\u001b[1;32m     52\u001b[0m \u001b[39mfinally\u001b[39;00m:\n\u001b[1;32m     53\u001b[0m     \u001b[39mif\u001b[39;00m artist\u001b[39m.\u001b[39mget_agg_filter() \u001b[39mis\u001b[39;00m \u001b[39mnot\u001b[39;00m \u001b[39mNone\u001b[39;00m:\n",
            "File \u001b[0;32m~/git/geoengine-python/env/lib/python3.10/site-packages/cartopy/mpl/slippy_image_artist.py:59\u001b[0m, in \u001b[0;36mSlippyImageArtist.draw\u001b[0;34m(self, renderer, *args, **kwargs)\u001b[0m\n\u001b[1;32m     57\u001b[0m [x1, y1], [x2, y2] \u001b[39m=\u001b[39m ax\u001b[39m.\u001b[39mviewLim\u001b[39m.\u001b[39mget_points()\n\u001b[1;32m     58\u001b[0m \u001b[39mif\u001b[39;00m \u001b[39mnot\u001b[39;00m \u001b[39mself\u001b[39m\u001b[39m.\u001b[39muser_is_interacting:\n\u001b[0;32m---> 59\u001b[0m     located_images \u001b[39m=\u001b[39m \u001b[39mself\u001b[39;49m\u001b[39m.\u001b[39;49mraster_source\u001b[39m.\u001b[39;49mfetch_raster(\n\u001b[1;32m     60\u001b[0m         ax\u001b[39m.\u001b[39;49mprojection, extent\u001b[39m=\u001b[39;49m[x1, x2, y1, y2],\n\u001b[1;32m     61\u001b[0m         target_resolution\u001b[39m=\u001b[39;49m(window_extent\u001b[39m.\u001b[39;49mwidth, window_extent\u001b[39m.\u001b[39;49mheight))\n\u001b[1;32m     62\u001b[0m     \u001b[39mself\u001b[39m\u001b[39m.\u001b[39mcache \u001b[39m=\u001b[39m located_images\n\u001b[1;32m     64\u001b[0m \u001b[39mfor\u001b[39;00m img, extent \u001b[39min\u001b[39;00m \u001b[39mself\u001b[39m\u001b[39m.\u001b[39mcache:\n",
            "File \u001b[0;32m~/git/geoengine-python/env/lib/python3.10/site-packages/cartopy/io/ogc_clients.py:306\u001b[0m, in \u001b[0;36mWMSRasterSource.fetch_raster\u001b[0;34m(self, projection, extent, target_resolution)\u001b[0m\n\u001b[1;32m    304\u001b[0m located_images \u001b[39m=\u001b[39m []\n\u001b[1;32m    305\u001b[0m \u001b[39mfor\u001b[39;00m wms_extent \u001b[39min\u001b[39;00m wms_extents:\n\u001b[0;32m--> 306\u001b[0m     located_images\u001b[39m.\u001b[39mappend(\u001b[39mself\u001b[39;49m\u001b[39m.\u001b[39;49m_image_and_extent(wms_proj, wms_srs,\n\u001b[1;32m    307\u001b[0m                                                  wms_extent,\n\u001b[1;32m    308\u001b[0m                                                  projection, extent,\n\u001b[1;32m    309\u001b[0m                                                  target_resolution))\n\u001b[1;32m    310\u001b[0m \u001b[39mreturn\u001b[39;00m located_images\n",
            "File \u001b[0;32m~/git/geoengine-python/env/lib/python3.10/site-packages/cartopy/io/ogc_clients.py:277\u001b[0m, in \u001b[0;36mWMSRasterSource._image_and_extent\u001b[0;34m(self, wms_proj, wms_srs, wms_extent, output_proj, output_extent, target_resolution)\u001b[0m\n\u001b[1;32m    274\u001b[0m \u001b[39mdef\u001b[39;00m \u001b[39m_image_and_extent\u001b[39m(\u001b[39mself\u001b[39m, wms_proj, wms_srs, wms_extent, output_proj,\n\u001b[1;32m    275\u001b[0m                       output_extent, target_resolution):\n\u001b[1;32m    276\u001b[0m     min_x, max_x, min_y, max_y \u001b[39m=\u001b[39m wms_extent\n\u001b[0;32m--> 277\u001b[0m     wms_image \u001b[39m=\u001b[39m \u001b[39mself\u001b[39;49m\u001b[39m.\u001b[39;49mservice\u001b[39m.\u001b[39;49mgetmap(layers\u001b[39m=\u001b[39;49m\u001b[39mself\u001b[39;49m\u001b[39m.\u001b[39;49mlayers,\n\u001b[1;32m    278\u001b[0m                                     srs\u001b[39m=\u001b[39;49mwms_srs,\n\u001b[1;32m    279\u001b[0m                                     bbox\u001b[39m=\u001b[39;49m(min_x, min_y, max_x, max_y),\n\u001b[1;32m    280\u001b[0m                                     size\u001b[39m=\u001b[39;49mtarget_resolution,\n\u001b[1;32m    281\u001b[0m                                     \u001b[39mformat\u001b[39;49m\u001b[39m=\u001b[39;49m\u001b[39m'\u001b[39;49m\u001b[39mimage/png\u001b[39;49m\u001b[39m'\u001b[39;49m,\n\u001b[1;32m    282\u001b[0m                                     \u001b[39m*\u001b[39;49m\u001b[39m*\u001b[39;49m\u001b[39mself\u001b[39;49m\u001b[39m.\u001b[39;49mgetmap_extra_kwargs)\n\u001b[1;32m    283\u001b[0m     wms_image \u001b[39m=\u001b[39m Image\u001b[39m.\u001b[39mopen(io\u001b[39m.\u001b[39mBytesIO(wms_image\u001b[39m.\u001b[39mread()))\n\u001b[1;32m    285\u001b[0m     \u001b[39mreturn\u001b[39;00m _warped_located_image(wms_image, wms_proj, wms_extent,\n\u001b[1;32m    286\u001b[0m                                  output_proj, output_extent,\n\u001b[1;32m    287\u001b[0m                                  target_resolution)\n",
            "File \u001b[0;32m~/git/geoengine-python/env/lib/python3.10/site-packages/owslib/map/wms130.py:308\u001b[0m, in \u001b[0;36mWebMapService_1_3_0.getmap\u001b[0;34m(self, layers, styles, srs, bbox, format, size, time, elevation, dimensions, transparent, bgcolor, exceptions, method, timeout, **kwargs)\u001b[0m\n\u001b[1;32m    304\u001b[0m data \u001b[39m=\u001b[39m urlencode(request)\n\u001b[1;32m    306\u001b[0m \u001b[39mself\u001b[39m\u001b[39m.\u001b[39mrequest \u001b[39m=\u001b[39m bind_url(base_url) \u001b[39m+\u001b[39m data\n\u001b[0;32m--> 308\u001b[0m u \u001b[39m=\u001b[39m openURL(base_url, data, method, timeout\u001b[39m=\u001b[39;49mtimeout \u001b[39mor\u001b[39;49;00m \u001b[39mself\u001b[39;49m\u001b[39m.\u001b[39;49mtimeout, auth\u001b[39m=\u001b[39;49m\u001b[39mself\u001b[39;49m\u001b[39m.\u001b[39;49mauth, headers\u001b[39m=\u001b[39;49m\u001b[39mself\u001b[39;49m\u001b[39m.\u001b[39;49mheaders)\n\u001b[1;32m    310\u001b[0m \u001b[39m# need to handle casing in the header keys\u001b[39;00m\n\u001b[1;32m    311\u001b[0m headers \u001b[39m=\u001b[39m {}\n",
            "File \u001b[0;32m~/git/geoengine-python/env/lib/python3.10/site-packages/owslib/util.py:214\u001b[0m, in \u001b[0;36mopenURL\u001b[0;34m(url_base, data, method, cookies, username, password, timeout, headers, verify, cert, auth)\u001b[0m\n\u001b[1;32m    211\u001b[0m     \u001b[39mraise\u001b[39;00m ServiceException(req\u001b[39m.\u001b[39mtext)\n\u001b[1;32m    213\u001b[0m \u001b[39mif\u001b[39;00m req\u001b[39m.\u001b[39mstatus_code \u001b[39min\u001b[39;00m [\u001b[39m404\u001b[39m, \u001b[39m500\u001b[39m, \u001b[39m502\u001b[39m, \u001b[39m503\u001b[39m, \u001b[39m504\u001b[39m]:    \u001b[39m# add more if needed\u001b[39;00m\n\u001b[0;32m--> 214\u001b[0m     req\u001b[39m.\u001b[39;49mraise_for_status()\n\u001b[1;32m    216\u001b[0m \u001b[39m# check for service exceptions without the http header set\u001b[39;00m\n\u001b[1;32m    217\u001b[0m \u001b[39mif\u001b[39;00m \u001b[39m'\u001b[39m\u001b[39mContent-Type\u001b[39m\u001b[39m'\u001b[39m \u001b[39min\u001b[39;00m req\u001b[39m.\u001b[39mheaders \u001b[39mand\u001b[39;00m \\\n\u001b[1;32m    218\u001b[0m         req\u001b[39m.\u001b[39mheaders[\u001b[39m'\u001b[39m\u001b[39mContent-Type\u001b[39m\u001b[39m'\u001b[39m] \u001b[39min\u001b[39;00m [\u001b[39m'\u001b[39m\u001b[39mtext/xml\u001b[39m\u001b[39m'\u001b[39m, \u001b[39m'\u001b[39m\u001b[39mapplication/xml\u001b[39m\u001b[39m'\u001b[39m, \u001b[39m'\u001b[39m\u001b[39mapplication/vnd.ogc.se_xml\u001b[39m\u001b[39m'\u001b[39m]:\n\u001b[1;32m    219\u001b[0m     \u001b[39m# just in case 400 headers were not set, going to have to read the xml to see if it's an exception report.\u001b[39;00m\n",
            "File \u001b[0;32m~/git/geoengine-python/env/lib/python3.10/site-packages/requests/models.py:1021\u001b[0m, in \u001b[0;36mResponse.raise_for_status\u001b[0;34m(self)\u001b[0m\n\u001b[1;32m   1016\u001b[0m     http_error_msg \u001b[39m=\u001b[39m (\n\u001b[1;32m   1017\u001b[0m         \u001b[39mf\u001b[39m\u001b[39m\"\u001b[39m\u001b[39m{\u001b[39;00m\u001b[39mself\u001b[39m\u001b[39m.\u001b[39mstatus_code\u001b[39m}\u001b[39;00m\u001b[39m Server Error: \u001b[39m\u001b[39m{\u001b[39;00mreason\u001b[39m}\u001b[39;00m\u001b[39m for url: \u001b[39m\u001b[39m{\u001b[39;00m\u001b[39mself\u001b[39m\u001b[39m.\u001b[39murl\u001b[39m}\u001b[39;00m\u001b[39m\"\u001b[39m\n\u001b[1;32m   1018\u001b[0m     )\n\u001b[1;32m   1020\u001b[0m \u001b[39mif\u001b[39;00m http_error_msg:\n\u001b[0;32m-> 1021\u001b[0m     \u001b[39mraise\u001b[39;00m HTTPError(http_error_msg, response\u001b[39m=\u001b[39m\u001b[39mself\u001b[39m)\n",
            "\u001b[0;31mHTTPError\u001b[0m: 404 Client Error: Not Found for url: http://localhost:3030/wms/c7b7c5c8-ee11-5418-bd1f-9e5889f6e04a?service=WMS&version=1.3.0&request=GetMap&layers=c7b7c5c8-ee11-5418-bd1f-9e5889f6e04a&styles=&width=496&height=249&crs=EPSG:4326&bbox=-90.0,-180.0,90.0,180.0&format=image/png&transparent=FALSE&bgcolor=0xFFFFFF&exceptions=XML&time=2014-04-01T12%3A00%3A00.000%2B00%3A00"
          ]
        },
        {
          "data": {
            "text/plain": [
              "<Figure size 640x480 with 1 Axes>"
            ]
          },
          "metadata": {},
          "output_type": "display_data"
        }
      ],
      "source": [
        "time = datetime.strptime('2014-04-01T12:00:00.000Z', \"%Y-%m-%dT%H:%M:%S.%f%z\")\n",
        "bbox = ge.QueryRectangle(\n",
        "    ge.BoundingBox2D(-180.0, -90.0, 180.0, 90.0),\n",
        "    ge.TimeInterval(time, time),\n",
        "    ge.SpatialResolution(0.1, 0.1),\n",
        ")\n",
        "\n",
        "wms = WebMapService(f'{session.server_url}/wms/{str(workflow)}',\n",
        "                    version='1.3.0',\n",
        "                    auth=Authentication(auth_delegate=session.requests_bearer_auth()),\n",
        "                    timeout=3600)\n",
        "\n",
        "ax = plt.axes(projection=ccrs.PlateCarree())\n",
        "\n",
        "ax.add_wms(wms,\n",
        "           layers=[str(workflow)],           \n",
        "           wms_kwargs={\n",
        "                'time': urllib.parse.quote(bbox.time_str),\n",
        "                'crs': bbox.srs,\n",
        "           })\n",
        "\n",
        "ax.set_xlim(bbox.spatial_bounds.xmin, bbox.spatial_bounds.xmax)\n",
        "ax.set_ylim(bbox.spatial_bounds.ymin, bbox.spatial_bounds.ymax)\n",
        "\n",
        "plt.show()"
      ]
    },
    {
      "cell_type": "markdown",
      "metadata": {},
      "source": [
        "## Query as image with colorizer option"
      ]
    },
    {
      "cell_type": "code",
      "execution_count": null,
      "metadata": {},
      "outputs": [],
      "source": [
        "time = datetime.strptime(\n",
        "    '2014-04-01T12:00:00.000Z', \"%Y-%m-%dT%H:%M:%S.%f%z\")\n",
        "\n",
        "workflow.wms_get_map_as_image(\n",
        "    ge.QueryRectangle(\n",
        "        ge.BoundingBox2D(-180.0, -90.0, 180.0, 90.0),\n",
        "        ge.TimeInterval(time, time),\n",
        "        resolution=ge.SpatialResolution(1.8, 1.8)\n",
        "        ),\n",
        "    Colorizer.linear_with_mpl_cmap(map_name=\"gray\", min_max=(0,255))\n",
        ")"
      ]
    },
    {
      "cell_type": "markdown",
      "metadata": {},
      "source": [
        "## Query dataframe of point data"
      ]
    },
    {
      "cell_type": "code",
      "execution_count": null,
      "metadata": {
        "tags": []
      },
      "outputs": [],
      "source": [
        "ports = ge.register_workflow({\n",
        "    \"type\": \"Vector\",\n",
        "    \"operator\": {\n",
        "        \"type\": \"OgrSource\",\n",
        "        \"params\": {\n",
        "            \"data\": {\n",
        "                \"type\": \"internal\",\n",
        "                \"datasetId\": \"a9623a5b-b6c5-404b-bc5a-313ff72e4e75\"\n",
        "            },\n",
        "            \"attributeProjection\": None\n",
        "        }\n",
        "    }\n",
        "})\n",
        "\n",
        "time = datetime.strptime(\n",
        "    '2014-04-01T12:00:00.000Z', \"%Y-%m-%dT%H:%M:%S.%f%z\")\n",
        "\n",
        "df = ports.get_dataframe(\n",
        "    ge.QueryRectangle(\n",
        "        ge.BoundingBox2D(-180.0, -90.0, 180.0, 90.0),\n",
        "        ge.TimeInterval(time, time),\n",
        "        ge.SpatialResolution(0.1, 0.1)\n",
        "        )\n",
        ")\n",
        "\n",
        "df.head()"
      ]
    },
    {
      "cell_type": "markdown",
      "metadata": {},
      "source": [
        "## Query whole world and combine with points"
      ]
    },
    {
      "cell_type": "code",
      "execution_count": null,
      "metadata": {},
      "outputs": [],
      "source": [
        "time = datetime.strptime('2014-04-01T12:00:00.000Z', \"%Y-%m-%dT%H:%M:%S.%f%z\")\n",
        "bbox = ge.QueryRectangle(\n",
        "    ge.BoundingBox2D(-180.0, -90.0, 180.0, 90.0),\n",
        "    ge.TimeInterval(time, time),\n",
        "    ge.SpatialResolution(0.1, 0.1)\n",
        ")\n",
        "\n",
        "wms = WebMapService(f'{session.server_url}/wms/{str(workflow)}',\n",
        "                    version='1.3.0',\n",
        "                    auth=Authentication(auth_delegate=session.requests_bearer_auth()),\n",
        "                    timeout=3600)\n",
        "\n",
        "plt.figure(figsize=(12, 6))\n",
        "plt.axes(projection=ccrs.PlateCarree())\n",
        "\n",
        "plt.gca().add_wms(\n",
        "    wms,\n",
        "    layers=[str(workflow)],\n",
        "    wms_kwargs={\n",
        "        'time': urllib.parse.quote(bbox.time_str),\n",
        "        'crs': bbox.srs\n",
        "    }\n",
        ")\n",
        "\n",
        "df.plot(markersize=5, marker='o', color='blue', ax=plt.gca())\n",
        "\n",
        "plt.show()"
      ]
    },
    {
      "cell_type": "markdown",
      "metadata": {},
      "source": [
        "## Query part of the world and combine with points"
      ]
    },
    {
      "cell_type": "code",
      "execution_count": null,
      "metadata": {},
      "outputs": [],
      "source": [
        "time = datetime.strptime('2014-04-01T12:00:00.000Z', \"%Y-%m-%dT%H:%M:%S.%f%z\")\n",
        "bbox = ge.QueryRectangle(\n",
        "    ge.BoundingBox2D(-40.0, -40.0, 40.0, 40.0),\n",
        "    ge.TimeInterval(time, time),\n",
        "    ge.SpatialResolution(0.1, 0.1)\n",
        ")\n",
        "\n",
        "wms = WebMapService(f'{session.server_url}/wms/{str(workflow)}',\n",
        "                    version='1.3.0',\n",
        "                    auth=Authentication(auth_delegate=session.requests_bearer_auth()),\n",
        "                    timeout=3600)\n",
        "\n",
        "plt.figure(figsize=(12, 6))\n",
        "plt.axes(projection=ccrs.PlateCarree())\n",
        "\n",
        "plt.gca().add_wms(\n",
        "    wms,\n",
        "    layers=[str(workflow)],\n",
        "    wms_kwargs={\n",
        "        'time': urllib.parse.quote(bbox.time_str),\n",
        "        'crs': bbox.srs\n",
        "    }\n",
        ")\n",
        "\n",
        "df.plot(markersize=5, marker='o', color='blue', ax=plt.gca())\n",
        "\n",
        "plt.gca().set_xlim(bbox.spatial_bounds.xmin, bbox.spatial_bounds.xmax)\n",
        "plt.gca().set_ylim(bbox.spatial_bounds.ymin, bbox.spatial_bounds.ymax)\n",
        "\n",
        "plt.show()"
      ]
    }
  ],
  "metadata": {
    "kernelspec": {
      "display_name": "projectname",
      "language": "python",
      "name": "projectname"
    },
    "language_info": {
      "codemirror_mode": {
        "name": "ipython",
        "version": 3
      },
      "file_extension": ".py",
      "mimetype": "text/x-python",
      "name": "python",
      "nbconvert_exporter": "python",
      "pygments_lexer": "ipython3",
      "version": "3.10.6"
    },
    "vscode": {
      "interpreter": {
        "hash": "916dbcbb3f70747c44a77c7bcd40155683ae19c65e1c03b4aa3499c5328201f1"
      }
    }
  },
  "nbformat": 4,
  "nbformat_minor": 4
}
