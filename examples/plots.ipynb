{
 "cells": [
  {
   "cell_type": "markdown",
   "metadata": {},
   "source": [
    "# Load raster data via WMS"
   ]
  },
  {
   "cell_type": "code",
   "execution_count": 1,
   "metadata": {},
   "outputs": [],
   "source": [
    "import cartopy.crs as ccrs\n",
    "import matplotlib.pyplot as plt\n",
    "\n",
    "from datetime import datetime\n",
    "\n",
    "import geoengine as ge"
   ]
  },
  {
   "cell_type": "markdown",
   "metadata": {},
   "source": [
    "## Initialize Geo Engine"
   ]
  },
  {
   "cell_type": "code",
   "execution_count": 2,
   "metadata": {},
   "outputs": [],
   "source": [
    "ge.initialize(\"http://peter.geoengine.io:6060\")"
   ]
  },
  {
   "cell_type": "code",
   "execution_count": 3,
   "metadata": {},
   "outputs": [
    {
     "data": {
      "text/plain": [
       "Server:              http://peter.geoengine.io:6060\n",
       "Session Id:          b9f0f6f2-9c36-48a4-b7bd-e4415bc7917f\n",
       "Session valid until: 2021-06-24T16:02:17.001554571Z"
      ]
     },
     "execution_count": 3,
     "metadata": {},
     "output_type": "execute_result"
    }
   ],
   "source": [
    "session = ge.get_session()\n",
    "session"
   ]
  },
  {
   "cell_type": "markdown",
   "metadata": {},
   "source": [
    "## Define workflow of MODIS NDVI raster"
   ]
  },
  {
   "cell_type": "code",
   "execution_count": 4,
   "metadata": {},
   "outputs": [
    {
     "data": {
      "text/plain": [
       "bd4a9bc8-4988-5ba1-bccc-5300e65d4c19"
      ]
     },
     "execution_count": 4,
     "metadata": {},
     "output_type": "execute_result"
    }
   ],
   "source": [
    "workflow = ge.register_workflow({\n",
    "\t\"type\": \"Plot\",\n",
    "\t\"operator\": {\n",
    "\t\t\"type\": \"Histogram\",\n",
    "\t\t\"params\": {\n",
    "\t\t\t\"bounds\": \"data\",\n",
    "\t\t\t\"buckets\": 20\n",
    "\t\t},\n",
    "\t\t\"sources\": {\n",
    "\t\t\t\"source\": {\n",
    "\t\t\t\t\"type\": \"GdalSource\",\n",
    "\t\t\t\t\"params\": {\n",
    "\t\t\t\t\t\"dataset\": {\n",
    "\t\t\t\t\t\t\"internal\": \"36574dc3-560a-4b09-9d22-d5945f2b8093\"\n",
    "\t\t\t\t\t}\n",
    "\t\t\t\t}\n",
    "\t\t\t}\n",
    "\t\t}\n",
    "\t}\n",
    "})\n",
    "    \n",
    "workflow"
   ]
  },
  {
   "cell_type": "code",
   "execution_count": 5,
   "metadata": {},
   "outputs": [
    {
     "data": {
      "text/plain": [
       "Plot Result"
      ]
     },
     "execution_count": 5,
     "metadata": {},
     "output_type": "execute_result"
    }
   ],
   "source": [
    "workflow.get_result_descriptor()"
   ]
  },
  {
   "cell_type": "markdown",
   "metadata": {},
   "source": [
    "## Load plot via API and display with Vega"
   ]
  },
  {
   "cell_type": "code",
   "execution_count": 6,
   "metadata": {},
   "outputs": [
    {
     "data": {
      "application/javascript": [
       "const spec = {\"$schema\": \"https://vega.github.io/schema/vega-lite/v4.json\", \"data\": {\"values\": [{\"binStart\": 0.0, \"binEnd\": 12.75, \"Frequency\": 2168189}, {\"binStart\": 12.75, \"binEnd\": 25.5, \"Frequency\": 290468}, {\"binStart\": 25.5, \"binEnd\": 38.25, \"Frequency\": 69186}, {\"binStart\": 38.25, \"binEnd\": 51.0, \"Frequency\": 93070}, {\"binStart\": 51.0, \"binEnd\": 63.75, \"Frequency\": 151997}, {\"binStart\": 63.75, \"binEnd\": 76.5, \"Frequency\": 90122}, {\"binStart\": 76.5, \"binEnd\": 89.25, \"Frequency\": 97621}, {\"binStart\": 89.25, \"binEnd\": 102.0, \"Frequency\": 85046}, {\"binStart\": 102.0, \"binEnd\": 114.75, \"Frequency\": 76370}, {\"binStart\": 114.75, \"binEnd\": 127.5, \"Frequency\": 67494}, {\"binStart\": 127.5, \"binEnd\": 140.25, \"Frequency\": 66335}, {\"binStart\": 140.25, \"binEnd\": 153.0, \"Frequency\": 63511}, {\"binStart\": 153.0, \"binEnd\": 165.75, \"Frequency\": 67069}, {\"binStart\": 165.75, \"binEnd\": 178.5, \"Frequency\": 64606}, {\"binStart\": 178.5, \"binEnd\": 191.25, \"Frequency\": 64618}, {\"binStart\": 191.25, \"binEnd\": 204.0, \"Frequency\": 64525}, {\"binStart\": 204.0, \"binEnd\": 216.75, \"Frequency\": 71143}, {\"binStart\": 216.75, \"binEnd\": 229.5, \"Frequency\": 50421}, {\"binStart\": 229.5, \"binEnd\": 242.25, \"Frequency\": 29428}, {\"binStart\": 242.25, \"binEnd\": 255.0, \"Frequency\": 4908781}]}, \"mark\": \"bar\", \"encoding\": {\"x\": {\"field\": \"binStart\", \"bin\": {\"binned\": true, \"step\": 12.75}, \"axis\": {\"title\": \"\"}}, \"x2\": {\"field\": \"binEnd\"}, \"y\": {\"field\": \"Frequency\", \"type\": \"quantitative\"}}};\n",
       "const opt = {};\n",
       "const type = \"vega-lite\";\n",
       "const id = \"781cdddb-1abd-49a6-8ca6-1c288eb0999f\";\n",
       "\n",
       "const output_area = this;\n",
       "\n",
       "require([\"nbextensions/jupyter-vega/index\"], function(vega) {\n",
       "  const target = document.createElement(\"div\");\n",
       "  target.id = id;\n",
       "  target.className = \"vega-embed\";\n",
       "\n",
       "  const style = document.createElement(\"style\");\n",
       "  style.textContent = [\n",
       "    \".vega-embed .error p {\",\n",
       "    \"  color: firebrick;\",\n",
       "    \"  font-size: 14px;\",\n",
       "    \"}\",\n",
       "  ].join(\"\\\\n\");\n",
       "\n",
       "  // element is a jQuery wrapped DOM element inside the output area\n",
       "  // see http://ipython.readthedocs.io/en/stable/api/generated/\\\n",
       "  // IPython.display.html#IPython.display.Javascript.__init__\n",
       "  element[0].appendChild(target);\n",
       "  element[0].appendChild(style);\n",
       "\n",
       "  vega.render(\"#\" + id, spec, type, opt, output_area);\n",
       "}, function (err) {\n",
       "  if (err.requireType !== \"scripterror\") {\n",
       "    throw(err);\n",
       "  }\n",
       "});\n"
      ],
      "text/plain": [
       "<vega.vegalite.VegaLite at 0x7fd3e86a4d30>"
      ]
     },
     "execution_count": 6,
     "metadata": {
      "jupyter-vega": "#781cdddb-1abd-49a6-8ca6-1c288eb0999f"
     },
     "output_type": "execute_result"
    },
    {
     "data": {
      "image/png": "[encoded data removed]"
     },
     "metadata": {
      "jupyter-vega": "#781cdddb-1abd-49a6-8ca6-1c288eb0999f"
     },
     "output_type": "display_data"
    }
   ],
   "source": [
    "time = datetime.strptime(\n",
    "    '2014-04-01T12:00:00.000Z', \"%Y-%m-%dT%H:%M:%S.%f%z\")\n",
    "\n",
    "workflow.plot_chart(\n",
    "    ge.Bbox(\n",
    "        [-180.0, -90.0, 180.0, 90.0],\n",
    "        [time, time]\n",
    "        )\n",
    ")"
   ]
  }
 ],
 "metadata": {
  "interpreter": {
   "hash": "d9a58577022e5a7861b3c8ea3505ccc75c3f73de469fb598a66268b17ea40dc4"
  },
  "kernelspec": {
   "display_name": "Python 3",
   "language": "python",
   "name": "python3"
  },
  "language_info": {
   "codemirror_mode": {
    "name": "ipython",
    "version": 3
   },
   "file_extension": ".py",
   "mimetype": "text/x-python",
   "name": "python",
   "nbconvert_exporter": "python",
   "pygments_lexer": "ipython3",
   "version": "3.8.5"
  }
 },
 "nbformat": 4,
 "nbformat_minor": 2
}
