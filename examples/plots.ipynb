{
 "cells": [
  {
   "cell_type": "markdown",
   "metadata": {},
   "source": [
    "# Load raster data via WMS"
   ]
  },
  {
   "cell_type": "code",
   "execution_count": 1,
   "metadata": {},
   "outputs": [],
   "source": [
    "from datetime import datetime\n",
    "\n",
    "import geoengine as ge"
   ]
  },
  {
   "cell_type": "markdown",
   "metadata": {},
   "source": [
    "## Initialize Geo Engine"
   ]
  },
  {
   "cell_type": "code",
   "execution_count": 2,
   "metadata": {},
   "outputs": [],
   "source": [
    "ge.initialize(\"http://localhost:3030\")"
   ]
  },
  {
   "cell_type": "code",
   "execution_count": 3,
   "metadata": {},
   "outputs": [
    {
     "data": {
      "text/plain": [
       "Server:              http://localhost:3030\n",
       "Session Id:          18fec623-6600-41af-b82b-24ccf47cb9f9"
      ]
     },
     "execution_count": 3,
     "metadata": {},
     "output_type": "execute_result"
    }
   ],
   "source": [
    "session = ge.get_session()\n",
    "session"
   ]
  },
  {
   "cell_type": "markdown",
   "metadata": {},
   "source": [
    "## Define workflow of MODIS NDVI raster"
   ]
  },
  {
   "cell_type": "code",
   "execution_count": 4,
   "metadata": {},
   "outputs": [
    {
     "data": {
      "text/plain": [
       "829e226e-874a-5a0a-9548-533b66166b05"
      ]
     },
     "execution_count": 4,
     "metadata": {},
     "output_type": "execute_result"
    }
   ],
   "source": [
    "workflow = ge.register_workflow({\n",
    "\t\"type\": \"Plot\",\n",
    "\t\"operator\": {\n",
    "\t\t\"type\": \"Histogram\",\n",
    "\t\t\"params\": {\n",
    "\t\t\t\"bounds\": \"data\",\n",
    "\t\t\t\"buckets\": 20\n",
    "\t\t},\n",
    "\t\t\"sources\": {\n",
    "\t\t\t\"source\": {\n",
    "\t\t\t\t\"type\": \"GdalSource\",\n",
    "\t\t\t\t\"params\": {\n",
    "\t\t\t\t\t\"data\": {\n",
    "\t\t\t\t\t\t\"type\": \"internal\",\n",
    "\t\t\t\t\t\t\"datasetId\": \"36574dc3-560a-4b09-9d22-d5945f2b8093\"\n",
    "\t\t\t\t\t}\n",
    "\t\t\t\t}\n",
    "\t\t\t}\n",
    "\t\t}\n",
    "\t}\n",
    "})\n",
    "    \n",
    "workflow"
   ]
  },
  {
   "cell_type": "code",
   "execution_count": 5,
   "metadata": {},
   "outputs": [
    {
     "data": {
      "text/plain": [
       "Plot Result"
      ]
     },
     "execution_count": 5,
     "metadata": {},
     "output_type": "execute_result"
    }
   ],
   "source": [
    "workflow.get_result_descriptor()"
   ]
  },
  {
   "cell_type": "markdown",
   "metadata": {},
   "source": [
    "## Load plot via API and display with Vega"
   ]
  },
  {
   "cell_type": "code",
   "execution_count": 6,
   "metadata": {},
   "outputs": [
    {
     "data": {
      "application/javascript": [
       "const spec = {\"$schema\": \"https://vega.github.io/schema/vega-lite/v4.json\", \"data\": {\"values\": [{\"binStart\": 1.0, \"binEnd\": 13.7, \"Frequency\": 11243}, {\"binStart\": 13.7, \"binEnd\": 26.4, \"Frequency\": 295370}, {\"binStart\": 26.4, \"binEnd\": 39.099999999999994, \"Frequency\": 66337}, {\"binStart\": 39.099999999999994, \"binEnd\": 51.8, \"Frequency\": 101637}, {\"binStart\": 51.8, \"binEnd\": 64.5, \"Frequency\": 144761}, {\"binStart\": 64.5, \"binEnd\": 77.2, \"Frequency\": 90730}, {\"binStart\": 77.2, \"binEnd\": 89.9, \"Frequency\": 90168}, {\"binStart\": 89.9, \"binEnd\": 102.60000000000001, \"Frequency\": 91465}, {\"binStart\": 102.60000000000001, \"binEnd\": 115.30000000000001, \"Frequency\": 75286}, {\"binStart\": 115.30000000000001, \"binEnd\": 128.0, \"Frequency\": 62159}, {\"binStart\": 128.0, \"binEnd\": 140.7, \"Frequency\": 66335}, {\"binStart\": 140.7, \"binEnd\": 153.39999999999998, \"Frequency\": 68688}, {\"binStart\": 153.39999999999998, \"binEnd\": 166.09999999999997, \"Frequency\": 66999}, {\"binStart\": 166.09999999999997, \"binEnd\": 178.79999999999995, \"Frequency\": 59499}, {\"binStart\": 178.79999999999995, \"binEnd\": 191.49999999999994, \"Frequency\": 64618}, {\"binStart\": 191.49999999999994, \"binEnd\": 204.19999999999993, \"Frequency\": 70166}, {\"binStart\": 204.19999999999993, \"binEnd\": 216.89999999999992, \"Frequency\": 65502}, {\"binStart\": 216.89999999999992, \"binEnd\": 229.5999999999999, \"Frequency\": 50421}, {\"binStart\": 229.5999999999999, \"binEnd\": 242.2999999999999, \"Frequency\": 29428}, {\"binStart\": 242.2999999999999, \"binEnd\": 254.9999999999999, \"Frequency\": 4908781}]}, \"mark\": \"bar\", \"encoding\": {\"x\": {\"field\": \"binStart\", \"bin\": {\"binned\": true, \"step\": 12.7}, \"axis\": {\"title\": \"vegetation\"}}, \"x2\": {\"field\": \"binEnd\"}, \"y\": {\"field\": \"Frequency\", \"type\": \"quantitative\"}}};\n",
       "const opt = {};\n",
       "const type = \"vega-lite\";\n",
       "const id = \"10d128cf-9bb9-47ff-a5f0-e4d960329a44\";\n",
       "\n",
       "const output_area = this;\n",
       "\n",
       "require([\"nbextensions/jupyter-vega/index\"], function(vega) {\n",
       "  const target = document.createElement(\"div\");\n",
       "  target.id = id;\n",
       "  target.className = \"vega-embed\";\n",
       "\n",
       "  const style = document.createElement(\"style\");\n",
       "  style.textContent = [\n",
       "    \".vega-embed .error p {\",\n",
       "    \"  color: firebrick;\",\n",
       "    \"  font-size: 14px;\",\n",
       "    \"}\",\n",
       "  ].join(\"\\\\n\");\n",
       "\n",
       "  // element is a jQuery wrapped DOM element inside the output area\n",
       "  // see http://ipython.readthedocs.io/en/stable/api/generated/\\\n",
       "  // IPython.display.html#IPython.display.Javascript.__init__\n",
       "  element[0].appendChild(target);\n",
       "  element[0].appendChild(style);\n",
       "\n",
       "  vega.render(\"#\" + id, spec, type, opt, output_area);\n",
       "}, function (err) {\n",
       "  if (err.requireType !== \"scripterror\") {\n",
       "    throw(err);\n",
       "  }\n",
       "});\n"
      ],
      "text/plain": [
       "<vega.vegalite.VegaLite at 0x7f2c685dde20>"
      ]
     },
     "execution_count": 6,
     "metadata": {
      "jupyter-vega": "#10d128cf-9bb9-47ff-a5f0-e4d960329a44"
     },
     "output_type": "execute_result"
    },
    {
     "data": {
      "image/png": "[encoded data removed]"
     },
     "metadata": {
      "jupyter-vega": "#10d128cf-9bb9-47ff-a5f0-e4d960329a44"
     },
     "output_type": "display_data"
    }
   ],
   "source": [
    "time = datetime.strptime(\n",
    "    '2014-04-01T12:00:00.000Z', \"%Y-%m-%dT%H:%M:%S.%f%z\")\n",
    "\n",
    "workflow.plot_chart(\n",
    "    ge.QueryRectangle(\n",
    "        [-180.0, -90.0, 180.0, 90.0],\n",
    "        [time, time]\n",
    "        )\n",
    ")"
   ]
  }
 ],
 "metadata": {
  "kernelspec": {
   "display_name": "Python 3",
   "language": "python",
   "name": "python3"
  },
  "language_info": {
   "codemirror_mode": {
    "name": "ipython",
    "version": 3
   },
   "file_extension": ".py",
   "mimetype": "text/x-python",
   "name": "python",
   "nbconvert_exporter": "python",
   "pygments_lexer": "ipython3",
   "version": "3.8.10"
  },
  "vscode": {
   "interpreter": {
    "hash": "ec9c82b9ea2ea2d349d18529bf563c39c0d86f3d62d47a95d6d3e31e10411d18"
   }
  }
 },
 "nbformat": 4,
 "nbformat_minor": 2
}
