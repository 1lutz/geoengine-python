{
 "cells": [
  {
   "cell_type": "markdown",
   "metadata": {},
   "source": [
    "# Add Public Raster Dataset"
   ]
  },
  {
   "cell_type": "code",
   "execution_count": 10,
   "metadata": {},
   "outputs": [],
   "source": [
    "import geoengine as ge\n",
    "from datetime import datetime"
   ]
  },
  {
   "cell_type": "markdown",
   "metadata": {},
   "source": [
    "## Initialize Geo Engine as Admin"
   ]
  },
  {
   "cell_type": "code",
   "execution_count": 11,
   "metadata": {},
   "outputs": [],
   "source": [
    "ge.initialize(\"http://localhost:3030\", admin_token=\"8aca8875-425a-4ef1-8ee6-cdfc62dd7525\")"
   ]
  },
  {
   "cell_type": "markdown",
   "metadata": {},
   "source": [
    "## List volumes"
   ]
  },
  {
   "cell_type": "code",
   "execution_count": 12,
   "metadata": {},
   "outputs": [
    {
     "data": {
      "text/plain": [
       "[Volume(name='test_data', path='test_data/')]"
      ]
     },
     "execution_count": 12,
     "metadata": {},
     "output_type": "execute_result"
    }
   ],
   "source": [
    "volumes = ge.volumes()\n",
    "volumes"
   ]
  },
  {
   "cell_type": "markdown",
   "metadata": {},
   "source": [
    "## Define metadata"
   ]
  },
  {
   "cell_type": "code",
   "execution_count": 14,
   "metadata": {},
   "outputs": [
    {
     "data": {
      "text/plain": [
       "{'type': 'GdalStatic',\n",
       " 'time': None,\n",
       " 'params': {'filePath': 'raster/landcover.tif',\n",
       "  'rasterbandChannel': 1,\n",
       "  'geoTransform': {'originCoordinate': {'x': -180.0, 'y': 90.0},\n",
       "   'xPixelSize': 0.1,\n",
       "   'yPixelSize': -0.1},\n",
       "  'width': 3600,\n",
       "  'height': 1800,\n",
       "  'fileNotFoundHandling': 'NoData',\n",
       "  'noDataValue': None,\n",
       "  'propertiesMapping': None,\n",
       "  'gdalOpenOptions': None,\n",
       "  'gdalConfigOptions': None,\n",
       "  'allowAlphabandAsMask': True},\n",
       " 'resultDescriptor': {'type': 'raster',\n",
       "  'dataType': 'U8',\n",
       "  'measurement': {'type': 'classification',\n",
       "   'measurement': 'Land Cover',\n",
       "   'classes': {0: 'Water Bodies',\n",
       "    1: 'Evergreen Needleleaf Forests',\n",
       "    2: 'Evergreen Broadleaf Forests',\n",
       "    3: 'Deciduous Needleleaf Forests',\n",
       "    4: 'Deciduous Broadleleaf Forests',\n",
       "    5: 'Mixed Forests',\n",
       "    6: 'Closed Shrublands',\n",
       "    7: 'Open Shrublands',\n",
       "    8: 'Woody Savannas',\n",
       "    9: 'Savannas',\n",
       "    10: 'Grasslands',\n",
       "    11: 'Permanent Wtlands',\n",
       "    12: 'Croplands',\n",
       "    13: 'Urban and Built-Up',\n",
       "    14: 'Cropland-Natural Vegetation Mosaics',\n",
       "    15: 'Snow and Ice',\n",
       "    16: 'Barren or Sparsely Vegetated'}},\n",
       "  'spatialReference': 'EPSG:4326'}}"
      ]
     },
     "execution_count": 14,
     "metadata": {},
     "output_type": "execute_result"
    }
   ],
   "source": [
    "file_path = \"raster/landcover.tif\" # specify file path relative to volume path\n",
    "\n",
    "rasterband_channel = 1\n",
    "\n",
    "origin = [-180.0, 90.0]\n",
    "x_pixel_size = 0.1\n",
    "y_pixel_size = -0.1\n",
    "geo_transform = ge.GdalDatasetGeoTransform(origin, x_pixel_size, y_pixel_size)\n",
    "\n",
    "width = 3600\n",
    "height = 1800\n",
    "\n",
    "file_not_found_handling = ge.FileNotFoundHandling.NODATA\n",
    "\n",
    "gdal_params = ge.GdalDatasetParameters(\n",
    "  file_path, \n",
    "  rasterband_channel, \n",
    "  geo_transform, \n",
    "  width, \n",
    "  height, \n",
    "  file_not_found_handling, \n",
    "  no_data_value=None, \n",
    "  properties_mapping=None, \n",
    "  gdal_open_options=None, \n",
    "  gdal_config_options=None, \n",
    "  allow_alphaband_as_mask=True\n",
    ")\n",
    "\n",
    "result_descriptor_dict = {\n",
    "      \"dataType\": \"U8\",\n",
    "      \"spatialReference\": \"EPSG:4326\",\n",
    "      \"measurement\": {\n",
    "        \"type\": \"classification\",\n",
    "        \"measurement\": \"Land Cover\",\n",
    "        \"classes\": {\n",
    "          \"0\": \"Water Bodies\",\n",
    "          \"1\": \"Evergreen Needleleaf Forests\",\n",
    "          \"2\": \"Evergreen Broadleaf Forests\",\n",
    "          \"3\": \"Deciduous Needleleaf Forests\",\n",
    "          \"4\": \"Deciduous Broadleleaf Forests\",\n",
    "          \"5\": \"Mixed Forests\",\n",
    "          \"6\": \"Closed Shrublands\",\n",
    "          \"7\": \"Open Shrublands\",\n",
    "          \"8\": \"Woody Savannas\",\n",
    "          \"9\": \"Savannas\",\n",
    "          \"10\": \"Grasslands\",\n",
    "          \"11\": \"Permanent Wtlands\",\n",
    "          \"12\": \"Croplands\",\n",
    "          \"13\": \"Urban and Built-Up\",\n",
    "          \"14\": \"Cropland-Natural Vegetation Mosaics\",\n",
    "          \"15\": \"Snow and Ice\",\n",
    "          \"16\": \"Barren or Sparsely Vegetated\"\n",
    "        }\n",
    "      },\n",
    "      \"noDataValue\": 255.0,\n",
    "      \"time\": {\n",
    "        \"start\": \"-262144-01-01T00:00:00+00:00\",\n",
    "        \"end\": \"+262143-12-31T23:59:59.999+00:00\"\n",
    "      },\n",
    "      \"bbox\": {\n",
    "        \"upperLeftCoordinate\": [-180.0, 90.0],\n",
    "        \"lowerRightCoordinate\": [180.0, -90.0]\n",
    "      },\n",
    "      \"resolution\": {\n",
    "        \"x\": 0.1,\n",
    "        \"y\": 0.1\n",
    "      }\n",
    "    }\n",
    "\n",
    "result_descriptor = ge.RasterResultDescriptor(result_descriptor_dict)\n",
    "\n",
    "meta_data = ge.GdalMetaDataStatic(\n",
    "  time=None, \n",
    "  params=gdal_params, \n",
    "  result_descriptor=result_descriptor\n",
    ")\n",
    "\n",
    "meta_data.to_dict()"
   ]
  },
  {
   "cell_type": "markdown",
   "metadata": {},
   "source": [
    "## Add raster dataset the the first volume"
   ]
  },
  {
   "cell_type": "code",
   "execution_count": 15,
   "metadata": {},
   "outputs": [
    {
     "data": {
      "text/plain": [
       "90dd499c-fd32-4308-a151-97cdbafc9a24"
      ]
     },
     "execution_count": 15,
     "metadata": {},
     "output_type": "execute_result"
    }
   ],
   "source": [
    "dataset_id = ge.add_public_raster_dataset(volumes[0].name, \"landcover\", meta_data)\n",
    "\n",
    "dataset_id"
   ]
  },
  {
   "cell_type": "markdown",
   "metadata": {},
   "source": [
    "## Verify that data is accessible for user"
   ]
  },
  {
   "cell_type": "code",
   "execution_count": 16,
   "metadata": {},
   "outputs": [
    {
     "data": {
      "text/plain": [
       "Data type:         U8\n",
       "Spatial Reference: EPSG:4326\n",
       "Measurement:       Land Cover (0: Water Bodies, 1: Evergreen Needleleaf Forests, 10: Grasslands, 11: Permanent Wtlands, 12: Croplands, 13: Urban and Built-Up, 14: Cropland-Natural Vegetation Mosaics, 15: Snow and Ice, 16: Barren or Sparsely Vegetated, 2: Evergreen Broadleaf Forests, 3: Deciduous Needleleaf Forests, 4: Deciduous Broadleleaf Forests, 5: Mixed Forests, 6: Closed Shrublands, 7: Open Shrublands, 8: Woody Savannas, 9: Savannas)"
      ]
     },
     "execution_count": 16,
     "metadata": {},
     "output_type": "execute_result"
    }
   ],
   "source": [
    "ge.reset()\n",
    "ge.initialize(\"http://localhost:3030\")\n",
    "\n",
    "workflow = ge.register_workflow({\n",
    "    \"type\": \"Raster\",\n",
    "    \"operator\": {\n",
    "        \"type\": \"GdalSource\",\n",
    "        \"params\": {\n",
    "            \"data\": {\n",
    "                \"type\": \"internal\",\n",
    "                \"datasetId\": str(dataset_id)\n",
    "            },\n",
    "        }\n",
    "    }\n",
    "})\n",
    "\n",
    "workflow.get_result_descriptor()"
   ]
  }
 ],
 "metadata": {
  "kernelspec": {
   "display_name": "Python 3.10.6 ('env': venv)",
   "language": "python",
   "name": "python3"
  },
  "language_info": {
   "codemirror_mode": {
    "name": "ipython",
    "version": 3
   },
   "file_extension": ".py",
   "mimetype": "text/x-python",
   "name": "python",
   "nbconvert_exporter": "python",
   "pygments_lexer": "ipython3",
   "version": "3.10.6"
  },
  "orig_nbformat": 4,
  "vscode": {
   "interpreter": {
    "hash": "ec9c82b9ea2ea2d349d18529bf563c39c0d86f3d62d47a95d6d3e31e10411d18"
   }
  }
 },
 "nbformat": 4,
 "nbformat_minor": 2
}
