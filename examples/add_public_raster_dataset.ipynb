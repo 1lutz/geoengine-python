{
 "cells": [
  {
   "cell_type": "markdown",
   "metadata": {},
   "source": [
    "# Add Public Raster Dataset"
   ]
  },
  {
   "cell_type": "code",
   "execution_count": 1,
   "metadata": {},
   "outputs": [],
   "source": [
    "import geoengine as ge\n",
    "from datetime import datetime"
   ]
  },
  {
   "cell_type": "markdown",
   "metadata": {},
   "source": [
    "## Initialize Geo Engine as Admin"
   ]
  },
  {
   "cell_type": "code",
   "execution_count": 2,
   "metadata": {},
   "outputs": [],
   "source": [
    "ge.initialize(\"http://localhost:3030\", admin_token=\"8aca8875-425a-4ef1-8ee6-cdfc62dd7525\")"
   ]
  },
  {
   "cell_type": "markdown",
   "metadata": {},
   "source": [
    "## List volumes"
   ]
  },
  {
   "cell_type": "code",
   "execution_count": 3,
   "metadata": {},
   "outputs": [
    {
     "data": {
      "text/plain": [
       "[Volume(name='test_data', path='test_data/')]"
      ]
     },
     "execution_count": 3,
     "metadata": {},
     "output_type": "execute_result"
    }
   ],
   "source": [
    "volumes = ge.volumes()\n",
    "volumes"
   ]
  },
  {
   "cell_type": "markdown",
   "metadata": {},
   "source": [
    "## Define metadata"
   ]
  },
  {
   "cell_type": "code",
   "execution_count": 4,
   "metadata": {},
   "outputs": [
    {
     "data": {
      "text/plain": [
       "{'type': 'GdalStatic',\n",
       " 'time': None,\n",
       " 'params': {'filePath': 'raster/landcover.tif',\n",
       "  'rasterbandChannel': 1,\n",
       "  'geoTransform': {'originCoordinate': [-180.0, 90.0],\n",
       "   'xPixelSize': 0.1,\n",
       "   'yPixelSize': -0.1},\n",
       "  'width': 3600,\n",
       "  'height': 1800,\n",
       "  'fileNotFoundHandling': <FileNotFoundHandling.NODATA: 'NoData'>,\n",
       "  'noDataValue': None,\n",
       "  'propertiesMapping': None,\n",
       "  'gdalOpenOptions': None,\n",
       "  'gdalConfigOptions': None,\n",
       "  'allowAlphabandAsMask': True},\n",
       " 'resultDescriptor': Data type:         U8\n",
       " Spatial Reference: EPSG:4326\n",
       " Measurement:       Land Cover (0: Water Bodies, 1: Evergreen Needleleaf Forests, 2: Evergreen Broadleaf Forests, 3: Deciduous Needleleaf Forests, 4: Deciduous Broadleleaf Forests, 5: Mixed Forests, 6: Closed Shrublands, 7: Open Shrublands, 8: Woody Savannas, 9: Savannas, 10: Grasslands, 11: Permanent Wtlands, 12: Croplands, 13: Urban and Built-Up, 14: Cropland-Natural Vegetation Mosaics, 15: Snow and Ice, 16: Barren or Sparsely Vegetated)}"
      ]
     },
     "execution_count": 4,
     "metadata": {},
     "output_type": "execute_result"
    }
   ],
   "source": [
    "file_path = \"raster/landcover.tif\" # specify file path relative to volume path\n",
    "\n",
    "rasterband_channel = 1\n",
    "\n",
    "origin = [-180.0, 90.0]\n",
    "x_pixel_size = 0.1\n",
    "y_pixel_size = -0.1\n",
    "geo_transform = ge.GdalDatasetGeoTransform({\n",
    "  \"originCoordinate\": origin, \n",
    "  \"xPixelSize\": x_pixel_size, \n",
    "  \"yPixelSize\": y_pixel_size\n",
    "})\n",
    "\n",
    "width = 3600\n",
    "height = 1800\n",
    "\n",
    "file_not_found_handling = ge.FileNotFoundHandling.NODATA\n",
    "\n",
    "gdal_params = ge.GdalDatasetParameters({\n",
    "  \"filePath\": file_path, \n",
    "  \"rasterbandChannel\": rasterband_channel, \n",
    "  \"geoTransform\": geo_transform,\n",
    "  \"width\": width, \n",
    "  \"height\": height , \n",
    "  \"fileNotFoundHandling\": file_not_found_handling, \n",
    "  \"noDataValue\": None, \n",
    "  \"propertiesMapping\": None, \n",
    "  \"gdalOpenOptions\": None, \n",
    "  \"gdalConfigOptions\": None, \n",
    "  \"allowAlphabandAsMask\": True\n",
    "})\n",
    "\n",
    "result_descriptor_dict = {\n",
    "      \"dataType\": \"U8\",\n",
    "      \"spatialReference\": \"EPSG:4326\",\n",
    "      \"measurement\": {\n",
    "        \"type\": \"classification\",\n",
    "        \"measurement\": \"Land Cover\",\n",
    "        \"classes\": {\n",
    "          \"0\": \"Water Bodies\",\n",
    "          \"1\": \"Evergreen Needleleaf Forests\",\n",
    "          \"2\": \"Evergreen Broadleaf Forests\",\n",
    "          \"3\": \"Deciduous Needleleaf Forests\",\n",
    "          \"4\": \"Deciduous Broadleleaf Forests\",\n",
    "          \"5\": \"Mixed Forests\",\n",
    "          \"6\": \"Closed Shrublands\",\n",
    "          \"7\": \"Open Shrublands\",\n",
    "          \"8\": \"Woody Savannas\",\n",
    "          \"9\": \"Savannas\",\n",
    "          \"10\": \"Grasslands\",\n",
    "          \"11\": \"Permanent Wtlands\",\n",
    "          \"12\": \"Croplands\",\n",
    "          \"13\": \"Urban and Built-Up\",\n",
    "          \"14\": \"Cropland-Natural Vegetation Mosaics\",\n",
    "          \"15\": \"Snow and Ice\",\n",
    "          \"16\": \"Barren or Sparsely Vegetated\"\n",
    "        }\n",
    "      },\n",
    "      \"noDataValue\": 255.0,\n",
    "      \"time\": {\n",
    "        \"start\": \"-262144-01-01T00:00:00+00:00\",\n",
    "        \"end\": \"+262143-12-31T23:59:59.999+00:00\"\n",
    "      },\n",
    "      \"bbox\": {\n",
    "        \"upperLeftCoordinate\": [-180.0, 90.0],\n",
    "        \"lowerRightCoordinate\": [180.0, -90.0]\n",
    "      },\n",
    "      \"resolution\": {\n",
    "        \"x\": 0.1,\n",
    "        \"y\": 0.1\n",
    "      }\n",
    "    }\n",
    "\n",
    "result_descriptor = ge.RasterResultDescriptor(result_descriptor_dict)\n",
    "\n",
    "meta_data = ge.GdalMetaDataStatic({\n",
    "  \"type\": \"GdalStatic\",\n",
    "  \"time\": None, \n",
    "  \"params\": gdal_params, \n",
    "  \"resultDescriptor\": result_descriptor\n",
    "})\n",
    "\n",
    "meta_data"
   ]
  },
  {
   "cell_type": "markdown",
   "metadata": {},
   "source": [
    "## Add raster dataset the the first volume"
   ]
  },
  {
   "cell_type": "code",
   "execution_count": 6,
   "metadata": {},
   "outputs": [
    {
     "name": "stdout",
     "output_type": "stream",
     "text": [
      "{\"dataPath\": {\"volume\": \"test_data\"}, \"definition\": {\"properties\": {\"name\": \"landcover\", \"description\": \"\", \"sourceOperator\": \"GdalSource\"}, \"metaData\": {\"type\": \"GdalStatic\", \"time\": null, \"params\": {\"filePath\": \"raster/landcover.tif\", \"rasterbandChannel\": 1, \"geoTransform\": {\"originCoordinate\": [-180.0, 90.0], \"xPixelSize\": 0.1, \"yPixelSize\": -0.1}, \"width\": 3600, \"height\": 1800, \"fileNotFoundHandling\": \"NoData\", \"noDataValue\": null, \"propertiesMapping\": null, \"gdalOpenOptions\": null, \"gdalConfigOptions\": null, \"allowAlphabandAsMask\": true}, \"resultDescriptor\": {\"type\": \"raster\", \"dataType\": \"U8\", \"measurement\": {\"type\": \"classification\", \"measurement\": \"Land Cover\", \"classes\": {\"0\": \"Water Bodies\", \"1\": \"Evergreen Needleleaf Forests\", \"2\": \"Evergreen Broadleaf Forests\", \"3\": \"Deciduous Needleleaf Forests\", \"4\": \"Deciduous Broadleleaf Forests\", \"5\": \"Mixed Forests\", \"6\": \"Closed Shrublands\", \"7\": \"Open Shrublands\", \"8\": \"Woody Savannas\", \"9\": \"Savannas\", \"10\": \"Grasslands\", \"11\": \"Permanent Wtlands\", \"12\": \"Croplands\", \"13\": \"Urban and Built-Up\", \"14\": \"Cropland-Natural Vegetation Mosaics\", \"15\": \"Snow and Ice\", \"16\": \"Barren or Sparsely Vegetated\"}}, \"spatialReference\": \"EPSG:4326\"}}}}\n"
     ]
    },
    {
     "data": {
      "text/plain": [
       "6610dfd1-048a-4dfa-85b4-9babe1d6de8c"
      ]
     },
     "execution_count": 6,
     "metadata": {},
     "output_type": "execute_result"
    }
   ],
   "source": [
    "dataset_id = ge.add_public_raster_dataset(volumes[0].name, \"landcover\", meta_data)\n",
    "\n",
    "dataset_id"
   ]
  },
  {
   "cell_type": "markdown",
   "metadata": {},
   "source": [
    "## Verify that data is accessible for user"
   ]
  },
  {
   "cell_type": "code",
   "execution_count": 7,
   "metadata": {},
   "outputs": [
    {
     "data": {
      "text/plain": [
       "Data type:         U8\n",
       "Spatial Reference: EPSG:4326\n",
       "Measurement:       Land Cover (0: Water Bodies, 1: Evergreen Needleleaf Forests, 10: Grasslands, 11: Permanent Wtlands, 12: Croplands, 13: Urban and Built-Up, 14: Cropland-Natural Vegetation Mosaics, 15: Snow and Ice, 16: Barren or Sparsely Vegetated, 2: Evergreen Broadleaf Forests, 3: Deciduous Needleleaf Forests, 4: Deciduous Broadleleaf Forests, 5: Mixed Forests, 6: Closed Shrublands, 7: Open Shrublands, 8: Woody Savannas, 9: Savannas)"
      ]
     },
     "execution_count": 7,
     "metadata": {},
     "output_type": "execute_result"
    }
   ],
   "source": [
    "ge.reset()\n",
    "ge.initialize(\"http://localhost:3030\")\n",
    "\n",
    "workflow = ge.register_workflow({\n",
    "    \"type\": \"Raster\",\n",
    "    \"operator\": {\n",
    "        \"type\": \"GdalSource\",\n",
    "        \"params\": {\n",
    "            \"data\": {\n",
    "                \"type\": \"internal\",\n",
    "                \"datasetId\": str(dataset_id)\n",
    "            },\n",
    "        }\n",
    "    }\n",
    "})\n",
    "\n",
    "workflow.get_result_descriptor()"
   ]
  },
  {
   "cell_type": "code",
   "execution_count": null,
   "metadata": {},
   "outputs": [],
   "source": []
  }
 ],
 "metadata": {
  "kernelspec": {
   "display_name": "Python 3.10.6 ('env': venv)",
   "language": "python",
   "name": "python3"
  },
  "language_info": {
   "codemirror_mode": {
    "name": "ipython",
    "version": 3
   },
   "file_extension": ".py",
   "mimetype": "text/x-python",
   "name": "python",
   "nbconvert_exporter": "python",
   "pygments_lexer": "ipython3",
   "version": "3.10.6"
  },
  "orig_nbformat": 4,
  "vscode": {
   "interpreter": {
    "hash": "ec9c82b9ea2ea2d349d18529bf563c39c0d86f3d62d47a95d6d3e31e10411d18"
   }
  }
 },
 "nbformat": 4,
 "nbformat_minor": 2
}
