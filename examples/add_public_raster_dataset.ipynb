{
 "cells": [
  {
   "cell_type": "markdown",
   "metadata": {},
   "source": [
    "# Add Public Raster Dataset"
   ]
  },
  {
   "cell_type": "code",
   "execution_count": 1,
   "metadata": {},
   "outputs": [],
   "source": [
    "import geoengine as ge\n",
    "from datetime import datetime"
   ]
  },
  {
   "cell_type": "markdown",
   "metadata": {},
   "source": [
    "## Initialize Geo Engine as Admin"
   ]
  },
  {
   "cell_type": "code",
   "execution_count": 2,
   "metadata": {},
   "outputs": [],
   "source": [
    "ge.initialize(\"http://localhost:3030/api\", admin_token=\"8aca8875-425a-4ef1-8ee6-cdfc62dd7525\")"
   ]
  },
  {
   "cell_type": "markdown",
   "metadata": {},
   "source": [
    "## List volumes"
   ]
  },
  {
   "cell_type": "code",
   "execution_count": 3,
   "metadata": {},
   "outputs": [
    {
     "data": {
      "text/plain": [
       "[Volume(name='test_data', path='test_data/')]"
      ]
     },
     "execution_count": 3,
     "metadata": {},
     "output_type": "execute_result"
    }
   ],
   "source": [
    "volumes = ge.volumes()\n",
    "volumes"
   ]
  },
  {
   "cell_type": "markdown",
   "metadata": {},
   "source": [
    "## Define metadata"
   ]
  },
  {
   "cell_type": "code",
   "execution_count": 4,
   "metadata": {},
   "outputs": [
    {
     "name": "stdout",
     "output_type": "stream",
     "text": [
      "0.1,0.1 <class 'geoengine.types.SpatialResolution'>\n"
     ]
    },
    {
     "data": {
      "text/plain": [
       "{'type': 'GdalStatic',\n",
       " 'time': None,\n",
       " 'params': {'filePath': 'raster/landcover/landcover.tif',\n",
       "  'rasterbandChannel': 1,\n",
       "  'geoTransform': {'originCoordinate': [-180.0, 90.0],\n",
       "   'xPixelSize': 0.1,\n",
       "   'yPixelSize': -0.1},\n",
       "  'width': 3600,\n",
       "  'height': 1800,\n",
       "  'fileNotFoundHandling': <FileNotFoundHandling.NODATA: 'NoData'>,\n",
       "  'noDataValue': None,\n",
       "  'propertiesMapping': None,\n",
       "  'gdalOpenOptions': None,\n",
       "  'gdalConfigOptions': None,\n",
       "  'allowAlphabandAsMask': True},\n",
       " 'resultDescriptor': <geoengine.types.RasterResultDescriptor at 0x7f19dceb8dc0>}"
      ]
     },
     "execution_count": 4,
     "metadata": {},
     "output_type": "execute_result"
    }
   ],
   "source": [
    "file_path = \"raster/landcover/landcover.tif\" # specify file path relative to volume path\n",
    "\n",
    "rasterband_channel = 1\n",
    "\n",
    "origin = [-180.0, 90.0]\n",
    "x_pixel_size = 0.1\n",
    "y_pixel_size = -0.1\n",
    "geo_transform = ge.api.GdalDatasetGeoTransform({\n",
    "  \"originCoordinate\": origin, \n",
    "  \"xPixelSize\": x_pixel_size, \n",
    "  \"yPixelSize\": y_pixel_size\n",
    "})\n",
    "\n",
    "width = 3600\n",
    "height = 1800\n",
    "\n",
    "file_not_found_handling = ge.api.FileNotFoundHandling.NODATA\n",
    "\n",
    "gdal_params = ge.api.GdalDatasetParameters({\n",
    "  \"filePath\": file_path, \n",
    "  \"rasterbandChannel\": rasterband_channel, \n",
    "  \"geoTransform\": geo_transform,\n",
    "  \"width\": width, \n",
    "  \"height\": height , \n",
    "  \"fileNotFoundHandling\": file_not_found_handling, \n",
    "  \"noDataValue\": None, \n",
    "  \"propertiesMapping\": None, \n",
    "  \"gdalOpenOptions\": None, \n",
    "  \"gdalConfigOptions\": None, \n",
    "  \"allowAlphabandAsMask\": True\n",
    "})\n",
    "\n",
    "result_descriptor_measurement = ge.ClassificationMeasurement(\n",
    "        measurement = \"Land Cover\",\n",
    "        classes = {\n",
    "          \"0\": \"Water Bodies\",\n",
    "          \"1\": \"Evergreen Needleleaf Forests\",\n",
    "          \"2\": \"Evergreen Broadleaf Forests\",\n",
    "          \"3\": \"Deciduous Needleleaf Forests\",\n",
    "          \"4\": \"Deciduous Broadleleaf Forests\",\n",
    "          \"5\": \"Mixed Forests\",\n",
    "          \"6\": \"Closed Shrublands\",\n",
    "          \"7\": \"Open Shrublands\",\n",
    "          \"8\": \"Woody Savannas\",\n",
    "          \"9\": \"Savannas\",\n",
    "          \"10\": \"Grasslands\",\n",
    "          \"11\": \"Permanent Wtlands\",\n",
    "          \"12\": \"Croplands\",\n",
    "          \"13\": \"Urban and Built-Up\",\n",
    "          \"14\": \"Cropland-Natural Vegetation Mosaics\",\n",
    "          \"15\": \"Snow and Ice\",\n",
    "          \"16\": \"Barren or Sparsely Vegetated\"\n",
    "        }\n",
    "\n",
    ")\n",
    "\n",
    "\n",
    "\n",
    "result_descriptor = ge.RasterResultDescriptor(\n",
    "  \"U8\",\n",
    "  result_descriptor_measurement,\n",
    "  \"EPSG:4326\",\n",
    "  spatial_bounds=ge.SpatialPartition2D(-180.0, -90.0, 180.0, 90.0),\n",
    "  spatial_resolution=ge.SpatialResolution(0.1, 0.1)\n",
    ")\n",
    "\n",
    "meta_data = ge.api.GdalMetaDataStatic({\n",
    "  \"type\": \"GdalStatic\",\n",
    "  \"time\": None, \n",
    "  \"params\": gdal_params, \n",
    "  \"resultDescriptor\": result_descriptor\n",
    "})\n",
    "\n",
    "meta_data"
   ]
  },
  {
   "cell_type": "code",
   "execution_count": 5,
   "metadata": {},
   "outputs": [
    {
     "data": {
      "text/plain": [
       "{'id': None,\n",
       " 'name': 'Land Cover',\n",
       " 'description': 'Land Cover',\n",
       " 'sourceOperator': 'GdalSource',\n",
       " 'symbology': {'type': 'raster',\n",
       "  'colorizer': {'type': 'linearGradient',\n",
       "   'breakpoints': [{'value': 0, 'color': (0, 0, 255, 255)},\n",
       "    {'value': 8, 'color': (0, 255, 0, 255)},\n",
       "    {'value': 16, 'color': (255, 0, 0, 255)}],\n",
       "   'noDataColor': (0, 0, 0, 0),\n",
       "   'defaultColor': (0, 0, 0, 0)},\n",
       "  'opacity': 1.0},\n",
       " 'provenance': {'citation': 'The data was obtained from <https://lpdaac.usgs.gov/products/mcd12c1v006>. The layer Majority_Land_Cover_Type_1 was extracted, downscaled and saved as landcover.tif.',\n",
       "  'license': 'All data distributed by the LP DAAC contain no restrictions on the data reuse. (https://lpdaac.usgs.gov/resources/faqs/#am-i-allowed-to-reuse-lp-daac-data).',\n",
       "  'uri': 'https://lpdaac.usgs.gov/products/mcd12c1v006/'}}"
      ]
     },
     "execution_count": 5,
     "metadata": {},
     "output_type": "execute_result"
    }
   ],
   "source": [
    "add_dataset_properties = ge.AddDataset( \n",
    "    name = \"Land Cover\",\n",
    "    source_operator = \"GdalSource\",\n",
    "    description = \"Land Cover\",\n",
    "    symbology = ge.RasterSymbology(\n",
    "      opacity = 1.0,\n",
    "      colorizer = ge.LinearGradientColorizer(breakpoints=[\n",
    "        ge.ColorBreakpoint(value=0, color=(0, 0, 255, 255)),\n",
    "        ge.ColorBreakpoint(value=8, color=(0, 255, 0, 255)),\n",
    "        ge.ColorBreakpoint(value=16, color=(255, 0, 0, 255))\n",
    "        ],\n",
    "        no_data_color= (0, 0, 0, 0),\n",
    "        default_color= (0, 0, 0, 0)\n",
    "      )\n",
    "    ),\n",
    "    provenance=ge.Provenance(\n",
    "      citation=\"The data was obtained from <https://lpdaac.usgs.gov/products/mcd12c1v006>. The layer Majority_Land_Cover_Type_1 was extracted, downscaled and saved as landcover.tif.\",\n",
    "      uri=\"https://lpdaac.usgs.gov/products/mcd12c1v006/\",\n",
    "      license=\"All data distributed by the LP DAAC contain no restrictions on the data reuse. (https://lpdaac.usgs.gov/resources/faqs/#am-i-allowed-to-reuse-lp-daac-data).\"\n",
    "    ),\n",
    "\n",
    "\n",
    ")\n",
    "\n",
    "add_dataset_properties.to_api_dict()"
   ]
  },
  {
   "cell_type": "markdown",
   "metadata": {},
   "source": [
    "## Add raster dataset the the first volume"
   ]
  },
  {
   "cell_type": "code",
   "execution_count": 6,
   "metadata": {},
   "outputs": [
    {
     "data": {
      "text/plain": [
       "2b7b41a5-af02-472c-9f67-9105d1792790"
      ]
     },
     "execution_count": 6,
     "metadata": {},
     "output_type": "execute_result"
    }
   ],
   "source": [
    "volume = volumes[0]\n",
    "\n",
    "dataset_id = ge.add_public_raster_dataset(volumes[0].name, add_dataset_properties, meta_data)\n",
    "\n",
    "dataset_id"
   ]
  },
  {
   "cell_type": "markdown",
   "metadata": {},
   "source": [
    "## Verify that data is accessible for user"
   ]
  },
  {
   "cell_type": "code",
   "execution_count": 7,
   "metadata": {},
   "outputs": [
    {
     "ename": "GeoEngineException",
     "evalue": "NotFound: Not Found",
     "output_type": "error",
     "traceback": [
      "\u001b[0;31m---------------------------------------------------------------------------\u001b[0m",
      "\u001b[0;31mGeoEngineException\u001b[0m                        Traceback (most recent call last)",
      "Cell \u001b[0;32mIn[7], line 2\u001b[0m\n\u001b[1;32m      1\u001b[0m ge\u001b[39m.\u001b[39mreset()\n\u001b[0;32m----> 2\u001b[0m ge\u001b[39m.\u001b[39;49minitialize(\u001b[39m\"\u001b[39;49m\u001b[39mhttp://localhost:3030\u001b[39;49m\u001b[39m\"\u001b[39;49m)\n\u001b[1;32m      4\u001b[0m workflow \u001b[39m=\u001b[39m ge\u001b[39m.\u001b[39mregister_workflow({\n\u001b[1;32m      5\u001b[0m     \u001b[39m\"\u001b[39m\u001b[39mtype\u001b[39m\u001b[39m\"\u001b[39m: \u001b[39m\"\u001b[39m\u001b[39mRaster\u001b[39m\u001b[39m\"\u001b[39m,\n\u001b[1;32m      6\u001b[0m     \u001b[39m\"\u001b[39m\u001b[39moperator\u001b[39m\u001b[39m\"\u001b[39m: {\n\u001b[0;32m   (...)\u001b[0m\n\u001b[1;32m     14\u001b[0m     }\n\u001b[1;32m     15\u001b[0m })\n\u001b[1;32m     17\u001b[0m workflow\u001b[39m.\u001b[39mget_result_descriptor()\n",
      "File \u001b[0;32m~/git/geoengine-python/geoengine/auth.py:199\u001b[0m, in \u001b[0;36minitialize\u001b[0;34m(server_url, credentials, token, admin_token)\u001b[0m\n\u001b[1;32m    186\u001b[0m \u001b[39m\u001b[39m\u001b[39m'''\u001b[39;00m\n\u001b[1;32m    187\u001b[0m \u001b[39mInitialize communication between this library and a Geo Engine instance\u001b[39;00m\n\u001b[1;32m    188\u001b[0m \n\u001b[0;32m   (...)\u001b[0m\n\u001b[1;32m    194\u001b[0m \u001b[39moptional .env file defining: GEOENGINE_EMAIL, GEOENGINE_PASSWORD, GEOENGINE_TOKEN\u001b[39;00m\n\u001b[1;32m    195\u001b[0m \u001b[39m'''\u001b[39;00m\n\u001b[1;32m    197\u001b[0m load_dotenv()\n\u001b[0;32m--> 199\u001b[0m Session\u001b[39m.\u001b[39msession \u001b[39m=\u001b[39m Session(server_url, credentials, token, admin_token)\n",
      "File \u001b[0;32m~/git/geoengine-python/geoengine/auth.py:91\u001b[0m, in \u001b[0;36mSession.__init__\u001b[0;34m(self, server_url, credentials, token, admin_token)\u001b[0m\n\u001b[1;32m     88\u001b[0m     session \u001b[39m=\u001b[39m req\u001b[39m.\u001b[39mpost(\u001b[39mf\u001b[39m\u001b[39m'\u001b[39m\u001b[39m{\u001b[39;00mserver_url\u001b[39m}\u001b[39;00m\u001b[39m/anonymous\u001b[39m\u001b[39m'\u001b[39m, timeout\u001b[39m=\u001b[39m\u001b[39mself\u001b[39m\u001b[39m.\u001b[39m__timeout)\u001b[39m.\u001b[39mjson()\n\u001b[1;32m     90\u001b[0m \u001b[39mif\u001b[39;00m \u001b[39m'\u001b[39m\u001b[39merror\u001b[39m\u001b[39m'\u001b[39m \u001b[39min\u001b[39;00m session:\n\u001b[0;32m---> 91\u001b[0m     \u001b[39mraise\u001b[39;00m GeoEngineException(session)\n\u001b[1;32m     93\u001b[0m \u001b[39mself\u001b[39m\u001b[39m.\u001b[39m__id \u001b[39m=\u001b[39m session[\u001b[39m'\u001b[39m\u001b[39mid\u001b[39m\u001b[39m'\u001b[39m]\n\u001b[1;32m     95\u001b[0m \u001b[39mif\u001b[39;00m \u001b[39m'\u001b[39m\u001b[39mvalidUntil\u001b[39m\u001b[39m'\u001b[39m \u001b[39min\u001b[39;00m session:\n",
      "\u001b[0;31mGeoEngineException\u001b[0m: NotFound: Not Found"
     ]
    }
   ],
   "source": [
    "ge.reset()\n",
    "ge.initialize(\"http://localhost:3030/api\")\n",
    "\n",
    "workflow = ge.register_workflow({\n",
    "    \"type\": \"Raster\",\n",
    "    \"operator\": {\n",
    "        \"type\": \"GdalSource\",\n",
    "        \"params\": {\n",
    "            \"data\": {\n",
    "                \"type\": \"internal\",\n",
    "                \"datasetId\": str(dataset_id)\n",
    "            },\n",
    "        }\n",
    "    }\n",
    "})\n",
    "\n",
    "workflow.get_result_descriptor()"
   ]
  },
  {
   "cell_type": "markdown",
   "metadata": {},
   "source": [
    "## Load the data"
   ]
  },
  {
   "cell_type": "code",
   "execution_count": null,
   "metadata": {},
   "outputs": [],
   "source": [
    "time = datetime.strptime(\n",
    "    '2014-04-01T12:00:00.000Z', \"%Y-%m-%dT%H:%M:%S.%f%z\")\n",
    "\n",
    "data = workflow.get_xarray(\n",
    "    ge.QueryRectangle(\n",
    "        ge.BoundingBox2D(-180.0, -90.0, 180.0, 90.0),\n",
    "        ge.TimeInterval(time, time),\n",
    "        resolution=ge.SpatialResolution(360. / 16, 180. / 16),\n",
    "        )\n",
    ")\n",
    "\n",
    "data.plot()"
   ]
  }
 ],
 "metadata": {
  "kernelspec": {
   "display_name": "env",
   "language": "python",
   "name": "python3"
  },
  "language_info": {
   "codemirror_mode": {
    "name": "ipython",
    "version": 3
   },
   "file_extension": ".py",
   "mimetype": "text/x-python",
   "name": "python",
   "nbconvert_exporter": "python",
   "pygments_lexer": "ipython3",
   "version": "3.10.6"
  },
  "orig_nbformat": 4,
  "vscode": {
   "interpreter": {
    "hash": "7a10ca932ff03f4c637e11f8207fe4e003ad6532d0070b911d37acf855f595fc"
   }
  }
 },
 "nbformat": 4,
 "nbformat_minor": 2
}
