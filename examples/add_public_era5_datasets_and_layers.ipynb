{
 "cells": [
  {
   "cell_type": "code",
   "execution_count": 1,
   "metadata": {},
   "outputs": [],
   "source": [
    "import geoengine as ge"
   ]
  },
  {
   "cell_type": "code",
   "execution_count": 2,
   "metadata": {},
   "outputs": [],
   "source": [
    "ge.initialize(\"http://localhost:3030\", admin_token=\"8aca8875-425a-4ef1-8ee6-cdfc62dd7525\")"
   ]
  },
  {
   "cell_type": "code",
   "execution_count": 3,
   "metadata": {},
   "outputs": [
    {
     "data": {
      "text/plain": [
       "[Volume(name='nas_geo_data', path='/mnt/panq/dbs_research_data/geo_data/'),\n",
       " Volume(name='test_data', path='test_data/'),\n",
       " Volume(name='raid_geo_data', path='/mnt/data_raid/geo_data/')]"
      ]
     },
     "execution_count": 3,
     "metadata": {},
     "output_type": "execute_result"
    }
   ],
   "source": [
    "volumes = ge.volumes()\n",
    "volumes"
   ]
  },
  {
   "cell_type": "code",
   "execution_count": 4,
   "metadata": {},
   "outputs": [],
   "source": [
    "start_time = \"1984-01-01T00:00:00Z\"\n",
    "end_time = \"2023-01-02T00:00:00Z\"\n",
    "\n",
    "data_path_in_volume = \"respect/ecmwf_era5\"\n",
    "\n",
    "named_variables = [\n",
    "            ('Air Temperature', 'air_temperature', 'temperature', '°K'),\n",
    "            ('Eastward Wind','eastward_wind','u_component_of_wind', 'X'),\n",
    "            ('Northward Wind','northward_wind','v_component_of_wind', 'Y'),\n",
    "            ('Specific Humidity','specific_humidity','specific_humidity', 'Z'),\n",
    "            ('Relative Humidity','relative_humidity','relative_humidity', 'W'),\n",
    "        ]\n",
    "\n",
    "pressure_levels = [\n",
    "            '300', '350', '400',\n",
    "            '450', '500', '550',\n",
    "            '600', '650', '700',\n",
    "            '750', '775', '800',\n",
    "            '825', '850', '875',\n",
    "            '900', '925', '950',\n",
    "            '975', '1000',\n",
    "        ]\n",
    "\n",
    "dataset_ids_air_temperature = {\n",
    "    '300': \"7c9cc95e-b3ed-461a-ae0e-21b2520d3391\",\n",
    "    '350': \"3f76b90b-2eff-48fa-bb63-c6d5078392e7\",\n",
    "    '400': \"105ad9f8-67f3-4cb0-b439-a92fb8443d22\",\n",
    "    '450': \"37042fee-e7ff-40dd-9195-a04708e31a97\",\n",
    "    '500': \"35e37da3-8c09-4471-988b-8a78cd4515b0\",\n",
    "    '550': \"28a33e1a-9c7c-4d74-8b48-3941f4ac94e6\",\n",
    "    '600': \"3fd40dd3-c89d-4ccc-a162-6ada9383735a\",\n",
    "    '650': \"0a0acfdb-ac58-4d94-a07c-76e8db0c8c2f\",\n",
    "    '700': \"88673023-2087-4282-acc8-8214bf2fb557\",\n",
    "    '750': \"58fd9e61-1a4f-4b45-badd-c6a8f013de8a\",\n",
    "    '775': \"68df526b-1dfc-49c4-aef7-035755ac491f\",\n",
    "    '800': \"745398ab-c114-442d-af00-e6faeeb43f01\",\n",
    "    '825': \"c6dd1a0f-7d8e-4435-bd59-4f6ea130f76e\",\n",
    "    '850': \"8ce7ea1a-ec10-4048-b248-2570f304afe7\",\n",
    "    '875': \"5ada9cec-1983-42a7-99d7-a41f2cb9963c\",\n",
    "    '900': \"fd72b75f-7c67-4dbd-b82c-c313bfef2e18\",\n",
    "    '925': \"ce768c83-b7a4-4b72-8a24-4a793eb53ccb\",\n",
    "    '950': \"8835b0f1-6106-4ee2-b91b-5a136142fc58\",\n",
    "    '975': \"d0135d9c-d1ce-495d-9d6e-41462ce93150\",\n",
    "    '1000': \"06589b99-c9e4-4bb3-bde2-e425745c6255\",\n",
    "}\n",
    "\n",
    "layer_ids_air_temperature = {\n",
    "    '300': \"dd3be565-c590-4155-9aea-662f9adfaa52\",\n",
    "    '350': \"5ef4d541-ae7f-4ef9-85e5-8940cbed2faf\",\n",
    "    '400': \"023c21a5-8d71-4582-83d6-75558361e043\",\n",
    "    '450': \"b99bb974-56d8-42dc-ae56-ead202f7a469\",\n",
    "    '500': \"c8c22bfb-d743-40ec-8c06-081b8cd3756c\",\n",
    "    '550': \"df6a2f62-aa85-4167-8c91-4a353b21eb19\",\n",
    "    '600': \"784fd7bf-479c-4d53-9210-21342f0d8079\",\n",
    "    '650': \"bc34430a-4573-4be8-bdef-011e3215500d\",\n",
    "    '700': \"2e902e7a-8bd6-4e39-9af0-294c9105ec15\",\n",
    "    '750': \"e5699818-93d7-424e-b042-a4a325a46a97\",\n",
    "    '775': \"cf214bfd-c40c-4491-87d3-1b71f8252199\",\n",
    "    '800': \"32d1ba9e-1a72-4030-9b1b-2ca71f55ecaf\",\n",
    "    '825': \"10ece546-882d-4f4e-8980-d9cea38269ff\",\n",
    "    '850': \"8607429c-61fe-4db9-80d2-40b1177836c5\",\n",
    "    '875': \"4dfd412a-80a4-439a-ab10-f85ba0ebae2e\",\n",
    "    '900': \"ae861b63-66b3-43ce-8a60-f05884b4b770\",\n",
    "    '925': \"6c649514-2b81-49af-8e48-1b6d81ac171f\",\n",
    "    '950': \"89d5a6cc-8bb7-496d-b06f-19c97147a11e\",\n",
    "    '975': \"efbbf7e6-b7d0-45fe-8d12-4077abbbc6eb\",\n",
    "    '1000': \"0434f5d7-7c17-41b8-a789-49a0449a744e\",\n",
    "}\n"
   ]
  },
  {
   "cell_type": "code",
   "execution_count": 5,
   "metadata": {},
   "outputs": [],
   "source": [
    "def generate_add_dataset(volume, data_path_in_volume, name, file_name_suffix, level, dataset_id, start_time, end_time):\n",
    "\n",
    "  unscaled_colorizer = ge.Colorizer(\n",
    "          breakpoints = [\n",
    "            ge.ColorBreakpoint(-32766, (68, 1, 84, 255)),\n",
    "            ge.ColorBreakpoint( -32307.5, (33, 145, 140, 255)),\n",
    "            ge.ColorBreakpoint(-31849, (253, 231, 37, 255))\n",
    "          ],\n",
    "          no_data_color =(0, 0, 0, 0),\n",
    "          default_color = (0, 0, 0, 0)\n",
    "        )\n",
    "\n",
    "  unscaled_symbology = ge.RasterSymbology(\n",
    "        colorizer = unscaled_colorizer\n",
    "      )\n",
    "\n",
    "  era5_add_data_properties = ge.AddDataset(\n",
    "      dataset_id = dataset_id,\n",
    "      name = f'ECMWF ERA5 {name} Level {level}',\n",
    "      description = f'ECMWF ERA5 {name} Level {level}',\n",
    "      source_operator = \"GdalSource\",\n",
    "      provenance = ge.Provenance(\n",
    "        citation = \"Hersbach, H., Bell, B., Berrisford, P., Biavati, G., Hor\\u00e1nyi, A., Mu\\u00f1oz Sabater, J., Nicolas, J., Peubey, C., Radu, R., Rozum, I., Schepers, D., Simmons, A., Soci, C., Dee, D., Th\\u00e9paut, J-N. (2018): ERA5 hourly data on pressure levels from 1959 to present. Copernicus Climate Change Service (C3S) Climate Data Store (CDS). (Accessed on < DD-MMM-YYYY >), 10.24381/cds.bd0915c6\",\n",
    "        license = \"https://cds.climate.copernicus.eu/api/v2/terms/static/licence-to-use-copernicus-products.pdf\",\n",
    "        uri = \"https://doi.org/10.24381/cds.bd0915c6\"\n",
    "      ),\n",
    "      symbology = unscaled_symbology,\n",
    "  )\n",
    "\n",
    "  era5_add_data_meta_data = ge.api.GdalMetaDataRegular({\n",
    "      \"type\": \"GdalMetaDataRegular\",\n",
    "      \"resultDescriptor\": ge.RasterResultDescriptor(data_type = \"I16\", spatial_reference = \"EPSG:4326\", measurement = ge.UnitlessMeasurement()).to_api_dict(),\n",
    "      \"params\": ge.api.GdalDatasetParameters({\n",
    "        \"filePath\": f'{data_path_in_volume}/%_YEAR_%/%_MONTH_%/%_START_DATE_%_{file_name_suffix}_{level}.tif',\n",
    "        \"rasterbandChannel\": 1,\n",
    "        \"geoTransform\": {\n",
    "          \"originCoordinate\": {\n",
    "            \"x\": -82.125,\n",
    "            \"y\": 3.125\n",
    "          },\n",
    "          \"xPixelSize\": 0.25,\n",
    "          \"yPixelSize\": -0.25\n",
    "        },\n",
    "        \"width\": 33,\n",
    "        \"height\": 33,\n",
    "        \"fileNotFoundHandling\": \"NoData\",\n",
    "        \"noDataValue\": -32767\n",
    "      }),\n",
    "      \"timePlaceholders\": {\n",
    "        \"%_START_DATE_%\": {\n",
    "          \"format\": {\n",
    "            'fmt': \"%Y%m%d_%H%M\",\n",
    "            \"has_tz\": False,\n",
    "            \"has_time\": True,\n",
    "            },\n",
    "          \"reference\": \"start\"\n",
    "        },\n",
    "        \"%_YEAR_%\": {\n",
    "          \"format\": {\n",
    "            'fmt':  \"%Y\",\n",
    "            \"has_tz\": False,\n",
    "            \"has_time\": True,\n",
    "          },\n",
    "          \"reference\": \"start\"\n",
    "        },\n",
    "        \"%_MONTH_%\": {\n",
    "          \"format\": {\n",
    "            'fmt': \"%m\",\n",
    "            \"has_tz\": False,\n",
    "            \"has_time\": True,\n",
    "          },\n",
    "          \"reference\": \"start\"\n",
    "        }\n",
    "      },\n",
    "      \"dataTime\": {\n",
    "        \"start\": start_time,\n",
    "        \"end\": end_time\n",
    "      },\n",
    "      \"step\": {\n",
    "        \"granularity\": \"hours\",\n",
    "        \"step\": 1\n",
    "      }\n",
    "    })\n",
    "\n",
    "  return (era5_add_data_properties, era5_add_data_meta_data) "
   ]
  },
  {
   "cell_type": "code",
   "execution_count": 6,
   "metadata": {},
   "outputs": [
    {
     "name": "stdout",
     "output_type": "stream",
     "text": [
      "{'id': '7c9cc95e-b3ed-461a-ae0e-21b2520d3391', 'name': 'ECMWF ERA5 Air Temperature Level 300', 'description': 'ECMWF ERA5 Air Temperature Level 300', 'sourceOperator': 'GdalSource', 'symbology': {'type': 'raster', 'colorizer': {'type': 'linearGradient', 'breakpoints': [{'value': -32766, 'color': (68, 1, 84, 255)}, {'value': -32307.5, 'color': (33, 145, 140, 255)}, {'value': -31849, 'color': (253, 231, 37, 255)}], 'noDataColor': (0, 0, 0, 0), 'defaultColor': (0, 0, 0, 0)}, 'opacity': 0.0}, 'provenance': {'citation': 'Hersbach, H., Bell, B., Berrisford, P., Biavati, G., Horányi, A., Muñoz Sabater, J., Nicolas, J., Peubey, C., Radu, R., Rozum, I., Schepers, D., Simmons, A., Soci, C., Dee, D., Thépaut, J-N. (2018): ERA5 hourly data on pressure levels from 1959 to present. Copernicus Climate Change Service (C3S) Climate Data Store (CDS). (Accessed on < DD-MMM-YYYY >), 10.24381/cds.bd0915c6', 'license': 'https://cds.climate.copernicus.eu/api/v2/terms/static/licence-to-use-copernicus-products.pdf', 'uri': 'https://doi.org/10.24381/cds.bd0915c6'}}\n",
      "{'type': 'GdalMetaDataRegular', 'resultDescriptor': {'type': 'raster', 'dataType': 'I16', 'measurement': {'type': 'unitless'}, 'spatialReference': 'EPSG:4326'}, 'params': {'filePath': 'respect/ecmwf_era5/%_YEAR_%/%_MONTH_%/%_START_DATE_%_air_temperature_300.tif', 'rasterbandChannel': 1, 'geoTransform': {'originCoordinate': {'x': -82.125, 'y': 3.125}, 'xPixelSize': 0.25, 'yPixelSize': -0.25}, 'width': 33, 'height': 33, 'fileNotFoundHandling': 'NoData', 'noDataValue': -32767}, 'timePlaceholders': {'%_START_DATE_%': {'format': {'fmt': '%Y%m%d_%H%M', 'has_tz': False, 'has_time': True}, 'reference': 'start'}, '%_YEAR_%': {'format': {'fmt': '%Y', 'has_tz': False, 'has_time': True}, 'reference': 'start'}, '%_MONTH_%': {'format': {'fmt': '%m', 'has_tz': False, 'has_time': True}, 'reference': 'start'}}, 'dataTime': {'start': '1984-01-01T00:00:00Z', 'end': '2023-01-02T00:00:00Z'}, 'step': {'granularity': 'hours', 'step': 1}}\n",
      "{'id': '3f76b90b-2eff-48fa-bb63-c6d5078392e7', 'name': 'ECMWF ERA5 Air Temperature Level 350', 'description': 'ECMWF ERA5 Air Temperature Level 350', 'sourceOperator': 'GdalSource', 'symbology': {'type': 'raster', 'colorizer': {'type': 'linearGradient', 'breakpoints': [{'value': -32766, 'color': (68, 1, 84, 255)}, {'value': -32307.5, 'color': (33, 145, 140, 255)}, {'value': -31849, 'color': (253, 231, 37, 255)}], 'noDataColor': (0, 0, 0, 0), 'defaultColor': (0, 0, 0, 0)}, 'opacity': 0.0}, 'provenance': {'citation': 'Hersbach, H., Bell, B., Berrisford, P., Biavati, G., Horányi, A., Muñoz Sabater, J., Nicolas, J., Peubey, C., Radu, R., Rozum, I., Schepers, D., Simmons, A., Soci, C., Dee, D., Thépaut, J-N. (2018): ERA5 hourly data on pressure levels from 1959 to present. Copernicus Climate Change Service (C3S) Climate Data Store (CDS). (Accessed on < DD-MMM-YYYY >), 10.24381/cds.bd0915c6', 'license': 'https://cds.climate.copernicus.eu/api/v2/terms/static/licence-to-use-copernicus-products.pdf', 'uri': 'https://doi.org/10.24381/cds.bd0915c6'}}\n",
      "{'type': 'GdalMetaDataRegular', 'resultDescriptor': {'type': 'raster', 'dataType': 'I16', 'measurement': {'type': 'unitless'}, 'spatialReference': 'EPSG:4326'}, 'params': {'filePath': 'respect/ecmwf_era5/%_YEAR_%/%_MONTH_%/%_START_DATE_%_air_temperature_350.tif', 'rasterbandChannel': 1, 'geoTransform': {'originCoordinate': {'x': -82.125, 'y': 3.125}, 'xPixelSize': 0.25, 'yPixelSize': -0.25}, 'width': 33, 'height': 33, 'fileNotFoundHandling': 'NoData', 'noDataValue': -32767}, 'timePlaceholders': {'%_START_DATE_%': {'format': {'fmt': '%Y%m%d_%H%M', 'has_tz': False, 'has_time': True}, 'reference': 'start'}, '%_YEAR_%': {'format': {'fmt': '%Y', 'has_tz': False, 'has_time': True}, 'reference': 'start'}, '%_MONTH_%': {'format': {'fmt': '%m', 'has_tz': False, 'has_time': True}, 'reference': 'start'}}, 'dataTime': {'start': '1984-01-01T00:00:00Z', 'end': '2023-01-02T00:00:00Z'}, 'step': {'granularity': 'hours', 'step': 1}}\n",
      "{'id': '105ad9f8-67f3-4cb0-b439-a92fb8443d22', 'name': 'ECMWF ERA5 Air Temperature Level 400', 'description': 'ECMWF ERA5 Air Temperature Level 400', 'sourceOperator': 'GdalSource', 'symbology': {'type': 'raster', 'colorizer': {'type': 'linearGradient', 'breakpoints': [{'value': -32766, 'color': (68, 1, 84, 255)}, {'value': -32307.5, 'color': (33, 145, 140, 255)}, {'value': -31849, 'color': (253, 231, 37, 255)}], 'noDataColor': (0, 0, 0, 0), 'defaultColor': (0, 0, 0, 0)}, 'opacity': 0.0}, 'provenance': {'citation': 'Hersbach, H., Bell, B., Berrisford, P., Biavati, G., Horányi, A., Muñoz Sabater, J., Nicolas, J., Peubey, C., Radu, R., Rozum, I., Schepers, D., Simmons, A., Soci, C., Dee, D., Thépaut, J-N. (2018): ERA5 hourly data on pressure levels from 1959 to present. Copernicus Climate Change Service (C3S) Climate Data Store (CDS). (Accessed on < DD-MMM-YYYY >), 10.24381/cds.bd0915c6', 'license': 'https://cds.climate.copernicus.eu/api/v2/terms/static/licence-to-use-copernicus-products.pdf', 'uri': 'https://doi.org/10.24381/cds.bd0915c6'}}\n",
      "{'type': 'GdalMetaDataRegular', 'resultDescriptor': {'type': 'raster', 'dataType': 'I16', 'measurement': {'type': 'unitless'}, 'spatialReference': 'EPSG:4326'}, 'params': {'filePath': 'respect/ecmwf_era5/%_YEAR_%/%_MONTH_%/%_START_DATE_%_air_temperature_400.tif', 'rasterbandChannel': 1, 'geoTransform': {'originCoordinate': {'x': -82.125, 'y': 3.125}, 'xPixelSize': 0.25, 'yPixelSize': -0.25}, 'width': 33, 'height': 33, 'fileNotFoundHandling': 'NoData', 'noDataValue': -32767}, 'timePlaceholders': {'%_START_DATE_%': {'format': {'fmt': '%Y%m%d_%H%M', 'has_tz': False, 'has_time': True}, 'reference': 'start'}, '%_YEAR_%': {'format': {'fmt': '%Y', 'has_tz': False, 'has_time': True}, 'reference': 'start'}, '%_MONTH_%': {'format': {'fmt': '%m', 'has_tz': False, 'has_time': True}, 'reference': 'start'}}, 'dataTime': {'start': '1984-01-01T00:00:00Z', 'end': '2023-01-02T00:00:00Z'}, 'step': {'granularity': 'hours', 'step': 1}}\n",
      "{'id': '37042fee-e7ff-40dd-9195-a04708e31a97', 'name': 'ECMWF ERA5 Air Temperature Level 450', 'description': 'ECMWF ERA5 Air Temperature Level 450', 'sourceOperator': 'GdalSource', 'symbology': {'type': 'raster', 'colorizer': {'type': 'linearGradient', 'breakpoints': [{'value': -32766, 'color': (68, 1, 84, 255)}, {'value': -32307.5, 'color': (33, 145, 140, 255)}, {'value': -31849, 'color': (253, 231, 37, 255)}], 'noDataColor': (0, 0, 0, 0), 'defaultColor': (0, 0, 0, 0)}, 'opacity': 0.0}, 'provenance': {'citation': 'Hersbach, H., Bell, B., Berrisford, P., Biavati, G., Horányi, A., Muñoz Sabater, J., Nicolas, J., Peubey, C., Radu, R., Rozum, I., Schepers, D., Simmons, A., Soci, C., Dee, D., Thépaut, J-N. (2018): ERA5 hourly data on pressure levels from 1959 to present. Copernicus Climate Change Service (C3S) Climate Data Store (CDS). (Accessed on < DD-MMM-YYYY >), 10.24381/cds.bd0915c6', 'license': 'https://cds.climate.copernicus.eu/api/v2/terms/static/licence-to-use-copernicus-products.pdf', 'uri': 'https://doi.org/10.24381/cds.bd0915c6'}}\n",
      "{'type': 'GdalMetaDataRegular', 'resultDescriptor': {'type': 'raster', 'dataType': 'I16', 'measurement': {'type': 'unitless'}, 'spatialReference': 'EPSG:4326'}, 'params': {'filePath': 'respect/ecmwf_era5/%_YEAR_%/%_MONTH_%/%_START_DATE_%_air_temperature_450.tif', 'rasterbandChannel': 1, 'geoTransform': {'originCoordinate': {'x': -82.125, 'y': 3.125}, 'xPixelSize': 0.25, 'yPixelSize': -0.25}, 'width': 33, 'height': 33, 'fileNotFoundHandling': 'NoData', 'noDataValue': -32767}, 'timePlaceholders': {'%_START_DATE_%': {'format': {'fmt': '%Y%m%d_%H%M', 'has_tz': False, 'has_time': True}, 'reference': 'start'}, '%_YEAR_%': {'format': {'fmt': '%Y', 'has_tz': False, 'has_time': True}, 'reference': 'start'}, '%_MONTH_%': {'format': {'fmt': '%m', 'has_tz': False, 'has_time': True}, 'reference': 'start'}}, 'dataTime': {'start': '1984-01-01T00:00:00Z', 'end': '2023-01-02T00:00:00Z'}, 'step': {'granularity': 'hours', 'step': 1}}\n",
      "{'id': '35e37da3-8c09-4471-988b-8a78cd4515b0', 'name': 'ECMWF ERA5 Air Temperature Level 500', 'description': 'ECMWF ERA5 Air Temperature Level 500', 'sourceOperator': 'GdalSource', 'symbology': {'type': 'raster', 'colorizer': {'type': 'linearGradient', 'breakpoints': [{'value': -32766, 'color': (68, 1, 84, 255)}, {'value': -32307.5, 'color': (33, 145, 140, 255)}, {'value': -31849, 'color': (253, 231, 37, 255)}], 'noDataColor': (0, 0, 0, 0), 'defaultColor': (0, 0, 0, 0)}, 'opacity': 0.0}, 'provenance': {'citation': 'Hersbach, H., Bell, B., Berrisford, P., Biavati, G., Horányi, A., Muñoz Sabater, J., Nicolas, J., Peubey, C., Radu, R., Rozum, I., Schepers, D., Simmons, A., Soci, C., Dee, D., Thépaut, J-N. (2018): ERA5 hourly data on pressure levels from 1959 to present. Copernicus Climate Change Service (C3S) Climate Data Store (CDS). (Accessed on < DD-MMM-YYYY >), 10.24381/cds.bd0915c6', 'license': 'https://cds.climate.copernicus.eu/api/v2/terms/static/licence-to-use-copernicus-products.pdf', 'uri': 'https://doi.org/10.24381/cds.bd0915c6'}}\n",
      "{'type': 'GdalMetaDataRegular', 'resultDescriptor': {'type': 'raster', 'dataType': 'I16', 'measurement': {'type': 'unitless'}, 'spatialReference': 'EPSG:4326'}, 'params': {'filePath': 'respect/ecmwf_era5/%_YEAR_%/%_MONTH_%/%_START_DATE_%_air_temperature_500.tif', 'rasterbandChannel': 1, 'geoTransform': {'originCoordinate': {'x': -82.125, 'y': 3.125}, 'xPixelSize': 0.25, 'yPixelSize': -0.25}, 'width': 33, 'height': 33, 'fileNotFoundHandling': 'NoData', 'noDataValue': -32767}, 'timePlaceholders': {'%_START_DATE_%': {'format': {'fmt': '%Y%m%d_%H%M', 'has_tz': False, 'has_time': True}, 'reference': 'start'}, '%_YEAR_%': {'format': {'fmt': '%Y', 'has_tz': False, 'has_time': True}, 'reference': 'start'}, '%_MONTH_%': {'format': {'fmt': '%m', 'has_tz': False, 'has_time': True}, 'reference': 'start'}}, 'dataTime': {'start': '1984-01-01T00:00:00Z', 'end': '2023-01-02T00:00:00Z'}, 'step': {'granularity': 'hours', 'step': 1}}\n",
      "{'id': '28a33e1a-9c7c-4d74-8b48-3941f4ac94e6', 'name': 'ECMWF ERA5 Air Temperature Level 550', 'description': 'ECMWF ERA5 Air Temperature Level 550', 'sourceOperator': 'GdalSource', 'symbology': {'type': 'raster', 'colorizer': {'type': 'linearGradient', 'breakpoints': [{'value': -32766, 'color': (68, 1, 84, 255)}, {'value': -32307.5, 'color': (33, 145, 140, 255)}, {'value': -31849, 'color': (253, 231, 37, 255)}], 'noDataColor': (0, 0, 0, 0), 'defaultColor': (0, 0, 0, 0)}, 'opacity': 0.0}, 'provenance': {'citation': 'Hersbach, H., Bell, B., Berrisford, P., Biavati, G., Horányi, A., Muñoz Sabater, J., Nicolas, J., Peubey, C., Radu, R., Rozum, I., Schepers, D., Simmons, A., Soci, C., Dee, D., Thépaut, J-N. (2018): ERA5 hourly data on pressure levels from 1959 to present. Copernicus Climate Change Service (C3S) Climate Data Store (CDS). (Accessed on < DD-MMM-YYYY >), 10.24381/cds.bd0915c6', 'license': 'https://cds.climate.copernicus.eu/api/v2/terms/static/licence-to-use-copernicus-products.pdf', 'uri': 'https://doi.org/10.24381/cds.bd0915c6'}}\n",
      "{'type': 'GdalMetaDataRegular', 'resultDescriptor': {'type': 'raster', 'dataType': 'I16', 'measurement': {'type': 'unitless'}, 'spatialReference': 'EPSG:4326'}, 'params': {'filePath': 'respect/ecmwf_era5/%_YEAR_%/%_MONTH_%/%_START_DATE_%_air_temperature_550.tif', 'rasterbandChannel': 1, 'geoTransform': {'originCoordinate': {'x': -82.125, 'y': 3.125}, 'xPixelSize': 0.25, 'yPixelSize': -0.25}, 'width': 33, 'height': 33, 'fileNotFoundHandling': 'NoData', 'noDataValue': -32767}, 'timePlaceholders': {'%_START_DATE_%': {'format': {'fmt': '%Y%m%d_%H%M', 'has_tz': False, 'has_time': True}, 'reference': 'start'}, '%_YEAR_%': {'format': {'fmt': '%Y', 'has_tz': False, 'has_time': True}, 'reference': 'start'}, '%_MONTH_%': {'format': {'fmt': '%m', 'has_tz': False, 'has_time': True}, 'reference': 'start'}}, 'dataTime': {'start': '1984-01-01T00:00:00Z', 'end': '2023-01-02T00:00:00Z'}, 'step': {'granularity': 'hours', 'step': 1}}\n",
      "{'id': '3fd40dd3-c89d-4ccc-a162-6ada9383735a', 'name': 'ECMWF ERA5 Air Temperature Level 600', 'description': 'ECMWF ERA5 Air Temperature Level 600', 'sourceOperator': 'GdalSource', 'symbology': {'type': 'raster', 'colorizer': {'type': 'linearGradient', 'breakpoints': [{'value': -32766, 'color': (68, 1, 84, 255)}, {'value': -32307.5, 'color': (33, 145, 140, 255)}, {'value': -31849, 'color': (253, 231, 37, 255)}], 'noDataColor': (0, 0, 0, 0), 'defaultColor': (0, 0, 0, 0)}, 'opacity': 0.0}, 'provenance': {'citation': 'Hersbach, H., Bell, B., Berrisford, P., Biavati, G., Horányi, A., Muñoz Sabater, J., Nicolas, J., Peubey, C., Radu, R., Rozum, I., Schepers, D., Simmons, A., Soci, C., Dee, D., Thépaut, J-N. (2018): ERA5 hourly data on pressure levels from 1959 to present. Copernicus Climate Change Service (C3S) Climate Data Store (CDS). (Accessed on < DD-MMM-YYYY >), 10.24381/cds.bd0915c6', 'license': 'https://cds.climate.copernicus.eu/api/v2/terms/static/licence-to-use-copernicus-products.pdf', 'uri': 'https://doi.org/10.24381/cds.bd0915c6'}}\n",
      "{'type': 'GdalMetaDataRegular', 'resultDescriptor': {'type': 'raster', 'dataType': 'I16', 'measurement': {'type': 'unitless'}, 'spatialReference': 'EPSG:4326'}, 'params': {'filePath': 'respect/ecmwf_era5/%_YEAR_%/%_MONTH_%/%_START_DATE_%_air_temperature_600.tif', 'rasterbandChannel': 1, 'geoTransform': {'originCoordinate': {'x': -82.125, 'y': 3.125}, 'xPixelSize': 0.25, 'yPixelSize': -0.25}, 'width': 33, 'height': 33, 'fileNotFoundHandling': 'NoData', 'noDataValue': -32767}, 'timePlaceholders': {'%_START_DATE_%': {'format': {'fmt': '%Y%m%d_%H%M', 'has_tz': False, 'has_time': True}, 'reference': 'start'}, '%_YEAR_%': {'format': {'fmt': '%Y', 'has_tz': False, 'has_time': True}, 'reference': 'start'}, '%_MONTH_%': {'format': {'fmt': '%m', 'has_tz': False, 'has_time': True}, 'reference': 'start'}}, 'dataTime': {'start': '1984-01-01T00:00:00Z', 'end': '2023-01-02T00:00:00Z'}, 'step': {'granularity': 'hours', 'step': 1}}\n",
      "{'id': '0a0acfdb-ac58-4d94-a07c-76e8db0c8c2f', 'name': 'ECMWF ERA5 Air Temperature Level 650', 'description': 'ECMWF ERA5 Air Temperature Level 650', 'sourceOperator': 'GdalSource', 'symbology': {'type': 'raster', 'colorizer': {'type': 'linearGradient', 'breakpoints': [{'value': -32766, 'color': (68, 1, 84, 255)}, {'value': -32307.5, 'color': (33, 145, 140, 255)}, {'value': -31849, 'color': (253, 231, 37, 255)}], 'noDataColor': (0, 0, 0, 0), 'defaultColor': (0, 0, 0, 0)}, 'opacity': 0.0}, 'provenance': {'citation': 'Hersbach, H., Bell, B., Berrisford, P., Biavati, G., Horányi, A., Muñoz Sabater, J., Nicolas, J., Peubey, C., Radu, R., Rozum, I., Schepers, D., Simmons, A., Soci, C., Dee, D., Thépaut, J-N. (2018): ERA5 hourly data on pressure levels from 1959 to present. Copernicus Climate Change Service (C3S) Climate Data Store (CDS). (Accessed on < DD-MMM-YYYY >), 10.24381/cds.bd0915c6', 'license': 'https://cds.climate.copernicus.eu/api/v2/terms/static/licence-to-use-copernicus-products.pdf', 'uri': 'https://doi.org/10.24381/cds.bd0915c6'}}\n",
      "{'type': 'GdalMetaDataRegular', 'resultDescriptor': {'type': 'raster', 'dataType': 'I16', 'measurement': {'type': 'unitless'}, 'spatialReference': 'EPSG:4326'}, 'params': {'filePath': 'respect/ecmwf_era5/%_YEAR_%/%_MONTH_%/%_START_DATE_%_air_temperature_650.tif', 'rasterbandChannel': 1, 'geoTransform': {'originCoordinate': {'x': -82.125, 'y': 3.125}, 'xPixelSize': 0.25, 'yPixelSize': -0.25}, 'width': 33, 'height': 33, 'fileNotFoundHandling': 'NoData', 'noDataValue': -32767}, 'timePlaceholders': {'%_START_DATE_%': {'format': {'fmt': '%Y%m%d_%H%M', 'has_tz': False, 'has_time': True}, 'reference': 'start'}, '%_YEAR_%': {'format': {'fmt': '%Y', 'has_tz': False, 'has_time': True}, 'reference': 'start'}, '%_MONTH_%': {'format': {'fmt': '%m', 'has_tz': False, 'has_time': True}, 'reference': 'start'}}, 'dataTime': {'start': '1984-01-01T00:00:00Z', 'end': '2023-01-02T00:00:00Z'}, 'step': {'granularity': 'hours', 'step': 1}}\n",
      "{'id': '88673023-2087-4282-acc8-8214bf2fb557', 'name': 'ECMWF ERA5 Air Temperature Level 700', 'description': 'ECMWF ERA5 Air Temperature Level 700', 'sourceOperator': 'GdalSource', 'symbology': {'type': 'raster', 'colorizer': {'type': 'linearGradient', 'breakpoints': [{'value': -32766, 'color': (68, 1, 84, 255)}, {'value': -32307.5, 'color': (33, 145, 140, 255)}, {'value': -31849, 'color': (253, 231, 37, 255)}], 'noDataColor': (0, 0, 0, 0), 'defaultColor': (0, 0, 0, 0)}, 'opacity': 0.0}, 'provenance': {'citation': 'Hersbach, H., Bell, B., Berrisford, P., Biavati, G., Horányi, A., Muñoz Sabater, J., Nicolas, J., Peubey, C., Radu, R., Rozum, I., Schepers, D., Simmons, A., Soci, C., Dee, D., Thépaut, J-N. (2018): ERA5 hourly data on pressure levels from 1959 to present. Copernicus Climate Change Service (C3S) Climate Data Store (CDS). (Accessed on < DD-MMM-YYYY >), 10.24381/cds.bd0915c6', 'license': 'https://cds.climate.copernicus.eu/api/v2/terms/static/licence-to-use-copernicus-products.pdf', 'uri': 'https://doi.org/10.24381/cds.bd0915c6'}}\n",
      "{'type': 'GdalMetaDataRegular', 'resultDescriptor': {'type': 'raster', 'dataType': 'I16', 'measurement': {'type': 'unitless'}, 'spatialReference': 'EPSG:4326'}, 'params': {'filePath': 'respect/ecmwf_era5/%_YEAR_%/%_MONTH_%/%_START_DATE_%_air_temperature_700.tif', 'rasterbandChannel': 1, 'geoTransform': {'originCoordinate': {'x': -82.125, 'y': 3.125}, 'xPixelSize': 0.25, 'yPixelSize': -0.25}, 'width': 33, 'height': 33, 'fileNotFoundHandling': 'NoData', 'noDataValue': -32767}, 'timePlaceholders': {'%_START_DATE_%': {'format': {'fmt': '%Y%m%d_%H%M', 'has_tz': False, 'has_time': True}, 'reference': 'start'}, '%_YEAR_%': {'format': {'fmt': '%Y', 'has_tz': False, 'has_time': True}, 'reference': 'start'}, '%_MONTH_%': {'format': {'fmt': '%m', 'has_tz': False, 'has_time': True}, 'reference': 'start'}}, 'dataTime': {'start': '1984-01-01T00:00:00Z', 'end': '2023-01-02T00:00:00Z'}, 'step': {'granularity': 'hours', 'step': 1}}\n",
      "{'id': '58fd9e61-1a4f-4b45-badd-c6a8f013de8a', 'name': 'ECMWF ERA5 Air Temperature Level 750', 'description': 'ECMWF ERA5 Air Temperature Level 750', 'sourceOperator': 'GdalSource', 'symbology': {'type': 'raster', 'colorizer': {'type': 'linearGradient', 'breakpoints': [{'value': -32766, 'color': (68, 1, 84, 255)}, {'value': -32307.5, 'color': (33, 145, 140, 255)}, {'value': -31849, 'color': (253, 231, 37, 255)}], 'noDataColor': (0, 0, 0, 0), 'defaultColor': (0, 0, 0, 0)}, 'opacity': 0.0}, 'provenance': {'citation': 'Hersbach, H., Bell, B., Berrisford, P., Biavati, G., Horányi, A., Muñoz Sabater, J., Nicolas, J., Peubey, C., Radu, R., Rozum, I., Schepers, D., Simmons, A., Soci, C., Dee, D., Thépaut, J-N. (2018): ERA5 hourly data on pressure levels from 1959 to present. Copernicus Climate Change Service (C3S) Climate Data Store (CDS). (Accessed on < DD-MMM-YYYY >), 10.24381/cds.bd0915c6', 'license': 'https://cds.climate.copernicus.eu/api/v2/terms/static/licence-to-use-copernicus-products.pdf', 'uri': 'https://doi.org/10.24381/cds.bd0915c6'}}\n",
      "{'type': 'GdalMetaDataRegular', 'resultDescriptor': {'type': 'raster', 'dataType': 'I16', 'measurement': {'type': 'unitless'}, 'spatialReference': 'EPSG:4326'}, 'params': {'filePath': 'respect/ecmwf_era5/%_YEAR_%/%_MONTH_%/%_START_DATE_%_air_temperature_750.tif', 'rasterbandChannel': 1, 'geoTransform': {'originCoordinate': {'x': -82.125, 'y': 3.125}, 'xPixelSize': 0.25, 'yPixelSize': -0.25}, 'width': 33, 'height': 33, 'fileNotFoundHandling': 'NoData', 'noDataValue': -32767}, 'timePlaceholders': {'%_START_DATE_%': {'format': {'fmt': '%Y%m%d_%H%M', 'has_tz': False, 'has_time': True}, 'reference': 'start'}, '%_YEAR_%': {'format': {'fmt': '%Y', 'has_tz': False, 'has_time': True}, 'reference': 'start'}, '%_MONTH_%': {'format': {'fmt': '%m', 'has_tz': False, 'has_time': True}, 'reference': 'start'}}, 'dataTime': {'start': '1984-01-01T00:00:00Z', 'end': '2023-01-02T00:00:00Z'}, 'step': {'granularity': 'hours', 'step': 1}}\n",
      "{'id': '68df526b-1dfc-49c4-aef7-035755ac491f', 'name': 'ECMWF ERA5 Air Temperature Level 775', 'description': 'ECMWF ERA5 Air Temperature Level 775', 'sourceOperator': 'GdalSource', 'symbology': {'type': 'raster', 'colorizer': {'type': 'linearGradient', 'breakpoints': [{'value': -32766, 'color': (68, 1, 84, 255)}, {'value': -32307.5, 'color': (33, 145, 140, 255)}, {'value': -31849, 'color': (253, 231, 37, 255)}], 'noDataColor': (0, 0, 0, 0), 'defaultColor': (0, 0, 0, 0)}, 'opacity': 0.0}, 'provenance': {'citation': 'Hersbach, H., Bell, B., Berrisford, P., Biavati, G., Horányi, A., Muñoz Sabater, J., Nicolas, J., Peubey, C., Radu, R., Rozum, I., Schepers, D., Simmons, A., Soci, C., Dee, D., Thépaut, J-N. (2018): ERA5 hourly data on pressure levels from 1959 to present. Copernicus Climate Change Service (C3S) Climate Data Store (CDS). (Accessed on < DD-MMM-YYYY >), 10.24381/cds.bd0915c6', 'license': 'https://cds.climate.copernicus.eu/api/v2/terms/static/licence-to-use-copernicus-products.pdf', 'uri': 'https://doi.org/10.24381/cds.bd0915c6'}}\n",
      "{'type': 'GdalMetaDataRegular', 'resultDescriptor': {'type': 'raster', 'dataType': 'I16', 'measurement': {'type': 'unitless'}, 'spatialReference': 'EPSG:4326'}, 'params': {'filePath': 'respect/ecmwf_era5/%_YEAR_%/%_MONTH_%/%_START_DATE_%_air_temperature_775.tif', 'rasterbandChannel': 1, 'geoTransform': {'originCoordinate': {'x': -82.125, 'y': 3.125}, 'xPixelSize': 0.25, 'yPixelSize': -0.25}, 'width': 33, 'height': 33, 'fileNotFoundHandling': 'NoData', 'noDataValue': -32767}, 'timePlaceholders': {'%_START_DATE_%': {'format': {'fmt': '%Y%m%d_%H%M', 'has_tz': False, 'has_time': True}, 'reference': 'start'}, '%_YEAR_%': {'format': {'fmt': '%Y', 'has_tz': False, 'has_time': True}, 'reference': 'start'}, '%_MONTH_%': {'format': {'fmt': '%m', 'has_tz': False, 'has_time': True}, 'reference': 'start'}}, 'dataTime': {'start': '1984-01-01T00:00:00Z', 'end': '2023-01-02T00:00:00Z'}, 'step': {'granularity': 'hours', 'step': 1}}\n",
      "{'id': '745398ab-c114-442d-af00-e6faeeb43f01', 'name': 'ECMWF ERA5 Air Temperature Level 800', 'description': 'ECMWF ERA5 Air Temperature Level 800', 'sourceOperator': 'GdalSource', 'symbology': {'type': 'raster', 'colorizer': {'type': 'linearGradient', 'breakpoints': [{'value': -32766, 'color': (68, 1, 84, 255)}, {'value': -32307.5, 'color': (33, 145, 140, 255)}, {'value': -31849, 'color': (253, 231, 37, 255)}], 'noDataColor': (0, 0, 0, 0), 'defaultColor': (0, 0, 0, 0)}, 'opacity': 0.0}, 'provenance': {'citation': 'Hersbach, H., Bell, B., Berrisford, P., Biavati, G., Horányi, A., Muñoz Sabater, J., Nicolas, J., Peubey, C., Radu, R., Rozum, I., Schepers, D., Simmons, A., Soci, C., Dee, D., Thépaut, J-N. (2018): ERA5 hourly data on pressure levels from 1959 to present. Copernicus Climate Change Service (C3S) Climate Data Store (CDS). (Accessed on < DD-MMM-YYYY >), 10.24381/cds.bd0915c6', 'license': 'https://cds.climate.copernicus.eu/api/v2/terms/static/licence-to-use-copernicus-products.pdf', 'uri': 'https://doi.org/10.24381/cds.bd0915c6'}}\n",
      "{'type': 'GdalMetaDataRegular', 'resultDescriptor': {'type': 'raster', 'dataType': 'I16', 'measurement': {'type': 'unitless'}, 'spatialReference': 'EPSG:4326'}, 'params': {'filePath': 'respect/ecmwf_era5/%_YEAR_%/%_MONTH_%/%_START_DATE_%_air_temperature_800.tif', 'rasterbandChannel': 1, 'geoTransform': {'originCoordinate': {'x': -82.125, 'y': 3.125}, 'xPixelSize': 0.25, 'yPixelSize': -0.25}, 'width': 33, 'height': 33, 'fileNotFoundHandling': 'NoData', 'noDataValue': -32767}, 'timePlaceholders': {'%_START_DATE_%': {'format': {'fmt': '%Y%m%d_%H%M', 'has_tz': False, 'has_time': True}, 'reference': 'start'}, '%_YEAR_%': {'format': {'fmt': '%Y', 'has_tz': False, 'has_time': True}, 'reference': 'start'}, '%_MONTH_%': {'format': {'fmt': '%m', 'has_tz': False, 'has_time': True}, 'reference': 'start'}}, 'dataTime': {'start': '1984-01-01T00:00:00Z', 'end': '2023-01-02T00:00:00Z'}, 'step': {'granularity': 'hours', 'step': 1}}\n",
      "{'id': 'c6dd1a0f-7d8e-4435-bd59-4f6ea130f76e', 'name': 'ECMWF ERA5 Air Temperature Level 825', 'description': 'ECMWF ERA5 Air Temperature Level 825', 'sourceOperator': 'GdalSource', 'symbology': {'type': 'raster', 'colorizer': {'type': 'linearGradient', 'breakpoints': [{'value': -32766, 'color': (68, 1, 84, 255)}, {'value': -32307.5, 'color': (33, 145, 140, 255)}, {'value': -31849, 'color': (253, 231, 37, 255)}], 'noDataColor': (0, 0, 0, 0), 'defaultColor': (0, 0, 0, 0)}, 'opacity': 0.0}, 'provenance': {'citation': 'Hersbach, H., Bell, B., Berrisford, P., Biavati, G., Horányi, A., Muñoz Sabater, J., Nicolas, J., Peubey, C., Radu, R., Rozum, I., Schepers, D., Simmons, A., Soci, C., Dee, D., Thépaut, J-N. (2018): ERA5 hourly data on pressure levels from 1959 to present. Copernicus Climate Change Service (C3S) Climate Data Store (CDS). (Accessed on < DD-MMM-YYYY >), 10.24381/cds.bd0915c6', 'license': 'https://cds.climate.copernicus.eu/api/v2/terms/static/licence-to-use-copernicus-products.pdf', 'uri': 'https://doi.org/10.24381/cds.bd0915c6'}}\n",
      "{'type': 'GdalMetaDataRegular', 'resultDescriptor': {'type': 'raster', 'dataType': 'I16', 'measurement': {'type': 'unitless'}, 'spatialReference': 'EPSG:4326'}, 'params': {'filePath': 'respect/ecmwf_era5/%_YEAR_%/%_MONTH_%/%_START_DATE_%_air_temperature_825.tif', 'rasterbandChannel': 1, 'geoTransform': {'originCoordinate': {'x': -82.125, 'y': 3.125}, 'xPixelSize': 0.25, 'yPixelSize': -0.25}, 'width': 33, 'height': 33, 'fileNotFoundHandling': 'NoData', 'noDataValue': -32767}, 'timePlaceholders': {'%_START_DATE_%': {'format': {'fmt': '%Y%m%d_%H%M', 'has_tz': False, 'has_time': True}, 'reference': 'start'}, '%_YEAR_%': {'format': {'fmt': '%Y', 'has_tz': False, 'has_time': True}, 'reference': 'start'}, '%_MONTH_%': {'format': {'fmt': '%m', 'has_tz': False, 'has_time': True}, 'reference': 'start'}}, 'dataTime': {'start': '1984-01-01T00:00:00Z', 'end': '2023-01-02T00:00:00Z'}, 'step': {'granularity': 'hours', 'step': 1}}\n",
      "{'id': '8ce7ea1a-ec10-4048-b248-2570f304afe7', 'name': 'ECMWF ERA5 Air Temperature Level 850', 'description': 'ECMWF ERA5 Air Temperature Level 850', 'sourceOperator': 'GdalSource', 'symbology': {'type': 'raster', 'colorizer': {'type': 'linearGradient', 'breakpoints': [{'value': -32766, 'color': (68, 1, 84, 255)}, {'value': -32307.5, 'color': (33, 145, 140, 255)}, {'value': -31849, 'color': (253, 231, 37, 255)}], 'noDataColor': (0, 0, 0, 0), 'defaultColor': (0, 0, 0, 0)}, 'opacity': 0.0}, 'provenance': {'citation': 'Hersbach, H., Bell, B., Berrisford, P., Biavati, G., Horányi, A., Muñoz Sabater, J., Nicolas, J., Peubey, C., Radu, R., Rozum, I., Schepers, D., Simmons, A., Soci, C., Dee, D., Thépaut, J-N. (2018): ERA5 hourly data on pressure levels from 1959 to present. Copernicus Climate Change Service (C3S) Climate Data Store (CDS). (Accessed on < DD-MMM-YYYY >), 10.24381/cds.bd0915c6', 'license': 'https://cds.climate.copernicus.eu/api/v2/terms/static/licence-to-use-copernicus-products.pdf', 'uri': 'https://doi.org/10.24381/cds.bd0915c6'}}\n",
      "{'type': 'GdalMetaDataRegular', 'resultDescriptor': {'type': 'raster', 'dataType': 'I16', 'measurement': {'type': 'unitless'}, 'spatialReference': 'EPSG:4326'}, 'params': {'filePath': 'respect/ecmwf_era5/%_YEAR_%/%_MONTH_%/%_START_DATE_%_air_temperature_850.tif', 'rasterbandChannel': 1, 'geoTransform': {'originCoordinate': {'x': -82.125, 'y': 3.125}, 'xPixelSize': 0.25, 'yPixelSize': -0.25}, 'width': 33, 'height': 33, 'fileNotFoundHandling': 'NoData', 'noDataValue': -32767}, 'timePlaceholders': {'%_START_DATE_%': {'format': {'fmt': '%Y%m%d_%H%M', 'has_tz': False, 'has_time': True}, 'reference': 'start'}, '%_YEAR_%': {'format': {'fmt': '%Y', 'has_tz': False, 'has_time': True}, 'reference': 'start'}, '%_MONTH_%': {'format': {'fmt': '%m', 'has_tz': False, 'has_time': True}, 'reference': 'start'}}, 'dataTime': {'start': '1984-01-01T00:00:00Z', 'end': '2023-01-02T00:00:00Z'}, 'step': {'granularity': 'hours', 'step': 1}}\n",
      "{'id': '5ada9cec-1983-42a7-99d7-a41f2cb9963c', 'name': 'ECMWF ERA5 Air Temperature Level 875', 'description': 'ECMWF ERA5 Air Temperature Level 875', 'sourceOperator': 'GdalSource', 'symbology': {'type': 'raster', 'colorizer': {'type': 'linearGradient', 'breakpoints': [{'value': -32766, 'color': (68, 1, 84, 255)}, {'value': -32307.5, 'color': (33, 145, 140, 255)}, {'value': -31849, 'color': (253, 231, 37, 255)}], 'noDataColor': (0, 0, 0, 0), 'defaultColor': (0, 0, 0, 0)}, 'opacity': 0.0}, 'provenance': {'citation': 'Hersbach, H., Bell, B., Berrisford, P., Biavati, G., Horányi, A., Muñoz Sabater, J., Nicolas, J., Peubey, C., Radu, R., Rozum, I., Schepers, D., Simmons, A., Soci, C., Dee, D., Thépaut, J-N. (2018): ERA5 hourly data on pressure levels from 1959 to present. Copernicus Climate Change Service (C3S) Climate Data Store (CDS). (Accessed on < DD-MMM-YYYY >), 10.24381/cds.bd0915c6', 'license': 'https://cds.climate.copernicus.eu/api/v2/terms/static/licence-to-use-copernicus-products.pdf', 'uri': 'https://doi.org/10.24381/cds.bd0915c6'}}\n",
      "{'type': 'GdalMetaDataRegular', 'resultDescriptor': {'type': 'raster', 'dataType': 'I16', 'measurement': {'type': 'unitless'}, 'spatialReference': 'EPSG:4326'}, 'params': {'filePath': 'respect/ecmwf_era5/%_YEAR_%/%_MONTH_%/%_START_DATE_%_air_temperature_875.tif', 'rasterbandChannel': 1, 'geoTransform': {'originCoordinate': {'x': -82.125, 'y': 3.125}, 'xPixelSize': 0.25, 'yPixelSize': -0.25}, 'width': 33, 'height': 33, 'fileNotFoundHandling': 'NoData', 'noDataValue': -32767}, 'timePlaceholders': {'%_START_DATE_%': {'format': {'fmt': '%Y%m%d_%H%M', 'has_tz': False, 'has_time': True}, 'reference': 'start'}, '%_YEAR_%': {'format': {'fmt': '%Y', 'has_tz': False, 'has_time': True}, 'reference': 'start'}, '%_MONTH_%': {'format': {'fmt': '%m', 'has_tz': False, 'has_time': True}, 'reference': 'start'}}, 'dataTime': {'start': '1984-01-01T00:00:00Z', 'end': '2023-01-02T00:00:00Z'}, 'step': {'granularity': 'hours', 'step': 1}}\n",
      "{'id': 'fd72b75f-7c67-4dbd-b82c-c313bfef2e18', 'name': 'ECMWF ERA5 Air Temperature Level 900', 'description': 'ECMWF ERA5 Air Temperature Level 900', 'sourceOperator': 'GdalSource', 'symbology': {'type': 'raster', 'colorizer': {'type': 'linearGradient', 'breakpoints': [{'value': -32766, 'color': (68, 1, 84, 255)}, {'value': -32307.5, 'color': (33, 145, 140, 255)}, {'value': -31849, 'color': (253, 231, 37, 255)}], 'noDataColor': (0, 0, 0, 0), 'defaultColor': (0, 0, 0, 0)}, 'opacity': 0.0}, 'provenance': {'citation': 'Hersbach, H., Bell, B., Berrisford, P., Biavati, G., Horányi, A., Muñoz Sabater, J., Nicolas, J., Peubey, C., Radu, R., Rozum, I., Schepers, D., Simmons, A., Soci, C., Dee, D., Thépaut, J-N. (2018): ERA5 hourly data on pressure levels from 1959 to present. Copernicus Climate Change Service (C3S) Climate Data Store (CDS). (Accessed on < DD-MMM-YYYY >), 10.24381/cds.bd0915c6', 'license': 'https://cds.climate.copernicus.eu/api/v2/terms/static/licence-to-use-copernicus-products.pdf', 'uri': 'https://doi.org/10.24381/cds.bd0915c6'}}\n",
      "{'type': 'GdalMetaDataRegular', 'resultDescriptor': {'type': 'raster', 'dataType': 'I16', 'measurement': {'type': 'unitless'}, 'spatialReference': 'EPSG:4326'}, 'params': {'filePath': 'respect/ecmwf_era5/%_YEAR_%/%_MONTH_%/%_START_DATE_%_air_temperature_900.tif', 'rasterbandChannel': 1, 'geoTransform': {'originCoordinate': {'x': -82.125, 'y': 3.125}, 'xPixelSize': 0.25, 'yPixelSize': -0.25}, 'width': 33, 'height': 33, 'fileNotFoundHandling': 'NoData', 'noDataValue': -32767}, 'timePlaceholders': {'%_START_DATE_%': {'format': {'fmt': '%Y%m%d_%H%M', 'has_tz': False, 'has_time': True}, 'reference': 'start'}, '%_YEAR_%': {'format': {'fmt': '%Y', 'has_tz': False, 'has_time': True}, 'reference': 'start'}, '%_MONTH_%': {'format': {'fmt': '%m', 'has_tz': False, 'has_time': True}, 'reference': 'start'}}, 'dataTime': {'start': '1984-01-01T00:00:00Z', 'end': '2023-01-02T00:00:00Z'}, 'step': {'granularity': 'hours', 'step': 1}}\n",
      "{'id': 'ce768c83-b7a4-4b72-8a24-4a793eb53ccb', 'name': 'ECMWF ERA5 Air Temperature Level 925', 'description': 'ECMWF ERA5 Air Temperature Level 925', 'sourceOperator': 'GdalSource', 'symbology': {'type': 'raster', 'colorizer': {'type': 'linearGradient', 'breakpoints': [{'value': -32766, 'color': (68, 1, 84, 255)}, {'value': -32307.5, 'color': (33, 145, 140, 255)}, {'value': -31849, 'color': (253, 231, 37, 255)}], 'noDataColor': (0, 0, 0, 0), 'defaultColor': (0, 0, 0, 0)}, 'opacity': 0.0}, 'provenance': {'citation': 'Hersbach, H., Bell, B., Berrisford, P., Biavati, G., Horányi, A., Muñoz Sabater, J., Nicolas, J., Peubey, C., Radu, R., Rozum, I., Schepers, D., Simmons, A., Soci, C., Dee, D., Thépaut, J-N. (2018): ERA5 hourly data on pressure levels from 1959 to present. Copernicus Climate Change Service (C3S) Climate Data Store (CDS). (Accessed on < DD-MMM-YYYY >), 10.24381/cds.bd0915c6', 'license': 'https://cds.climate.copernicus.eu/api/v2/terms/static/licence-to-use-copernicus-products.pdf', 'uri': 'https://doi.org/10.24381/cds.bd0915c6'}}\n",
      "{'type': 'GdalMetaDataRegular', 'resultDescriptor': {'type': 'raster', 'dataType': 'I16', 'measurement': {'type': 'unitless'}, 'spatialReference': 'EPSG:4326'}, 'params': {'filePath': 'respect/ecmwf_era5/%_YEAR_%/%_MONTH_%/%_START_DATE_%_air_temperature_925.tif', 'rasterbandChannel': 1, 'geoTransform': {'originCoordinate': {'x': -82.125, 'y': 3.125}, 'xPixelSize': 0.25, 'yPixelSize': -0.25}, 'width': 33, 'height': 33, 'fileNotFoundHandling': 'NoData', 'noDataValue': -32767}, 'timePlaceholders': {'%_START_DATE_%': {'format': {'fmt': '%Y%m%d_%H%M', 'has_tz': False, 'has_time': True}, 'reference': 'start'}, '%_YEAR_%': {'format': {'fmt': '%Y', 'has_tz': False, 'has_time': True}, 'reference': 'start'}, '%_MONTH_%': {'format': {'fmt': '%m', 'has_tz': False, 'has_time': True}, 'reference': 'start'}}, 'dataTime': {'start': '1984-01-01T00:00:00Z', 'end': '2023-01-02T00:00:00Z'}, 'step': {'granularity': 'hours', 'step': 1}}\n",
      "{'id': '8835b0f1-6106-4ee2-b91b-5a136142fc58', 'name': 'ECMWF ERA5 Air Temperature Level 950', 'description': 'ECMWF ERA5 Air Temperature Level 950', 'sourceOperator': 'GdalSource', 'symbology': {'type': 'raster', 'colorizer': {'type': 'linearGradient', 'breakpoints': [{'value': -32766, 'color': (68, 1, 84, 255)}, {'value': -32307.5, 'color': (33, 145, 140, 255)}, {'value': -31849, 'color': (253, 231, 37, 255)}], 'noDataColor': (0, 0, 0, 0), 'defaultColor': (0, 0, 0, 0)}, 'opacity': 0.0}, 'provenance': {'citation': 'Hersbach, H., Bell, B., Berrisford, P., Biavati, G., Horányi, A., Muñoz Sabater, J., Nicolas, J., Peubey, C., Radu, R., Rozum, I., Schepers, D., Simmons, A., Soci, C., Dee, D., Thépaut, J-N. (2018): ERA5 hourly data on pressure levels from 1959 to present. Copernicus Climate Change Service (C3S) Climate Data Store (CDS). (Accessed on < DD-MMM-YYYY >), 10.24381/cds.bd0915c6', 'license': 'https://cds.climate.copernicus.eu/api/v2/terms/static/licence-to-use-copernicus-products.pdf', 'uri': 'https://doi.org/10.24381/cds.bd0915c6'}}\n",
      "{'type': 'GdalMetaDataRegular', 'resultDescriptor': {'type': 'raster', 'dataType': 'I16', 'measurement': {'type': 'unitless'}, 'spatialReference': 'EPSG:4326'}, 'params': {'filePath': 'respect/ecmwf_era5/%_YEAR_%/%_MONTH_%/%_START_DATE_%_air_temperature_950.tif', 'rasterbandChannel': 1, 'geoTransform': {'originCoordinate': {'x': -82.125, 'y': 3.125}, 'xPixelSize': 0.25, 'yPixelSize': -0.25}, 'width': 33, 'height': 33, 'fileNotFoundHandling': 'NoData', 'noDataValue': -32767}, 'timePlaceholders': {'%_START_DATE_%': {'format': {'fmt': '%Y%m%d_%H%M', 'has_tz': False, 'has_time': True}, 'reference': 'start'}, '%_YEAR_%': {'format': {'fmt': '%Y', 'has_tz': False, 'has_time': True}, 'reference': 'start'}, '%_MONTH_%': {'format': {'fmt': '%m', 'has_tz': False, 'has_time': True}, 'reference': 'start'}}, 'dataTime': {'start': '1984-01-01T00:00:00Z', 'end': '2023-01-02T00:00:00Z'}, 'step': {'granularity': 'hours', 'step': 1}}\n",
      "{'id': 'd0135d9c-d1ce-495d-9d6e-41462ce93150', 'name': 'ECMWF ERA5 Air Temperature Level 975', 'description': 'ECMWF ERA5 Air Temperature Level 975', 'sourceOperator': 'GdalSource', 'symbology': {'type': 'raster', 'colorizer': {'type': 'linearGradient', 'breakpoints': [{'value': -32766, 'color': (68, 1, 84, 255)}, {'value': -32307.5, 'color': (33, 145, 140, 255)}, {'value': -31849, 'color': (253, 231, 37, 255)}], 'noDataColor': (0, 0, 0, 0), 'defaultColor': (0, 0, 0, 0)}, 'opacity': 0.0}, 'provenance': {'citation': 'Hersbach, H., Bell, B., Berrisford, P., Biavati, G., Horányi, A., Muñoz Sabater, J., Nicolas, J., Peubey, C., Radu, R., Rozum, I., Schepers, D., Simmons, A., Soci, C., Dee, D., Thépaut, J-N. (2018): ERA5 hourly data on pressure levels from 1959 to present. Copernicus Climate Change Service (C3S) Climate Data Store (CDS). (Accessed on < DD-MMM-YYYY >), 10.24381/cds.bd0915c6', 'license': 'https://cds.climate.copernicus.eu/api/v2/terms/static/licence-to-use-copernicus-products.pdf', 'uri': 'https://doi.org/10.24381/cds.bd0915c6'}}\n",
      "{'type': 'GdalMetaDataRegular', 'resultDescriptor': {'type': 'raster', 'dataType': 'I16', 'measurement': {'type': 'unitless'}, 'spatialReference': 'EPSG:4326'}, 'params': {'filePath': 'respect/ecmwf_era5/%_YEAR_%/%_MONTH_%/%_START_DATE_%_air_temperature_975.tif', 'rasterbandChannel': 1, 'geoTransform': {'originCoordinate': {'x': -82.125, 'y': 3.125}, 'xPixelSize': 0.25, 'yPixelSize': -0.25}, 'width': 33, 'height': 33, 'fileNotFoundHandling': 'NoData', 'noDataValue': -32767}, 'timePlaceholders': {'%_START_DATE_%': {'format': {'fmt': '%Y%m%d_%H%M', 'has_tz': False, 'has_time': True}, 'reference': 'start'}, '%_YEAR_%': {'format': {'fmt': '%Y', 'has_tz': False, 'has_time': True}, 'reference': 'start'}, '%_MONTH_%': {'format': {'fmt': '%m', 'has_tz': False, 'has_time': True}, 'reference': 'start'}}, 'dataTime': {'start': '1984-01-01T00:00:00Z', 'end': '2023-01-02T00:00:00Z'}, 'step': {'granularity': 'hours', 'step': 1}}\n",
      "{'id': '06589b99-c9e4-4bb3-bde2-e425745c6255', 'name': 'ECMWF ERA5 Air Temperature Level 1000', 'description': 'ECMWF ERA5 Air Temperature Level 1000', 'sourceOperator': 'GdalSource', 'symbology': {'type': 'raster', 'colorizer': {'type': 'linearGradient', 'breakpoints': [{'value': -32766, 'color': (68, 1, 84, 255)}, {'value': -32307.5, 'color': (33, 145, 140, 255)}, {'value': -31849, 'color': (253, 231, 37, 255)}], 'noDataColor': (0, 0, 0, 0), 'defaultColor': (0, 0, 0, 0)}, 'opacity': 0.0}, 'provenance': {'citation': 'Hersbach, H., Bell, B., Berrisford, P., Biavati, G., Horányi, A., Muñoz Sabater, J., Nicolas, J., Peubey, C., Radu, R., Rozum, I., Schepers, D., Simmons, A., Soci, C., Dee, D., Thépaut, J-N. (2018): ERA5 hourly data on pressure levels from 1959 to present. Copernicus Climate Change Service (C3S) Climate Data Store (CDS). (Accessed on < DD-MMM-YYYY >), 10.24381/cds.bd0915c6', 'license': 'https://cds.climate.copernicus.eu/api/v2/terms/static/licence-to-use-copernicus-products.pdf', 'uri': 'https://doi.org/10.24381/cds.bd0915c6'}}\n",
      "{'type': 'GdalMetaDataRegular', 'resultDescriptor': {'type': 'raster', 'dataType': 'I16', 'measurement': {'type': 'unitless'}, 'spatialReference': 'EPSG:4326'}, 'params': {'filePath': 'respect/ecmwf_era5/%_YEAR_%/%_MONTH_%/%_START_DATE_%_air_temperature_1000.tif', 'rasterbandChannel': 1, 'geoTransform': {'originCoordinate': {'x': -82.125, 'y': 3.125}, 'xPixelSize': 0.25, 'yPixelSize': -0.25}, 'width': 33, 'height': 33, 'fileNotFoundHandling': 'NoData', 'noDataValue': -32767}, 'timePlaceholders': {'%_START_DATE_%': {'format': {'fmt': '%Y%m%d_%H%M', 'has_tz': False, 'has_time': True}, 'reference': 'start'}, '%_YEAR_%': {'format': {'fmt': '%Y', 'has_tz': False, 'has_time': True}, 'reference': 'start'}, '%_MONTH_%': {'format': {'fmt': '%m', 'has_tz': False, 'has_time': True}, 'reference': 'start'}}, 'dataTime': {'start': '1984-01-01T00:00:00Z', 'end': '2023-01-02T00:00:00Z'}, 'step': {'granularity': 'hours', 'step': 1}}\n"
     ]
    }
   ],
   "source": [
    "(name, file_name_suffix, _era5_variable, _measurement) = named_variables[0]\n",
    "for level in pressure_levels:\n",
    "  dataset_id = dataset_ids_air_temperature[level]\n",
    "  (a,m) = generate_add_dataset(volumes[2], data_path_in_volume, name, file_name_suffix, level, dataset_id, start_time, end_time)\n",
    "  print(a.to_api_dict())\n",
    "  print(m)\n",
    "  dataset_id = ge.add_public_raster_dataset(volumes[0].name, a, m)\n",
    "  "
   ]
  },
  {
   "cell_type": "code",
   "execution_count": null,
   "metadata": {},
   "outputs": [],
   "source": []
  },
  {
   "cell_type": "code",
   "execution_count": 7,
   "metadata": {},
   "outputs": [
    {
     "ename": "NameError",
     "evalue": "name 'add_dataset_properties' is not defined",
     "output_type": "error",
     "traceback": [
      "\u001b[0;31m---------------------------------------------------------------------------\u001b[0m",
      "\u001b[0;31mNameError\u001b[0m                                 Traceback (most recent call last)",
      "Cell \u001b[0;32mIn [7], line 1\u001b[0m\n\u001b[0;32m----> 1\u001b[0m dataset_id \u001b[39m=\u001b[39m ge\u001b[39m.\u001b[39madd_public_raster_dataset(volumes[\u001b[39m0\u001b[39m]\u001b[39m.\u001b[39mname, add_dataset_properties, meta_data)\n\u001b[1;32m      3\u001b[0m dataset_id\n",
      "\u001b[0;31mNameError\u001b[0m: name 'add_dataset_properties' is not defined"
     ]
    }
   ],
   "source": [
    "dataset_id = ge.add_public_raster_dataset(volumes[0].name, add_dataset_properties, meta_data)\n",
    "\n",
    "dataset_id"
   ]
  }
 ],
 "metadata": {
  "kernelspec": {
   "display_name": "env",
   "language": "python",
   "name": "python3"
  },
  "language_info": {
   "codemirror_mode": {
    "name": "ipython",
    "version": 3
   },
   "file_extension": ".py",
   "mimetype": "text/x-python",
   "name": "python",
   "nbconvert_exporter": "python",
   "pygments_lexer": "ipython3",
   "version": "3.10.6"
  },
  "orig_nbformat": 4,
  "vscode": {
   "interpreter": {
    "hash": "7a10ca932ff03f4c637e11f8207fe4e003ad6532d0070b911d37acf855f595fc"
   }
  }
 },
 "nbformat": 4,
 "nbformat_minor": 2
}
