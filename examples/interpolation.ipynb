{
 "cells": [
  {
   "cell_type": "markdown",
   "metadata": {},
   "source": [
    "# Interpolate raster data"
   ]
  },
  {
   "cell_type": "code",
   "execution_count": 16,
   "metadata": {},
   "outputs": [],
   "source": [
    "import geoengine as ge\n",
    "\n",
    "from datetime import datetime\n",
    "import matplotlib.pyplot as plt"
   ]
  },
  {
   "cell_type": "code",
   "execution_count": 17,
   "metadata": {},
   "outputs": [],
   "source": [
    "ge.initialize(\"http://localhost:3030\")"
   ]
  },
  {
   "cell_type": "code",
   "execution_count": 18,
   "metadata": {},
   "outputs": [
    {
     "data": {
      "text/plain": [
       "Server:              http://localhost:3030\n",
       "Session Id:          18fec623-6600-41af-b82b-24ccf47cb9f9"
      ]
     },
     "execution_count": 18,
     "metadata": {},
     "output_type": "execute_result"
    }
   ],
   "source": [
    "session = ge.get_session()\n",
    "session"
   ]
  },
  {
   "cell_type": "markdown",
   "metadata": {},
   "source": [
    "## Define workflows"
   ]
  },
  {
   "cell_type": "code",
   "execution_count": 19,
   "metadata": {},
   "outputs": [
    {
     "data": {
      "text/plain": [
       "c7b7c5c8-ee11-5418-bd1f-9e5889f6e04a"
      ]
     },
     "execution_count": 19,
     "metadata": {},
     "output_type": "execute_result"
    }
   ],
   "source": [
    "workflow = ge.register_workflow({\n",
    "    \"type\": \"Raster\",\n",
    "    \"operator\": {\n",
    "        \"type\": \"GdalSource\",\n",
    "        \"params\": {\n",
    "            \"data\": {\n",
    "                \"type\": \"internal\",\n",
    "                \"datasetId\": \"36574dc3-560a-4b09-9d22-d5945f2b8093\"\n",
    "            }\n",
    "        }\n",
    "    }\n",
    "})\n",
    "workflow"
   ]
  },
  {
   "cell_type": "code",
   "execution_count": 20,
   "metadata": {},
   "outputs": [
    {
     "data": {
      "text/plain": [
       "1b5bfc3f-c17d-5cf5-af88-d87e8e409777"
      ]
     },
     "execution_count": 20,
     "metadata": {},
     "output_type": "execute_result"
    }
   ],
   "source": [
    "workflow_interpolation = ge.register_workflow({\n",
    "    \"type\": \"Raster\",\n",
    "    \"operator\": {\n",
    "        \"type\": \"Interpolation\",\n",
    "        \"params\": {\n",
    "            \"interpolation\": \"biLinear\",\n",
    "            \"inputResolution\": {\n",
    "                \"type\": \"native\"\n",
    "            }\n",
    "        },\n",
    "        \"sources\": {\n",
    "            \"raster\": {\n",
    "                \"type\": \"GdalSource\",\n",
    "                \"params\": {\n",
    "                    \"data\": {\n",
    "                        \"type\": \"internal\",\n",
    "                        \"datasetId\": \"36574dc3-560a-4b09-9d22-d5945f2b8093\"\n",
    "                    }\n",
    "                }\n",
    "            }\n",
    "        }\n",
    "    }\n",
    "})\n",
    "\n",
    "workflow_interpolation"
   ]
  },
  {
   "cell_type": "markdown",
   "metadata": {},
   "source": [
    "## Query the data"
   ]
  },
  {
   "cell_type": "code",
   "execution_count": 34,
   "metadata": {},
   "outputs": [],
   "source": [
    "time = datetime.strptime(\n",
    "    '2014-04-01T12:00:00.000Z', \"%Y-%m-%dT%H:%M:%S.%f%z\")\n",
    "\n",
    "bbox = [43.59375,5.625,45,7.03125]\n",
    "\n",
    "size = [32, 32]\n",
    "\n",
    "resolution = [(bbox[2] - bbox[0]) / size[0], (bbox[3] - bbox[1]) / size[1]]\n",
    "\n",
    "data = workflow.get_xarray(\n",
    "    ge.QueryRectangle(\n",
    "        bbox,\n",
    "        [time, time],\n",
    "        resolution=resolution,\n",
    "        )\n",
    ")\n",
    "\n",
    "data_interpolation = workflow_interpolation.get_xarray(\n",
    "    ge.QueryRectangle(\n",
    "        bbox,\n",
    "        [time, time],\n",
    "        resolution=resolution,\n",
    "        )\n",
    ")"
   ]
  },
  {
   "cell_type": "markdown",
   "metadata": {},
   "source": [
    "## Plot the data"
   ]
  },
  {
   "cell_type": "code",
   "execution_count": 45,
   "metadata": {},
   "outputs": [
    {
     "data": {
      "text/plain": [
       "<matplotlib.collections.QuadMesh at 0x7f9637717790>"
      ]
     },
     "execution_count": 45,
     "metadata": {},
     "output_type": "execute_result"
    },
    {
     "data": {
      "image/png": "[encoded data removed]",
      "text/plain": [
       "<Figure size 360x360 with 4 Axes>"
      ]
     },
     "metadata": {
      "needs_background": "light"
     },
     "output_type": "display_data"
    }
   ],
   "source": [
    "figure, axis = plt.subplots(nrows=2, figsize=(10,10))\n",
    "axis[0].set_title('Original Data', loc='left')\n",
    "axis[1].set_title('Interpolated Data', loc='left')\n",
    "\n",
    "plt.tight_layout()\n",
    "data.plot(ax=axis[0])\n",
    "data_interpolation.plot(ax=axis[1])\n"
   ]
  },
  {
   "cell_type": "code",
   "execution_count": null,
   "metadata": {},
   "outputs": [],
   "source": []
  }
 ],
 "metadata": {
  "kernelspec": {
   "display_name": "geoengine-python",
   "language": "python",
   "name": "geoengine-python"
  },
  "language_info": {
   "codemirror_mode": {
    "name": "ipython",
    "version": 3
   },
   "file_extension": ".py",
   "mimetype": "text/x-python",
   "name": "python",
   "nbconvert_exporter": "python",
   "pygments_lexer": "ipython3",
   "version": "3.8.10"
  },
  "orig_nbformat": 4
 },
 "nbformat": 4,
 "nbformat_minor": 2
}
